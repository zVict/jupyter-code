{
 "cells": [
  {
   "cell_type": "markdown",
   "metadata": {
    "colab_type": "text",
    "id": "hIqzqDr1OOuB"
   },
   "source": [
    "# Python Crash Course\n",
    "\n",
    "*(Compiled from various sources on the internet by HK Tan and myself)*"
   ]
  },
  {
   "cell_type": "markdown",
   "metadata": {
    "colab_type": "text",
    "id": "ilALUb-FPJZw"
   },
   "source": [
    "\n",
    "\n",
    "---\n",
    "\n",
    "\n",
    "## Quick note about Jupyter\n",
    "\n",
    "This document is a Jupyter notebook. A Jupyter notebook consists of **text** cells and/or **code** cells. \n",
    "\n",
    "**Text cells** consists of instruction text while **code cells** contains Python codes.\n",
    "\n",
    "You can run a code cell by moving the cursor to the cell's left-hand side. A run button  ![代替テキスト](https://raw.githubusercontent.com/kalngyk/repoman/master/run.png) will appear. Clicking on the \"run\" button executes the cell. After that, the run button turns into a stop button ![代替テキスト](https://raw.githubusercontent.com/kalngyk/repoman/master/stop.png) -- clicking on the stop button will interrupt the cell's execution. When the execution ends, the stop button turns back into a run button. If the execution runs into problem, the stop cursor will turn into a red-colored run button ![代替テキスト](https://raw.githubusercontent.com/kalngyk/repoman/master/error.png) to indicate that the execution failed.\n",
    "\n",
    "*Tips: While your cursor is within a code cell, you can run the cell by pressing **`<Shift>+<Enter>`** instead of clicking the run button.*\n",
    "\n",
    "The output messages of a code cell is shown immediately below the cell. You can clear the output messages of a cell by right-clicking over the \"run\" button and selecting **\"Clear output\"**. The menu which shows up when you right-click over the \"run\" button also allows you to delete the associated cell.\n",
    "\n",
    "To create a new cell or reposition a cell, use the menu at the top of the page: ![代替テキスト](https://raw.githubusercontent.com/kalngyk/repoman/master/menubar.png).\n",
    "\n",
    "*Tips: Pressing* **`<Control>+<s>`** *saves changes you have made to the notebook immediately.*\n",
    "\n",
    "## Quick note about Google Colab\n",
    "\n",
    "This Jupyter notebook runs on Google Colab, a free cloud platform for running Python codes with **GPU support**. To enable/disable GPU for a notebook, go to the top menu and choose \"**Edit**> **Notebook Settings**> **Hardware Accelarator**\".\n",
    "\n",
    "When a colab session is first started, a VM (virtual machine) is assigned to the session to store your files as well as execute your codes. However, each session lasts only for 12 hours. When the session ends, your variables and files created during the session is deleted. While you can continue to work by restarting a new session, you will need to restore your variables and files. To save those data across different sessions, you are advised to carefully output them to your local drive or to Google Drive."
   ]
  },
  {
   "cell_type": "markdown",
   "metadata": {
    "colab_type": "text",
    "id": "lILxwOnqAdmH"
   },
   "source": [
    "\n",
    "\n",
    "---\n",
    "\n",
    "# Section 1: Operators and variables"
   ]
  },
  {
   "cell_type": "markdown",
   "metadata": {
    "colab_type": "text",
    "id": "z3t9FYuNTbaP"
   },
   "source": [
    "## Arithmetic operators\n",
    "The Python interpreter can be used to evaluate expressions, for example simple arithmetic expressions."
   ]
  },
  {
   "cell_type": "code",
   "execution_count": 1,
   "metadata": {
    "colab": {
     "base_uri": "https://localhost:8080/",
     "height": 35
    },
    "colab_type": "code",
    "executionInfo": {
     "elapsed": 756,
     "status": "ok",
     "timestamp": 1562162295740,
     "user": {
      "displayName": "Kal Ng",
      "photoUrl": "https://lh3.googleusercontent.com/-rYifCyrVYpQ/AAAAAAAAAAI/AAAAAAAABXY/SdD6uwQAGEA/s64/photo.jpg",
      "userId": "16935662242496658514"
     },
     "user_tz": -540
    },
    "id": "fb5lWi7NOOuC",
    "outputId": "6e4a6a9a-d21d-4f50-d1cb-53c97c017e0e"
   },
   "outputs": [
    {
     "data": {
      "text/plain": [
       "2"
      ]
     },
     "execution_count": 1,
     "metadata": {
      "tags": []
     },
     "output_type": "execute_result"
    }
   ],
   "source": [
    "# This is a comment\n",
    "1 + 1   # addition operation"
   ]
  },
  {
   "cell_type": "code",
   "execution_count": 2,
   "metadata": {
    "colab": {
     "base_uri": "https://localhost:8080/",
     "height": 35
    },
    "colab_type": "code",
    "executionInfo": {
     "elapsed": 610,
     "status": "ok",
     "timestamp": 1562162297349,
     "user": {
      "displayName": "Kal Ng",
      "photoUrl": "https://lh3.googleusercontent.com/-rYifCyrVYpQ/AAAAAAAAAAI/AAAAAAAABXY/SdD6uwQAGEA/s64/photo.jpg",
      "userId": "16935662242496658514"
     },
     "user_tz": -540
    },
    "id": "JMPEBfQWOOuI",
    "outputId": "1e84d995-dc8e-46cd-d91c-29cb456e6c3d"
   },
   "outputs": [
    {
     "data": {
      "text/plain": [
       "6"
      ]
     },
     "execution_count": 2,
     "metadata": {
      "tags": []
     },
     "output_type": "execute_result"
    }
   ],
   "source": [
    "2 * 3   # multiplication operaiton"
   ]
  },
  {
   "cell_type": "code",
   "execution_count": 3,
   "metadata": {
    "colab": {
     "base_uri": "https://localhost:8080/",
     "height": 35
    },
    "colab_type": "code",
    "executionInfo": {
     "elapsed": 612,
     "status": "ok",
     "timestamp": 1562162300186,
     "user": {
      "displayName": "Kal Ng",
      "photoUrl": "https://lh3.googleusercontent.com/-rYifCyrVYpQ/AAAAAAAAAAI/AAAAAAAABXY/SdD6uwQAGEA/s64/photo.jpg",
      "userId": "16935662242496658514"
     },
     "user_tz": -540
    },
    "id": "2sjN9NIOOOuM",
    "outputId": "9cd9c3cb-e67a-45c1-cc31-d13dff497dda"
   },
   "outputs": [
    {
     "data": {
      "text/plain": [
       "3.6666666666666665"
      ]
     },
     "execution_count": 3,
     "metadata": {
      "tags": []
     },
     "output_type": "execute_result"
    }
   ],
   "source": [
    "11 / 3  # Normal division"
   ]
  },
  {
   "cell_type": "code",
   "execution_count": 4,
   "metadata": {
    "colab": {
     "base_uri": "https://localhost:8080/",
     "height": 35
    },
    "colab_type": "code",
    "executionInfo": {
     "elapsed": 609,
     "status": "ok",
     "timestamp": 1562162302080,
     "user": {
      "displayName": "Kal Ng",
      "photoUrl": "https://lh3.googleusercontent.com/-rYifCyrVYpQ/AAAAAAAAAAI/AAAAAAAABXY/SdD6uwQAGEA/s64/photo.jpg",
      "userId": "16935662242496658514"
     },
     "user_tz": -540
    },
    "id": "N-qOxu-COOuR",
    "outputId": "2d4847e4-df7b-4ed0-91f0-4b9ab01988c0"
   },
   "outputs": [
    {
     "data": {
      "text/plain": [
       "3"
      ]
     },
     "execution_count": 4,
     "metadata": {
      "tags": []
     },
     "output_type": "execute_result"
    }
   ],
   "source": [
    "11 // 3 # integer division"
   ]
  },
  {
   "cell_type": "code",
   "execution_count": 5,
   "metadata": {
    "colab": {
     "base_uri": "https://localhost:8080/",
     "height": 35
    },
    "colab_type": "code",
    "executionInfo": {
     "elapsed": 591,
     "status": "ok",
     "timestamp": 1562162304817,
     "user": {
      "displayName": "Kal Ng",
      "photoUrl": "https://lh3.googleusercontent.com/-rYifCyrVYpQ/AAAAAAAAAAI/AAAAAAAABXY/SdD6uwQAGEA/s64/photo.jpg",
      "userId": "16935662242496658514"
     },
     "user_tz": -540
    },
    "id": "6-tSBXKvOOuV",
    "outputId": "02834bd5-760a-4596-f08c-575d1c69ea52"
   },
   "outputs": [
    {
     "data": {
      "text/plain": [
       "2"
      ]
     },
     "execution_count": 5,
     "metadata": {
      "tags": []
     },
     "output_type": "execute_result"
    }
   ],
   "source": [
    "11 % 3  # modulus operation"
   ]
  },
  {
   "cell_type": "code",
   "execution_count": 6,
   "metadata": {
    "colab": {
     "base_uri": "https://localhost:8080/",
     "height": 35
    },
    "colab_type": "code",
    "executionInfo": {
     "elapsed": 588,
     "status": "ok",
     "timestamp": 1562162306469,
     "user": {
      "displayName": "Kal Ng",
      "photoUrl": "https://lh3.googleusercontent.com/-rYifCyrVYpQ/AAAAAAAAAAI/AAAAAAAABXY/SdD6uwQAGEA/s64/photo.jpg",
      "userId": "16935662242496658514"
     },
     "user_tz": -540
    },
    "id": "le-LompsOOuY",
    "outputId": "10e5a6d8-d2b7-4966-e3ae-4d88a0be0960"
   },
   "outputs": [
    {
     "data": {
      "text/plain": [
       "8"
      ]
     },
     "execution_count": 6,
     "metadata": {
      "tags": []
     },
     "output_type": "execute_result"
    }
   ],
   "source": [
    "2 ** 3  # exponent operation"
   ]
  },
  {
   "cell_type": "markdown",
   "metadata": {
    "colab_type": "text",
    "id": "VpP6Zc7SOOud"
   },
   "source": [
    "Boolean operators also exist in Python to manipulate the primitive True and False values."
   ]
  },
  {
   "cell_type": "code",
   "execution_count": 7,
   "metadata": {
    "colab": {
     "base_uri": "https://localhost:8080/",
     "height": 35
    },
    "colab_type": "code",
    "executionInfo": {
     "elapsed": 591,
     "status": "ok",
     "timestamp": 1562162308562,
     "user": {
      "displayName": "Kal Ng",
      "photoUrl": "https://lh3.googleusercontent.com/-rYifCyrVYpQ/AAAAAAAAAAI/AAAAAAAABXY/SdD6uwQAGEA/s64/photo.jpg",
      "userId": "16935662242496658514"
     },
     "user_tz": -540
    },
    "id": "D1wJoTcKOOud",
    "outputId": "04ba7fcb-2270-4453-eba9-238dbd1b4e70"
   },
   "outputs": [
    {
     "data": {
      "text/plain": [
       "False"
      ]
     },
     "execution_count": 7,
     "metadata": {
      "tags": []
     },
     "output_type": "execute_result"
    }
   ],
   "source": [
    "1 == 0"
   ]
  },
  {
   "cell_type": "code",
   "execution_count": 8,
   "metadata": {
    "colab": {
     "base_uri": "https://localhost:8080/",
     "height": 35
    },
    "colab_type": "code",
    "executionInfo": {
     "elapsed": 608,
     "status": "ok",
     "timestamp": 1562162310235,
     "user": {
      "displayName": "Kal Ng",
      "photoUrl": "https://lh3.googleusercontent.com/-rYifCyrVYpQ/AAAAAAAAAAI/AAAAAAAABXY/SdD6uwQAGEA/s64/photo.jpg",
      "userId": "16935662242496658514"
     },
     "user_tz": -540
    },
    "id": "1WkICa0XOOuh",
    "outputId": "2f1e0d88-b055-40fc-fa6a-295d3673d47f"
   },
   "outputs": [
    {
     "data": {
      "text/plain": [
       "True"
      ]
     },
     "execution_count": 8,
     "metadata": {
      "tags": []
     },
     "output_type": "execute_result"
    }
   ],
   "source": [
    "not (1 == 0)"
   ]
  },
  {
   "cell_type": "code",
   "execution_count": 9,
   "metadata": {
    "colab": {
     "base_uri": "https://localhost:8080/",
     "height": 35
    },
    "colab_type": "code",
    "executionInfo": {
     "elapsed": 599,
     "status": "ok",
     "timestamp": 1562162313447,
     "user": {
      "displayName": "Kal Ng",
      "photoUrl": "https://lh3.googleusercontent.com/-rYifCyrVYpQ/AAAAAAAAAAI/AAAAAAAABXY/SdD6uwQAGEA/s64/photo.jpg",
      "userId": "16935662242496658514"
     },
     "user_tz": -540
    },
    "id": "Beq0EP_GOOuk",
    "outputId": "bdc16297-8229-4152-f0bc-fd55df5746fa"
   },
   "outputs": [
    {
     "data": {
      "text/plain": [
       "False"
      ]
     },
     "execution_count": 9,
     "metadata": {
      "tags": []
     },
     "output_type": "execute_result"
    }
   ],
   "source": [
    "(2 == 2) and (2 == 3)"
   ]
  },
  {
   "cell_type": "code",
   "execution_count": 10,
   "metadata": {
    "colab": {
     "base_uri": "https://localhost:8080/",
     "height": 35
    },
    "colab_type": "code",
    "executionInfo": {
     "elapsed": 584,
     "status": "ok",
     "timestamp": 1562162314647,
     "user": {
      "displayName": "Kal Ng",
      "photoUrl": "https://lh3.googleusercontent.com/-rYifCyrVYpQ/AAAAAAAAAAI/AAAAAAAABXY/SdD6uwQAGEA/s64/photo.jpg",
      "userId": "16935662242496658514"
     },
     "user_tz": -540
    },
    "id": "XOK9VHFmOOvG",
    "outputId": "e9316fc7-34b7-41cd-ed25-d0b0647e03e9"
   },
   "outputs": [
    {
     "data": {
      "text/plain": [
       "True"
      ]
     },
     "execution_count": 10,
     "metadata": {
      "tags": []
     },
     "output_type": "execute_result"
    }
   ],
   "source": [
    "(2 == 2) or (2 == 3)"
   ]
  },
  {
   "cell_type": "markdown",
   "metadata": {
    "colab_type": "text",
    "id": "_GvUvrQbOOvJ"
   },
   "source": [
    "## Variables\n",
    "\n",
    "We can also store expressions into variables. Here are some important rules about using variables in Python:\n",
    "\n",
    "You do not have to perform variable declaration, but a variable must be created before it can be used. (In Jupyter notebook, the variables created by running a code cell is immediately available in other code cells.)\n",
    "\n",
    "The type of a variable is automatically determined based on the value assigned.\n",
    "\n"
   ]
  },
  {
   "cell_type": "code",
   "execution_count": 11,
   "metadata": {
    "colab": {
     "base_uri": "https://localhost:8080/",
     "height": 54
    },
    "colab_type": "code",
    "executionInfo": {
     "elapsed": 595,
     "status": "ok",
     "timestamp": 1562162318518,
     "user": {
      "displayName": "Kal Ng",
      "photoUrl": "https://lh3.googleusercontent.com/-rYifCyrVYpQ/AAAAAAAAAAI/AAAAAAAABXY/SdD6uwQAGEA/s64/photo.jpg",
      "userId": "16935662242496658514"
     },
     "user_tz": -540
    },
    "id": "AT9nl63mOOvJ",
    "outputId": "334e52ca-f797-44dc-e5d0-f3d7806f015d"
   },
   "outputs": [
    {
     "name": "stdout",
     "output_type": "stream",
     "text": [
      "hello world\n",
      "<class 'str'>\n"
     ]
    }
   ],
   "source": [
    "s = 'hello world'   # defining a variable\n",
    "print(s)\n",
    "print(type(s))"
   ]
  },
  {
   "cell_type": "markdown",
   "metadata": {
    "colab_type": "text",
    "id": "H1SidTyDOOvM"
   },
   "source": [
    "In the above code, we use `type` to display the type of `s`. Since 'hello world' is a string, the variable `s` is of type string."
   ]
  },
  {
   "cell_type": "code",
   "execution_count": 12,
   "metadata": {
    "colab": {
     "base_uri": "https://localhost:8080/",
     "height": 54
    },
    "colab_type": "code",
    "executionInfo": {
     "elapsed": 583,
     "status": "ok",
     "timestamp": 1562162320210,
     "user": {
      "displayName": "Kal Ng",
      "photoUrl": "https://lh3.googleusercontent.com/-rYifCyrVYpQ/AAAAAAAAAAI/AAAAAAAABXY/SdD6uwQAGEA/s64/photo.jpg",
      "userId": "16935662242496658514"
     },
     "user_tz": -540
    },
    "id": "BUHJHtxrOOvM",
    "outputId": "b01c7ef0-7ce9-4436-f2f6-f3438e4e0367"
   },
   "outputs": [
    {
     "name": "stdout",
     "output_type": "stream",
     "text": [
      "7.3\n",
      "<class 'float'>\n"
     ]
    }
   ],
   "source": [
    "fval = 7.3   # this will create a floating point variable\n",
    "print(fval)\n",
    "print(type(fval))"
   ]
  },
  {
   "cell_type": "code",
   "execution_count": 13,
   "metadata": {
    "colab": {
     "base_uri": "https://localhost:8080/",
     "height": 54
    },
    "colab_type": "code",
    "executionInfo": {
     "elapsed": 583,
     "status": "ok",
     "timestamp": 1562162322772,
     "user": {
      "displayName": "Kal Ng",
      "photoUrl": "https://lh3.googleusercontent.com/-rYifCyrVYpQ/AAAAAAAAAAI/AAAAAAAABXY/SdD6uwQAGEA/s64/photo.jpg",
      "userId": "16935662242496658514"
     },
     "user_tz": -540
    },
    "id": "ftnH5MOEOOvR",
    "outputId": "4369a415-5837-4ef9-fa66-5f6542c80557"
   },
   "outputs": [
    {
     "name": "stdout",
     "output_type": "stream",
     "text": [
      "12\n",
      "<class 'int'>\n"
     ]
    }
   ],
   "source": [
    "ival = 12    # this will create an integer variable\n",
    "print(ival)\n",
    "print(type(ival))"
   ]
  },
  {
   "cell_type": "code",
   "execution_count": 14,
   "metadata": {
    "colab": {
     "base_uri": "https://localhost:8080/",
     "height": 35
    },
    "colab_type": "code",
    "executionInfo": {
     "elapsed": 584,
     "status": "ok",
     "timestamp": 1562162324904,
     "user": {
      "displayName": "Kal Ng",
      "photoUrl": "https://lh3.googleusercontent.com/-rYifCyrVYpQ/AAAAAAAAAAI/AAAAAAAABXY/SdD6uwQAGEA/s64/photo.jpg",
      "userId": "16935662242496658514"
     },
     "user_tz": -540
    },
    "id": "dYAVc6yWOOvT",
    "outputId": "aa597671-afd5-4aef-fd4c-c6b81f5f4f06"
   },
   "outputs": [
    {
     "name": "stdout",
     "output_type": "stream",
     "text": [
      "9.8\n"
     ]
    }
   ],
   "source": [
    "fval += 2.5  # operate on fval\n",
    "print(fval)  # you can print the content of a variable  using print command"
   ]
  },
  {
   "cell_type": "code",
   "execution_count": 15,
   "metadata": {
    "colab": {
     "base_uri": "https://localhost:8080/",
     "height": 35
    },
    "colab_type": "code",
    "executionInfo": {
     "elapsed": 614,
     "status": "ok",
     "timestamp": 1562162328005,
     "user": {
      "displayName": "Kal Ng",
      "photoUrl": "https://lh3.googleusercontent.com/-rYifCyrVYpQ/AAAAAAAAAAI/AAAAAAAABXY/SdD6uwQAGEA/s64/photo.jpg",
      "userId": "16935662242496658514"
     },
     "user_tz": -540
    },
    "id": "K5CE2L07OOvX",
    "outputId": "5fc55f3d-d332-4687-d49a-c5fe611aa49d"
   },
   "outputs": [
    {
     "data": {
      "text/plain": [
       "15"
      ]
     },
     "execution_count": 15,
     "metadata": {
      "tags": []
     },
     "output_type": "execute_result"
    }
   ],
   "source": [
    "ival += 3    \n",
    "ival         # you can display the value of a variable by typing the variable name"
   ]
  },
  {
   "cell_type": "markdown",
   "metadata": {
    "colab_type": "text",
    "id": "BAVGz6iAOOvZ"
   },
   "source": [
    "Remember that you cannot use a variable that you have not created. The following command will generate an error  because `var` has not been created."
   ]
  },
  {
   "cell_type": "code",
   "execution_count": 16,
   "metadata": {
    "colab": {
     "base_uri": "https://localhost:8080/",
     "height": 172
    },
    "colab_type": "code",
    "executionInfo": {
     "elapsed": 665,
     "status": "error",
     "timestamp": 1562162329670,
     "user": {
      "displayName": "Kal Ng",
      "photoUrl": "https://lh3.googleusercontent.com/-rYifCyrVYpQ/AAAAAAAAAAI/AAAAAAAABXY/SdD6uwQAGEA/s64/photo.jpg",
      "userId": "16935662242496658514"
     },
     "user_tz": -540
    },
    "id": "qhEyCqwmOOva",
    "outputId": "9539c4cd-eb0d-48ff-a21f-f18e85bb9efd"
   },
   "outputs": [
    {
     "ename": "NameError",
     "evalue": "ignored",
     "output_type": "error",
     "traceback": [
      "\u001b[0;31m---------------------------------------------------------------------------\u001b[0m",
      "\u001b[0;31mNameError\u001b[0m                                 Traceback (most recent call last)",
      "\u001b[0;32m<ipython-input-16-0b65bda2f1d6>\u001b[0m in \u001b[0;36m<module>\u001b[0;34m()\u001b[0m\n\u001b[0;32m----> 1\u001b[0;31m \u001b[0mprint\u001b[0m\u001b[0;34m(\u001b[0m\u001b[0mvar\u001b[0m\u001b[0;34m)\u001b[0m   \u001b[0;31m# we have not defined a variable called var! This will generate an error!\u001b[0m\u001b[0;34m\u001b[0m\u001b[0;34m\u001b[0m\u001b[0m\n\u001b[0m",
      "\u001b[0;31mNameError\u001b[0m: name 'var' is not defined"
     ]
    }
   ],
   "source": [
    "print(var)   # we have not defined a variable called var! This will generate an error!"
   ]
  },
  {
   "cell_type": "markdown",
   "metadata": {
    "colab_type": "text",
    "id": "JySEebjxOOvc"
   },
   "source": [
    "## Importing libraries (modules)\n",
    "One reason for the popularity of Python is the large number of libraries (called modules) available for the language.\n",
    "\n",
    "To use a module, use the keyword `import`.\n",
    "\n",
    "The following codes import the math module, which enables you to use mathematical functions such as π (pi) and sine, cosine and tangent."
   ]
  },
  {
   "cell_type": "code",
   "execution_count": null,
   "metadata": {
    "colab": {},
    "colab_type": "code",
    "id": "8YxMrdK2OOvd"
   },
   "outputs": [],
   "source": [
    "import math"
   ]
  },
  {
   "cell_type": "code",
   "execution_count": 18,
   "metadata": {
    "colab": {
     "base_uri": "https://localhost:8080/",
     "height": 35
    },
    "colab_type": "code",
    "executionInfo": {
     "elapsed": 647,
     "status": "ok",
     "timestamp": 1562162335585,
     "user": {
      "displayName": "Kal Ng",
      "photoUrl": "https://lh3.googleusercontent.com/-rYifCyrVYpQ/AAAAAAAAAAI/AAAAAAAABXY/SdD6uwQAGEA/s64/photo.jpg",
      "userId": "16935662242496658514"
     },
     "user_tz": -540
    },
    "id": "_IIdbtCwOOvg",
    "outputId": "c95181c2-c266-42b7-b159-9e82860f30b1"
   },
   "outputs": [
    {
     "name": "stdout",
     "output_type": "stream",
     "text": [
      "The sin of 90 degrees is 1.0\n"
     ]
    }
   ],
   "source": [
    "print ('The sin of 90 degrees is', math.sin(math.pi/2))"
   ]
  },
  {
   "cell_type": "code",
   "execution_count": 19,
   "metadata": {
    "colab": {
     "base_uri": "https://localhost:8080/",
     "height": 35
    },
    "colab_type": "code",
    "executionInfo": {
     "elapsed": 575,
     "status": "ok",
     "timestamp": 1562162337270,
     "user": {
      "displayName": "Kal Ng",
      "photoUrl": "https://lh3.googleusercontent.com/-rYifCyrVYpQ/AAAAAAAAAAI/AAAAAAAABXY/SdD6uwQAGEA/s64/photo.jpg",
      "userId": "16935662242496658514"
     },
     "user_tz": -540
    },
    "id": "zPUUg-ShOOvz",
    "outputId": "8465c7f5-f263-44ae-85d1-1e773eb5def5"
   },
   "outputs": [
    {
     "name": "stdout",
     "output_type": "stream",
     "text": [
      "log of 100 is  4.605170185988092\n"
     ]
    }
   ],
   "source": [
    "print ('log of 100 is ', math.log(100))"
   ]
  },
  {
   "cell_type": "markdown",
   "metadata": {
    "colab_type": "text",
    "id": "1KvGvomL28V_"
   },
   "source": [
    "If we are only interested in a particular function (or class) from a module, for example, if we only need `sqrt` from the `math` module, we may write the following:"
   ]
  },
  {
   "cell_type": "code",
   "execution_count": 20,
   "metadata": {
    "colab": {
     "base_uri": "https://localhost:8080/",
     "height": 35
    },
    "colab_type": "code",
    "executionInfo": {
     "elapsed": 593,
     "status": "ok",
     "timestamp": 1562162340377,
     "user": {
      "displayName": "Kal Ng",
      "photoUrl": "https://lh3.googleusercontent.com/-rYifCyrVYpQ/AAAAAAAAAAI/AAAAAAAABXY/SdD6uwQAGEA/s64/photo.jpg",
      "userId": "16935662242496658514"
     },
     "user_tz": -540
    },
    "id": "aCTe8BvI3QHW",
    "outputId": "b45c74aa-9a30-4e78-e9ce-0047f3619c27"
   },
   "outputs": [
    {
     "data": {
      "text/plain": [
       "1.4142135623730951"
      ]
     },
     "execution_count": 20,
     "metadata": {
      "tags": []
     },
     "output_type": "execute_result"
    }
   ],
   "source": [
    "from math import sqrt\n",
    "sqrt(2)"
   ]
  },
  {
   "cell_type": "markdown",
   "metadata": {
    "colab_type": "text",
    "id": "wQKoMG92OOv6"
   },
   "source": [
    "## The `string` class\n",
    "\n",
    "Like C++ and Java, Python has a built in string type. A `string` object can be defined with either a single quote (`'`)  or double quote (`\"`). "
   ]
  },
  {
   "cell_type": "code",
   "execution_count": null,
   "metadata": {
    "colab": {},
    "colab_type": "code",
    "id": "kC9kZJL5OOwB"
   },
   "outputs": [],
   "source": [
    "s = 'hot'"
   ]
  },
  {
   "cell_type": "code",
   "execution_count": null,
   "metadata": {
    "colab": {},
    "colab_type": "code",
    "id": "67vuxI1zOOwG"
   },
   "outputs": [],
   "source": [
    "s = s + 'dog' # or s += 'dog'"
   ]
  },
  {
   "cell_type": "code",
   "execution_count": 24,
   "metadata": {
    "colab": {
     "base_uri": "https://localhost:8080/",
     "height": 35
    },
    "colab_type": "code",
    "executionInfo": {
     "elapsed": 616,
     "status": "ok",
     "timestamp": 1562162349727,
     "user": {
      "displayName": "Kal Ng",
      "photoUrl": "https://lh3.googleusercontent.com/-rYifCyrVYpQ/AAAAAAAAAAI/AAAAAAAABXY/SdD6uwQAGEA/s64/photo.jpg",
      "userId": "16935662242496658514"
     },
     "user_tz": -540
    },
    "id": "ZQX80sCuOOwL",
    "outputId": "9a78b0f6-7492-45a3-c741-b2f975eac06e"
   },
   "outputs": [
    {
     "data": {
      "text/plain": [
       "'hotdog'"
      ]
     },
     "execution_count": 24,
     "metadata": {
      "tags": []
     },
     "output_type": "execute_result"
    }
   ],
   "source": [
    "s             # display the value of the string object"
   ]
  },
  {
   "cell_type": "code",
   "execution_count": 25,
   "metadata": {
    "colab": {
     "base_uri": "https://localhost:8080/",
     "height": 35
    },
    "colab_type": "code",
    "executionInfo": {
     "elapsed": 620,
     "status": "ok",
     "timestamp": 1562162351431,
     "user": {
      "displayName": "Kal Ng",
      "photoUrl": "https://lh3.googleusercontent.com/-rYifCyrVYpQ/AAAAAAAAAAI/AAAAAAAABXY/SdD6uwQAGEA/s64/photo.jpg",
      "userId": "16935662242496658514"
     },
     "user_tz": -540
    },
    "id": "jw6KV2i_OOwS",
    "outputId": "1693ae9d-b7e3-40fd-a1d9-eaf34b211543"
   },
   "outputs": [
    {
     "name": "stdout",
     "output_type": "stream",
     "text": [
      "hotdog\n"
     ]
    }
   ],
   "source": [
    "print(s)      # printing the string object"
   ]
  },
  {
   "cell_type": "markdown",
   "metadata": {
    "colab_type": "text",
    "id": "fQjb6yGrOOwY"
   },
   "source": [
    "Python is object-oriented. To show this let us consider the `string` class in the following codes.\n",
    "\n",
    "*(To see the list of functions provided by a class, type the object variable name and then press TAB. For example, typing  `s.<TAB>` will pop up a menu which shows the list of functions for the class.)*\n",
    "\n"
   ]
  },
  {
   "cell_type": "code",
   "execution_count": 26,
   "metadata": {
    "colab": {
     "base_uri": "https://localhost:8080/",
     "height": 35
    },
    "colab_type": "code",
    "executionInfo": {
     "elapsed": 755,
     "status": "ok",
     "timestamp": 1562162355334,
     "user": {
      "displayName": "Kal Ng",
      "photoUrl": "https://lh3.googleusercontent.com/-rYifCyrVYpQ/AAAAAAAAAAI/AAAAAAAABXY/SdD6uwQAGEA/s64/photo.jpg",
      "userId": "16935662242496658514"
     },
     "user_tz": -540
    },
    "id": "3hiPCMNyOOwZ",
    "outputId": "1ac34987-2048-4e45-bd84-1f4d1047bb9a"
   },
   "outputs": [
    {
     "data": {
      "text/plain": [
       "'help'"
      ]
     },
     "execution_count": 26,
     "metadata": {
      "tags": []
     },
     "output_type": "execute_result"
    }
   ],
   "source": [
    "s = 'HELP'\n",
    "s.lower()"
   ]
  },
  {
   "cell_type": "code",
   "execution_count": 27,
   "metadata": {
    "colab": {
     "base_uri": "https://localhost:8080/",
     "height": 35
    },
    "colab_type": "code",
    "executionInfo": {
     "elapsed": 648,
     "status": "ok",
     "timestamp": 1562162356765,
     "user": {
      "displayName": "Kal Ng",
      "photoUrl": "https://lh3.googleusercontent.com/-rYifCyrVYpQ/AAAAAAAAAAI/AAAAAAAABXY/SdD6uwQAGEA/s64/photo.jpg",
      "userId": "16935662242496658514"
     },
     "user_tz": -540
    },
    "id": "MjumCwGDOOwg",
    "outputId": "63b0f038-9b44-422b-aac4-655ccab94769"
   },
   "outputs": [
    {
     "data": {
      "text/plain": [
       "'HELP'"
      ]
     },
     "execution_count": 27,
     "metadata": {
      "tags": []
     },
     "output_type": "execute_result"
    }
   ],
   "source": [
    "'help'.upper()"
   ]
  },
  {
   "cell_type": "markdown",
   "metadata": {
    "colab_type": "text",
    "id": "Y5-jrggLOOwq"
   },
   "source": [
    "To get the length of a string, you can use the `len` command."
   ]
  },
  {
   "cell_type": "code",
   "execution_count": 28,
   "metadata": {
    "colab": {
     "base_uri": "https://localhost:8080/",
     "height": 35
    },
    "colab_type": "code",
    "executionInfo": {
     "elapsed": 841,
     "status": "ok",
     "timestamp": 1562162358343,
     "user": {
      "displayName": "Kal Ng",
      "photoUrl": "https://lh3.googleusercontent.com/-rYifCyrVYpQ/AAAAAAAAAAI/AAAAAAAABXY/SdD6uwQAGEA/s64/photo.jpg",
      "userId": "16935662242496658514"
     },
     "user_tz": -540
    },
    "id": "cmTCIAGOOOwr",
    "outputId": "f1b4aff8-0e94-42e0-fd7a-ce51e6069d9b"
   },
   "outputs": [
    {
     "data": {
      "text/plain": [
       "4"
      ]
     },
     "execution_count": 28,
     "metadata": {
      "tags": []
     },
     "output_type": "execute_result"
    }
   ],
   "source": [
    "len('Help')"
   ]
  },
  {
   "cell_type": "markdown",
   "metadata": {
    "colab_type": "text",
    "id": "aP97CwBNOOw3"
   },
   "source": [
    "You can also use the command `help` to get help on commands."
   ]
  },
  {
   "cell_type": "code",
   "execution_count": 29,
   "metadata": {
    "colab": {
     "base_uri": "https://localhost:8080/",
     "height": 219
    },
    "colab_type": "code",
    "executionInfo": {
     "elapsed": 639,
     "status": "ok",
     "timestamp": 1562162360344,
     "user": {
      "displayName": "Kal Ng",
      "photoUrl": "https://lh3.googleusercontent.com/-rYifCyrVYpQ/AAAAAAAAAAI/AAAAAAAABXY/SdD6uwQAGEA/s64/photo.jpg",
      "userId": "16935662242496658514"
     },
     "user_tz": -540
    },
    "id": "NX-YLNvuOOw4",
    "outputId": "f9377da4-99a9-444e-c261-431dba398882"
   },
   "outputs": [
    {
     "name": "stdout",
     "output_type": "stream",
     "text": [
      "Help on built-in function find:\n",
      "\n",
      "find(...) method of builtins.str instance\n",
      "    S.find(sub[, start[, end]]) -> int\n",
      "    \n",
      "    Return the lowest index in S where substring sub is found,\n",
      "    such that sub is contained within S[start:end].  Optional\n",
      "    arguments start and end are interpreted as in slice notation.\n",
      "    \n",
      "    Return -1 on failure.\n",
      "\n"
     ]
    }
   ],
   "source": [
    "help(s.find)"
   ]
  },
  {
   "cell_type": "markdown",
   "metadata": {
    "colab_type": "text",
    "id": "zxIUS5f6OOxD"
   },
   "source": [
    "## Printing to screen\n",
    "\n",
    "The standard way for showing output messages is through the function `print`."
   ]
  },
  {
   "cell_type": "code",
   "execution_count": 30,
   "metadata": {
    "colab": {
     "base_uri": "https://localhost:8080/",
     "height": 35
    },
    "colab_type": "code",
    "executionInfo": {
     "elapsed": 601,
     "status": "ok",
     "timestamp": 1562162365077,
     "user": {
      "displayName": "Kal Ng",
      "photoUrl": "https://lh3.googleusercontent.com/-rYifCyrVYpQ/AAAAAAAAAAI/AAAAAAAABXY/SdD6uwQAGEA/s64/photo.jpg",
      "userId": "16935662242496658514"
     },
     "user_tz": -540
    },
    "id": "7ia2DVnZOOxD",
    "outputId": "26eba3c9-0c8f-440d-928f-26f95c209bcf"
   },
   "outputs": [
    {
     "name": "stdout",
     "output_type": "stream",
     "text": [
      "There are 3 people in the meeting\n"
     ]
    }
   ],
   "source": [
    "a = 3\n",
    "print('There are', a, 'people in the meeting')"
   ]
  },
  {
   "cell_type": "markdown",
   "metadata": {
    "colab_type": "text",
    "id": "nWFpNKt_OOxG"
   },
   "source": [
    "You can format output using the `str.format()` method where we use the curly braces `{}` as placeholders.  \n",
    "\n",
    "In the following example, the first bracket `{}` would be replaced by `x` and the second by `y`. "
   ]
  },
  {
   "cell_type": "code",
   "execution_count": 31,
   "metadata": {
    "colab": {
     "base_uri": "https://localhost:8080/",
     "height": 35
    },
    "colab_type": "code",
    "executionInfo": {
     "elapsed": 580,
     "status": "ok",
     "timestamp": 1562162366678,
     "user": {
      "displayName": "Kal Ng",
      "photoUrl": "https://lh3.googleusercontent.com/-rYifCyrVYpQ/AAAAAAAAAAI/AAAAAAAABXY/SdD6uwQAGEA/s64/photo.jpg",
      "userId": "16935662242496658514"
     },
     "user_tz": -540
    },
    "id": "5l8CS1xVOOxG",
    "outputId": "2be41bb2-f95f-4e0c-a3e7-3f8c800adcc8"
   },
   "outputs": [
    {
     "name": "stdout",
     "output_type": "stream",
     "text": [
      "The value of x is 5 and y is 10\n"
     ]
    }
   ],
   "source": [
    "x = 5; y = 10\n",
    "print('The value of x is {} and y is {}'.format(x,y))"
   ]
  },
  {
   "cell_type": "markdown",
   "metadata": {
    "colab_type": "text",
    "id": "bUBr9E7AOOxJ"
   },
   "source": [
    "We can also specify *the order* in which it is printed by using numbers (tuple index).\n",
    "\n",
    "In the following example, the placeholder `{0}` would be replaced by the first parameter `bread` regardless of its position in the `print` statement. Similarly for the placeholder `{1}`. "
   ]
  },
  {
   "cell_type": "code",
   "execution_count": 32,
   "metadata": {
    "colab": {
     "base_uri": "https://localhost:8080/",
     "height": 54
    },
    "colab_type": "code",
    "executionInfo": {
     "elapsed": 621,
     "status": "ok",
     "timestamp": 1562162369251,
     "user": {
      "displayName": "Kal Ng",
      "photoUrl": "https://lh3.googleusercontent.com/-rYifCyrVYpQ/AAAAAAAAAAI/AAAAAAAABXY/SdD6uwQAGEA/s64/photo.jpg",
      "userId": "16935662242496658514"
     },
     "user_tz": -540
    },
    "id": "JguPD4mUOOxJ",
    "outputId": "94fcd283-0635-4a5c-fb15-d2b8a1b08243"
   },
   "outputs": [
    {
     "name": "stdout",
     "output_type": "stream",
     "text": [
      "I love bread and butter\n",
      "I love butter and bread\n"
     ]
    }
   ],
   "source": [
    "print('I love {0} and {1}'.format('bread', 'butter'))\n",
    "print('I love {1} and {0}'.format('bread', 'butter'))  # changing the order"
   ]
  },
  {
   "cell_type": "markdown",
   "metadata": {
    "colab_type": "text",
    "id": "69oiUITyOOxM"
   },
   "source": [
    "Formatting of integer values can be done as in the following example, where\n",
    "* `d` specifies that the placedholder is to be replaced by an *integer*. \n",
    "* `6` specifies that a total of 6 characters would be allocated to print out the integer."
   ]
  },
  {
   "cell_type": "code",
   "execution_count": 33,
   "metadata": {
    "colab": {
     "base_uri": "https://localhost:8080/",
     "height": 54
    },
    "colab_type": "code",
    "executionInfo": {
     "elapsed": 589,
     "status": "ok",
     "timestamp": 1562162371433,
     "user": {
      "displayName": "Kal Ng",
      "photoUrl": "https://lh3.googleusercontent.com/-rYifCyrVYpQ/AAAAAAAAAAI/AAAAAAAABXY/SdD6uwQAGEA/s64/photo.jpg",
      "userId": "16935662242496658514"
     },
     "user_tz": -540
    },
    "id": "6li4FUQJOOxO",
    "outputId": "74187f4d-aff8-4f8d-e9d9-884dbe89b6f2"
   },
   "outputs": [
    {
     "name": "stdout",
     "output_type": "stream",
     "text": [
      "Integer value is 23.\n",
      "Integer value is     23.\n"
     ]
    }
   ],
   "source": [
    "print('Integer value is {:d}.'.format(23))\n",
    "print('Integer value is {:6d}.'.format(23))"
   ]
  },
  {
   "cell_type": "markdown",
   "metadata": {
    "colab_type": "text",
    "id": "xX9FDgwxOOxR"
   },
   "source": [
    "Formatting of floating point values can be done as in the following example, where\n",
    "* `f`  specifies that the placedholder is to be replaced by an *real number*. \n",
    "* `6` specifies that a total of 6 characters would be allocated to print out the number. \n",
    "* `.2` displays the real number up to two decimal places\n",
    "* `0` specifies that if the number of characters is less than number of allocated characters (6 in our case), the empty spaces should be replaced with 0."
   ]
  },
  {
   "cell_type": "code",
   "execution_count": 34,
   "metadata": {
    "colab": {
     "base_uri": "https://localhost:8080/",
     "height": 72
    },
    "colab_type": "code",
    "executionInfo": {
     "elapsed": 579,
     "status": "ok",
     "timestamp": 1562162374120,
     "user": {
      "displayName": "Kal Ng",
      "photoUrl": "https://lh3.googleusercontent.com/-rYifCyrVYpQ/AAAAAAAAAAI/AAAAAAAABXY/SdD6uwQAGEA/s64/photo.jpg",
      "userId": "16935662242496658514"
     },
     "user_tz": -540
    },
    "id": "d-MkGingOOxS",
    "outputId": "58ffe98e-29eb-4e43-ca77-79e4e07e2b13"
   },
   "outputs": [
    {
     "name": "stdout",
     "output_type": "stream",
     "text": [
      "The float value is 3.141593\n",
      "The float value is 003.14\n",
      "The float value is   3.14\n"
     ]
    }
   ],
   "source": [
    "print('The float value is {:f}'.format(3.141592653589793))\n",
    "print('The float value is {:06.2f}'.format(3.141592653589793))\n",
    "print('The float value is {:6.2f}'.format(3.141592653589793))"
   ]
  },
  {
   "cell_type": "markdown",
   "metadata": {
    "colab_type": "text",
    "id": "ROQm0zCpARR6"
   },
   "source": [
    "---\n",
    "# Section 2: Functions and control structures"
   ]
  },
  {
   "cell_type": "markdown",
   "metadata": {
    "colab_type": "text",
    "id": "M7viXmChOOxk"
   },
   "source": [
    "## Functions\n",
    "Python functions are defined similar to other languages such as C and Java. **However, blocks of codes in Python are organized by how they are indented.** \n",
    "\n",
    "While in languages such as C/C++, Java, JavaScript, C#, Perl, and R, codes are placed within curly brackets (`{}`) to form a block,\n",
    "in Python, codes are considered to be in the same block if they are indented by the same amount of space from the left (unless broken by a higher level block). The figure below gives a simple, easy-to-understand example.\n",
    "\n",
    "![代替テキスト](https://raw.githubusercontent.com/kalngyk/repoman/master/indentation.png)\n",
    "\n",
    "These indentations can be written with spaces or tabs, but the same spaces/tabs must be consistently used for all the codes in the same block.\n",
    "\n",
    "Another important thing to take note is that unlike in other languages, **statements in Python do not end in '`;`'**.\n",
    "\n",
    "\n",
    "\n"
   ]
  },
  {
   "cell_type": "code",
   "execution_count": null,
   "metadata": {
    "colab": {},
    "colab_type": "code",
    "id": "ifQz_l3ROOxl"
   },
   "outputs": [],
   "source": [
    "# Correct way of defining a function\n",
    "def square(num):  \n",
    "    \"Returns the square of a number\"\n",
    "    result = num**2\n",
    "    return result"
   ]
  },
  {
   "cell_type": "markdown",
   "metadata": {
    "colab_type": "text",
    "id": "iURm6A2dOOxm"
   },
   "source": [
    "**Note that the function definition ends with a ':' character.**\n",
    "Now that we have defined our function `square`, we can make use of the function to square some numbers."
   ]
  },
  {
   "cell_type": "code",
   "execution_count": 36,
   "metadata": {
    "colab": {
     "base_uri": "https://localhost:8080/",
     "height": 54
    },
    "colab_type": "code",
    "executionInfo": {
     "elapsed": 611,
     "status": "ok",
     "timestamp": 1562162382383,
     "user": {
      "displayName": "Kal Ng",
      "photoUrl": "https://lh3.googleusercontent.com/-rYifCyrVYpQ/AAAAAAAAAAI/AAAAAAAABXY/SdD6uwQAGEA/s64/photo.jpg",
      "userId": "16935662242496658514"
     },
     "user_tz": -540
    },
    "id": "zlXvNUZIOOxm",
    "outputId": "da5753f4-92aa-4ddf-f805-11c91799c8c8"
   },
   "outputs": [
    {
     "name": "stdout",
     "output_type": "stream",
     "text": [
      "2 times 2 equals 4\n",
      "2.52.5 equals 6.25\n"
     ]
    }
   ],
   "source": [
    "x = square(2)\n",
    "print(\"{0} times {0} equals {1}\".format(2, x))\n",
    "x = square(2.5)\n",
    "print(\"{0}{0} equals {1}\".format(2.5, x))"
   ]
  },
  {
   "cell_type": "markdown",
   "metadata": {
    "colab_type": "text",
    "id": "d_5VmazJOOxo"
   },
   "source": [
    "The following codes would result in an **IndentationError** since Python does not use curly bracket to define the code block."
   ]
  },
  {
   "cell_type": "code",
   "execution_count": 37,
   "metadata": {
    "colab": {
     "base_uri": "https://localhost:8080/",
     "height": 135
    },
    "colab_type": "code",
    "executionInfo": {
     "elapsed": 644,
     "status": "error",
     "timestamp": 1562162384585,
     "user": {
      "displayName": "Kal Ng",
      "photoUrl": "https://lh3.googleusercontent.com/-rYifCyrVYpQ/AAAAAAAAAAI/AAAAAAAABXY/SdD6uwQAGEA/s64/photo.jpg",
      "userId": "16935662242496658514"
     },
     "user_tz": -540
    },
    "id": "a6featyzOOxp",
    "outputId": "af96f7f8-9c0b-400d-d081-4b766cffcda2"
   },
   "outputs": [
    {
     "ename": "IndentationError",
     "evalue": "ignored",
     "output_type": "error",
     "traceback": [
      "\u001b[0;36m  File \u001b[0;32m\"<ipython-input-37-613457a46dd6>\"\u001b[0;36m, line \u001b[0;32m3\u001b[0m\n\u001b[0;31m    {\u001b[0m\n\u001b[0m    ^\u001b[0m\n\u001b[0;31mIndentationError\u001b[0m\u001b[0;31m:\u001b[0m expected an indented block\n"
     ]
    }
   ],
   "source": [
    "# this will not work. \n",
    "\n",
    "def square(num):\n",
    "{\n",
    "   result = num**2\n",
    "   return result\n",
    "}"
   ]
  },
  {
   "cell_type": "markdown",
   "metadata": {
    "colab_type": "text",
    "id": "4erJwFYNOOxu"
   },
   "source": [
    "The following codes would result in an **IndentationError** as well."
   ]
  },
  {
   "cell_type": "code",
   "execution_count": 38,
   "metadata": {
    "colab": {
     "base_uri": "https://localhost:8080/",
     "height": 135
    },
    "colab_type": "code",
    "executionInfo": {
     "elapsed": 616,
     "status": "error",
     "timestamp": 1562162388120,
     "user": {
      "displayName": "Kal Ng",
      "photoUrl": "https://lh3.googleusercontent.com/-rYifCyrVYpQ/AAAAAAAAAAI/AAAAAAAABXY/SdD6uwQAGEA/s64/photo.jpg",
      "userId": "16935662242496658514"
     },
     "user_tz": -540
    },
    "id": "plt6MLy_OOxu",
    "outputId": "f1c6a242-9eb0-44ea-8f9f-41a262d0f73a"
   },
   "outputs": [
    {
     "ename": "SyntaxError",
     "evalue": "ignored",
     "output_type": "error",
     "traceback": [
      "\u001b[0;36m  File \u001b[0;32m\"<ipython-input-38-e2a5884ded3c>\"\u001b[0;36m, line \u001b[0;32m4\u001b[0m\n\u001b[0;31m    return result\u001b[0m\n\u001b[0m                 ^\u001b[0m\n\u001b[0;31mSyntaxError\u001b[0m\u001b[0;31m:\u001b[0m 'return' outside function\n"
     ]
    }
   ],
   "source": [
    "# This will NOT work.\n",
    "\n",
    "def square(num):\n",
    "    result = num**2\n",
    "return result"
   ]
  },
  {
   "cell_type": "markdown",
   "metadata": {
    "colab_type": "text",
    "id": "qtwFabMVOOxx"
   },
   "source": [
    "### Functions returning more than one variable\n",
    "\n",
    "Different from most languages, Python functions are allowed to return more than one variable."
   ]
  },
  {
   "cell_type": "code",
   "execution_count": null,
   "metadata": {
    "colab": {},
    "colab_type": "code",
    "id": "8kuRPJbEOOxx"
   },
   "outputs": [],
   "source": [
    "def get_square_n_cube(num):\n",
    "    \"Returns the square of a number\"\n",
    "    sq = num**2\n",
    "    cb = num**3\n",
    "    return sq, cb"
   ]
  },
  {
   "cell_type": "code",
   "execution_count": 40,
   "metadata": {
    "colab": {
     "base_uri": "https://localhost:8080/",
     "height": 35
    },
    "colab_type": "code",
    "executionInfo": {
     "elapsed": 638,
     "status": "ok",
     "timestamp": 1562162394487,
     "user": {
      "displayName": "Kal Ng",
      "photoUrl": "https://lh3.googleusercontent.com/-rYifCyrVYpQ/AAAAAAAAAAI/AAAAAAAABXY/SdD6uwQAGEA/s64/photo.jpg",
      "userId": "16935662242496658514"
     },
     "user_tz": -540
    },
    "id": "UENUJ5dhOOx0",
    "outputId": "3514a6d3-491c-4b78-bb3f-e907f74b75d1"
   },
   "outputs": [
    {
     "name": "stdout",
     "output_type": "stream",
     "text": [
      "4 8\n"
     ]
    }
   ],
   "source": [
    "sq, cb = get_square_n_cube(2)\n",
    "print(sq, cb)"
   ]
  },
  {
   "cell_type": "markdown",
   "metadata": {
    "colab_type": "text",
    "id": "QSKY7TWG78yC"
   },
   "source": [
    "Variables returned from a function can be selectively ignored, as follows."
   ]
  },
  {
   "cell_type": "code",
   "execution_count": 41,
   "metadata": {
    "colab": {
     "base_uri": "https://localhost:8080/",
     "height": 35
    },
    "colab_type": "code",
    "executionInfo": {
     "elapsed": 651,
     "status": "ok",
     "timestamp": 1562162396443,
     "user": {
      "displayName": "Kal Ng",
      "photoUrl": "https://lh3.googleusercontent.com/-rYifCyrVYpQ/AAAAAAAAAAI/AAAAAAAABXY/SdD6uwQAGEA/s64/photo.jpg",
      "userId": "16935662242496658514"
     },
     "user_tz": -540
    },
    "id": "crDiFCNB77lc",
    "outputId": "494ef2e3-c1ce-454f-84e2-dc149b5096d5"
   },
   "outputs": [
    {
     "name": "stdout",
     "output_type": "stream",
     "text": [
      "4\n"
     ]
    }
   ],
   "source": [
    "sq, _ = get_square_n_cube(2)   # ignore the cube\n",
    "print(sq)"
   ]
  },
  {
   "cell_type": "markdown",
   "metadata": {
    "colab_type": "text",
    "id": "VOuHBxGnOOx2"
   },
   "source": [
    "### Function parameter passing\n",
    "Same as with other languages,  in Python, objects are passed by reference, while **primitive variables** such as `integer`, `double` and `float` as well as **`string`s** are **passed by value**. For example, in the following code, changes to parameters `intval` and `strval` in `func` will not affect the original two variables. "
   ]
  },
  {
   "cell_type": "code",
   "execution_count": null,
   "metadata": {
    "colab": {},
    "colab_type": "code",
    "id": "XOyR9_FxOOx2"
   },
   "outputs": [],
   "source": [
    "def func(intval, strval):\n",
    "    intval = 100\n",
    "    strval = \"Modified string value\"\n",
    "    print (\">>> func: numval = {}, strval = {}\".format(intval, strval))"
   ]
  },
  {
   "cell_type": "code",
   "execution_count": 43,
   "metadata": {
    "colab": {
     "base_uri": "https://localhost:8080/",
     "height": 72
    },
    "colab_type": "code",
    "executionInfo": {
     "elapsed": 605,
     "status": "ok",
     "timestamp": 1562162400546,
     "user": {
      "displayName": "Kal Ng",
      "photoUrl": "https://lh3.googleusercontent.com/-rYifCyrVYpQ/AAAAAAAAAAI/AAAAAAAABXY/SdD6uwQAGEA/s64/photo.jpg",
      "userId": "16935662242496658514"
     },
     "user_tz": -540
    },
    "id": "W7gnFA8YOOx3",
    "outputId": "5aa9bf13-cd46-44df-87ee-96f9836f777c"
   },
   "outputs": [
    {
     "name": "stdout",
     "output_type": "stream",
     "text": [
      "main (before calling func): numval = 0, strval = Original string value\n",
      ">>> func: numval = 100, strval = Modified string value\n",
      "main (after calling func): numval = 0, strval = Original string value\n"
     ]
    }
   ],
   "source": [
    "intval  = 0\n",
    "strval = \"Original string value\"\n",
    "\n",
    "print (\"main (before calling func): numval = {}, strval = {}\".format(intval, strval))\n",
    "func(intval, strval)\n",
    "print (\"main (after calling func): numval = {}, strval = {}\".format(intval, strval))\n"
   ]
  },
  {
   "cell_type": "markdown",
   "metadata": {
    "colab_type": "text",
    "id": "2ya9rlIQOOx6"
   },
   "source": [
    "### Function default arguments"
   ]
  },
  {
   "cell_type": "markdown",
   "metadata": {
    "colab_type": "text",
    "id": "72ZvgGVNgKzg"
   },
   "source": [
    "Python allows the setting of default arguments in the list of input parameters -- these values will be used when the caller does not specify the values for these parameters.\n",
    "\n",
    "We show this with the following function, which also uses an `if` statement. In Python, an `if` statement must end with the \"`:`\" character, and the entire block of codes to be executed must be indented further to the right.\n",
    "\n"
   ]
  },
  {
   "cell_type": "code",
   "execution_count": null,
   "metadata": {
    "colab": {},
    "colab_type": "code",
    "id": "x1eMmzErgKFK"
   },
   "outputs": [],
   "source": [
    "def square(num, rounding=False):\n",
    "    result = num**2\n",
    "    if rounding:\n",
    "        result = int(result)\n",
    "    return result"
   ]
  },
  {
   "cell_type": "code",
   "execution_count": 45,
   "metadata": {
    "colab": {
     "base_uri": "https://localhost:8080/",
     "height": 72
    },
    "colab_type": "code",
    "executionInfo": {
     "elapsed": 582,
     "status": "ok",
     "timestamp": 1562162404541,
     "user": {
      "displayName": "Kal Ng",
      "photoUrl": "https://lh3.googleusercontent.com/-rYifCyrVYpQ/AAAAAAAAAAI/AAAAAAAABXY/SdD6uwQAGEA/s64/photo.jpg",
      "userId": "16935662242496658514"
     },
     "user_tz": -540
    },
    "id": "MrQ_EyZ8OOx7",
    "outputId": "862b1e62-908a-42a8-97f1-1e2a5739ae40"
   },
   "outputs": [
    {
     "name": "stdout",
     "output_type": "stream",
     "text": [
      "6.25\n",
      "6\n",
      "6\n"
     ]
    }
   ],
   "source": [
    "print(square(2.5))\n",
    "print(square(2.5, rounding=True))\n",
    "print(square(2.5, True))"
   ]
  },
  {
   "cell_type": "markdown",
   "metadata": {
    "colab_type": "text",
    "id": "1_uyDXdXOOyE"
   },
   "source": [
    "## Conditional operators\n",
    "Python only allows the conditional operators: `if` and `elif`. There is no `switch-case` operator in Python.\n",
    "\n",
    "The following code shows the syntax for implementing compound conditions in Python."
   ]
  },
  {
   "cell_type": "code",
   "execution_count": 46,
   "metadata": {
    "colab": {
     "base_uri": "https://localhost:8080/",
     "height": 35
    },
    "colab_type": "code",
    "executionInfo": {
     "elapsed": 588,
     "status": "ok",
     "timestamp": 1562162408181,
     "user": {
      "displayName": "Kal Ng",
      "photoUrl": "https://lh3.googleusercontent.com/-rYifCyrVYpQ/AAAAAAAAAAI/AAAAAAAABXY/SdD6uwQAGEA/s64/photo.jpg",
      "userId": "16935662242496658514"
     },
     "user_tz": -540
    },
    "id": "dpKpqTtROOyH",
    "outputId": "924479db-5e64-4869-a82f-fb000422aa74"
   },
   "outputs": [
    {
     "name": "stdout",
     "output_type": "stream",
     "text": [
      "This line gets printed 3/4 of the time\n"
     ]
    }
   ],
   "source": [
    "from random import random\n",
    "\n",
    "if random() > .5 and random() > .5:\n",
    "    print('This line gets printed 1/4 of the time')\n",
    "else:\n",
    "    print('This line gets printed 3/4 of the time')"
   ]
  },
  {
   "cell_type": "code",
   "execution_count": 47,
   "metadata": {
    "colab": {
     "base_uri": "https://localhost:8080/",
     "height": 35
    },
    "colab_type": "code",
    "executionInfo": {
     "elapsed": 474,
     "status": "ok",
     "timestamp": 1562162409421,
     "user": {
      "displayName": "Kal Ng",
      "photoUrl": "https://lh3.googleusercontent.com/-rYifCyrVYpQ/AAAAAAAAAAI/AAAAAAAABXY/SdD6uwQAGEA/s64/photo.jpg",
      "userId": "16935662242496658514"
     },
     "user_tz": -540
    },
    "id": "C6zHMJxP-mOd",
    "outputId": "55dd45f9-d30b-4954-9fde-80efe916e320"
   },
   "outputs": [
    {
     "name": "stdout",
     "output_type": "stream",
     "text": [
      "This line gets printed 3/4 of the time\n"
     ]
    }
   ],
   "source": [
    "from random import random\n",
    "\n",
    "if random() > .5 or random() > .5:\n",
    "    print('This line gets printed 3/4 of the time')\n",
    "else:\n",
    "    print('This line gets printed 1/4 of the time')"
   ]
  },
  {
   "cell_type": "markdown",
   "metadata": {
    "colab_type": "text",
    "id": "zNc5Ra4KOOyL"
   },
   "source": [
    "## Loops\n",
    "\n",
    "The operator for performing loops in Python is `for` and `while`. Similarly, indentation is used to define the scope for loops. The following example show how to use the `for` loop to iterate a list of integers and strings"
   ]
  },
  {
   "cell_type": "code",
   "execution_count": 48,
   "metadata": {
    "colab": {
     "base_uri": "https://localhost:8080/",
     "height": 109
    },
    "colab_type": "code",
    "executionInfo": {
     "elapsed": 567,
     "status": "ok",
     "timestamp": 1562162413622,
     "user": {
      "displayName": "Kal Ng",
      "photoUrl": "https://lh3.googleusercontent.com/-rYifCyrVYpQ/AAAAAAAAAAI/AAAAAAAABXY/SdD6uwQAGEA/s64/photo.jpg",
      "userId": "16935662242496658514"
     },
     "user_tz": -540
    },
    "id": "bItsuAqfOOyL",
    "outputId": "903e81b8-b063-4b04-f4bc-8e352504d2bf"
   },
   "outputs": [
    {
     "name": "stdout",
     "output_type": "stream",
     "text": [
      "1\n",
      "2\n",
      "3\n",
      "4\n",
      "5\n"
     ]
    }
   ],
   "source": [
    "for num in [1, 2, 3, 4, 5]:\n",
    "    print(num)"
   ]
  },
  {
   "cell_type": "code",
   "execution_count": 49,
   "metadata": {
    "colab": {
     "base_uri": "https://localhost:8080/",
     "height": 72
    },
    "colab_type": "code",
    "executionInfo": {
     "elapsed": 588,
     "status": "ok",
     "timestamp": 1562162416047,
     "user": {
      "displayName": "Kal Ng",
      "photoUrl": "https://lh3.googleusercontent.com/-rYifCyrVYpQ/AAAAAAAAAAI/AAAAAAAABXY/SdD6uwQAGEA/s64/photo.jpg",
      "userId": "16935662242496658514"
     },
     "user_tz": -540
    },
    "id": "kzeCvC24OOyN",
    "outputId": "861d6558-be5e-4468-ffcf-ad3313653574"
   },
   "outputs": [
    {
     "name": "stdout",
     "output_type": "stream",
     "text": [
      "lessie\n",
      "joe\n",
      "bob\n"
     ]
    }
   ],
   "source": [
    "for name in ['lessie', 'joe', 'bob']:\n",
    "    print(name)"
   ]
  },
  {
   "cell_type": "code",
   "execution_count": 50,
   "metadata": {
    "colab": {
     "base_uri": "https://localhost:8080/",
     "height": 109
    },
    "colab_type": "code",
    "executionInfo": {
     "elapsed": 777,
     "status": "ok",
     "timestamp": 1562162417452,
     "user": {
      "displayName": "Kal Ng",
      "photoUrl": "https://lh3.googleusercontent.com/-rYifCyrVYpQ/AAAAAAAAAAI/AAAAAAAABXY/SdD6uwQAGEA/s64/photo.jpg",
      "userId": "16935662242496658514"
     },
     "user_tz": -540
    },
    "id": "bW04otttOOyQ",
    "outputId": "69ea3045-2acb-4070-ae4c-d151f343d98f"
   },
   "outputs": [
    {
     "name": "stdout",
     "output_type": "stream",
     "text": [
      "1\n",
      "2\n",
      "3\n",
      "4\n",
      "5\n"
     ]
    }
   ],
   "source": [
    "num = 1\n",
    "while num <= 5:\n",
    "    print(num)\n",
    "    num += 1"
   ]
  },
  {
   "cell_type": "markdown",
   "metadata": {
    "colab_type": "text",
    "id": "mhPwNFy9OOyS"
   },
   "source": [
    "You can use the function **`range(end)`** to generate  an iterable sequence of integers starting from 0 up to not including `end`."
   ]
  },
  {
   "cell_type": "code",
   "execution_count": 51,
   "metadata": {
    "colab": {
     "base_uri": "https://localhost:8080/",
     "height": 109
    },
    "colab_type": "code",
    "executionInfo": {
     "elapsed": 572,
     "status": "ok",
     "timestamp": 1562162420127,
     "user": {
      "displayName": "Kal Ng",
      "photoUrl": "https://lh3.googleusercontent.com/-rYifCyrVYpQ/AAAAAAAAAAI/AAAAAAAABXY/SdD6uwQAGEA/s64/photo.jpg",
      "userId": "16935662242496658514"
     },
     "user_tz": -540
    },
    "id": "zuG8fCOMOOyU",
    "outputId": "34799eb1-b33f-45c6-fb76-0c7ee38b7a59"
   },
   "outputs": [
    {
     "name": "stdout",
     "output_type": "stream",
     "text": [
      "0\n",
      "1\n",
      "2\n",
      "3\n",
      "4\n"
     ]
    }
   ],
   "source": [
    "for num in range(5):        \n",
    "    print(num) "
   ]
  },
  {
   "cell_type": "markdown",
   "metadata": {
    "colab_type": "text",
    "id": "omKEe-mxOOyV"
   },
   "source": [
    "You can use the function **`range(start, end)`** to generate  an iterable sequence of integers starting from `start` up to `end-1`."
   ]
  },
  {
   "cell_type": "code",
   "execution_count": 52,
   "metadata": {
    "colab": {
     "base_uri": "https://localhost:8080/",
     "height": 90
    },
    "colab_type": "code",
    "executionInfo": {
     "elapsed": 842,
     "status": "ok",
     "timestamp": 1562162422719,
     "user": {
      "displayName": "Kal Ng",
      "photoUrl": "https://lh3.googleusercontent.com/-rYifCyrVYpQ/AAAAAAAAAAI/AAAAAAAABXY/SdD6uwQAGEA/s64/photo.jpg",
      "userId": "16935662242496658514"
     },
     "user_tz": -540
    },
    "id": "fk3CXsI0OOyW",
    "outputId": "8c05954d-6027-4739-da8e-dabb50726716"
   },
   "outputs": [
    {
     "name": "stdout",
     "output_type": "stream",
     "text": [
      "3\n",
      "4\n",
      "5\n",
      "6\n"
     ]
    }
   ],
   "source": [
    "for num in range(3, 7):     \n",
    "    print(num) "
   ]
  },
  {
   "cell_type": "markdown",
   "metadata": {
    "colab_type": "text",
    "id": "3FIzbwdYOOyY"
   },
   "source": [
    "You can use the function **`range(start, end, skip)`** to generate an iterable sequence of integers starting from start up to end-1 with a resolution of `skip` ."
   ]
  },
  {
   "cell_type": "code",
   "execution_count": 53,
   "metadata": {
    "colab": {
     "base_uri": "https://localhost:8080/",
     "height": 90
    },
    "colab_type": "code",
    "executionInfo": {
     "elapsed": 609,
     "status": "ok",
     "timestamp": 1562162424999,
     "user": {
      "displayName": "Kal Ng",
      "photoUrl": "https://lh3.googleusercontent.com/-rYifCyrVYpQ/AAAAAAAAAAI/AAAAAAAABXY/SdD6uwQAGEA/s64/photo.jpg",
      "userId": "16935662242496658514"
     },
     "user_tz": -540
    },
    "id": "TzWh43aiOOyZ",
    "outputId": "3fc5591d-e741-46fd-caf9-4f26c61f2b13"
   },
   "outputs": [
    {
     "name": "stdout",
     "output_type": "stream",
     "text": [
      "10\n",
      "15\n",
      "20\n",
      "25\n"
     ]
    }
   ],
   "source": [
    "for num in range(10, 26, 5):  \n",
    "    print(num) "
   ]
  },
  {
   "cell_type": "markdown",
   "metadata": {
    "colab_type": "text",
    "id": "Cx3N4H_ROOyb"
   },
   "source": [
    "When looping a sequence, the position index and corresponding value can be retrieved using the **`enumerate()`** function."
   ]
  },
  {
   "cell_type": "code",
   "execution_count": 54,
   "metadata": {
    "colab": {
     "base_uri": "https://localhost:8080/",
     "height": 72
    },
    "colab_type": "code",
    "executionInfo": {
     "elapsed": 599,
     "status": "ok",
     "timestamp": 1562162427118,
     "user": {
      "displayName": "Kal Ng",
      "photoUrl": "https://lh3.googleusercontent.com/-rYifCyrVYpQ/AAAAAAAAAAI/AAAAAAAABXY/SdD6uwQAGEA/s64/photo.jpg",
      "userId": "16935662242496658514"
     },
     "user_tz": -540
    },
    "id": "u1842rSOOOyd",
    "outputId": "6054a7dc-fd62-40f2-a784-c260cf31a2dd"
   },
   "outputs": [
    {
     "name": "stdout",
     "output_type": "stream",
     "text": [
      "0 tic\n",
      "1 tac\n",
      "2 toe\n"
     ]
    }
   ],
   "source": [
    "for i, v in enumerate(['tic', 'tac', 'toe']):\n",
    "    print(i, v)"
   ]
  },
  {
   "cell_type": "markdown",
   "metadata": {
    "colab_type": "text",
    "id": "mPm2bb58OOyf"
   },
   "source": [
    "To loop over two or more sequences at the same time, the entries can be paired using the **`zip()`** function."
   ]
  },
  {
   "cell_type": "code",
   "execution_count": 55,
   "metadata": {
    "colab": {
     "base_uri": "https://localhost:8080/",
     "height": 72
    },
    "colab_type": "code",
    "executionInfo": {
     "elapsed": 574,
     "status": "ok",
     "timestamp": 1562162428641,
     "user": {
      "displayName": "Kal Ng",
      "photoUrl": "https://lh3.googleusercontent.com/-rYifCyrVYpQ/AAAAAAAAAAI/AAAAAAAABXY/SdD6uwQAGEA/s64/photo.jpg",
      "userId": "16935662242496658514"
     },
     "user_tz": -540
    },
    "id": "frXzzRgeOOyg",
    "outputId": "021eb53e-07ed-4eaf-dc5f-47b3449123e1"
   },
   "outputs": [
    {
     "name": "stdout",
     "output_type": "stream",
     "text": [
      "What is your name?  It is lancelot.\n",
      "What is your quest?  It is the holy grail.\n",
      "What is your favorite color?  It is blue.\n"
     ]
    }
   ],
   "source": [
    "questions = ['name', 'quest', 'favorite color']\n",
    "answers = ['lancelot', 'the holy grail', 'blue']\n",
    "for q, a in zip(questions, answers):\n",
    "    print ('What is your {0}?  It is {1}.'.format(q, a))"
   ]
  },
  {
   "cell_type": "code",
   "execution_count": 56,
   "metadata": {
    "colab": {
     "base_uri": "https://localhost:8080/",
     "height": 72
    },
    "colab_type": "code",
    "executionInfo": {
     "elapsed": 599,
     "status": "ok",
     "timestamp": 1562162430874,
     "user": {
      "displayName": "Kal Ng",
      "photoUrl": "https://lh3.googleusercontent.com/-rYifCyrVYpQ/AAAAAAAAAAI/AAAAAAAABXY/SdD6uwQAGEA/s64/photo.jpg",
      "userId": "16935662242496658514"
     },
     "user_tz": -540
    },
    "id": "gCQgeN0uOOyh",
    "outputId": "8f35e647-4df0-4532-fe74-8daba3b710fc"
   },
   "outputs": [
    {
     "name": "stdout",
     "output_type": "stream",
     "text": [
      "Krishnan: 99.\n",
      "Shafie: 100.\n",
      "Kim Loong: 89.\n"
     ]
    }
   ],
   "source": [
    "names = ['Krishnan', 'Shafie', 'Kim Loong']\n",
    "grades = [99, 100, 89]\n",
    "\n",
    "for n, g in zip(names, grades):\n",
    "    print('{0}: {1}.'.format(n, g))"
   ]
  },
  {
   "cell_type": "markdown",
   "metadata": {
    "colab_type": "text",
    "id": "1s7hW55qOOyw"
   },
   "source": [
    "---\n",
    "# Section 3: Built-in data structures\n",
    "\n",
    "Python comes equipped with some useful built-in data structures. They include\n",
    "* List\n",
    "* Tuple\n",
    "* Set\n",
    "* Dictionary"
   ]
  },
  {
   "cell_type": "markdown",
   "metadata": {
    "colab_type": "text",
    "id": "Dc3WeauW0bGE"
   },
   "source": [
    "\n",
    "\n",
    "## List\n",
    "\n",
    "A list is the simplest, most flexible and arguably the most frequently used  data structure in Python. It stores a sequence of mutable (changeable) items of possibly different types.\n",
    "\n",
    "**Create a new list**:"
   ]
  },
  {
   "cell_type": "code",
   "execution_count": 57,
   "metadata": {
    "colab": {
     "base_uri": "https://localhost:8080/",
     "height": 90
    },
    "colab_type": "code",
    "executionInfo": {
     "elapsed": 603,
     "status": "ok",
     "timestamp": 1562162441169,
     "user": {
      "displayName": "Kal Ng",
      "photoUrl": "https://lh3.googleusercontent.com/-rYifCyrVYpQ/AAAAAAAAAAI/AAAAAAAABXY/SdD6uwQAGEA/s64/photo.jpg",
      "userId": "16935662242496658514"
     },
     "user_tz": -540
    },
    "id": "343ww6JtOOyw",
    "outputId": "3f82932b-836e-40ae-e807-d8b4f34e6939"
   },
   "outputs": [
    {
     "name": "stdout",
     "output_type": "stream",
     "text": [
      "['apple', 'orange', 'pear']\n",
      "[11, 12, 13, 14]\n",
      "[True, False, True]\n",
      "[11, 'hello', True, [1, 2, 3], ['one', 2, False]]\n"
     ]
    }
   ],
   "source": [
    "fruits = ['apple', 'orange', 'pear']   # a list of strings\n",
    "print(fruits)\n",
    "\n",
    "numbers = [11, 12, 13, 14]             # a list of integers\n",
    "print(numbers)\n",
    "\n",
    "isHandsome = [True, False, True]       # a list of booleans\n",
    "print(isHandsome)\n",
    "\n",
    "rojak = [11, 'hello', True, [1,2,3], ['one', 2, False]]     # a list of different types of items\n",
    "print(rojak)"
   ]
  },
  {
   "cell_type": "markdown",
   "metadata": {
    "colab_type": "text",
    "id": "hRALLCMWOOyx"
   },
   "source": [
    "**Get the length of a list**:"
   ]
  },
  {
   "cell_type": "code",
   "execution_count": 58,
   "metadata": {
    "colab": {
     "base_uri": "https://localhost:8080/",
     "height": 35
    },
    "colab_type": "code",
    "executionInfo": {
     "elapsed": 575,
     "status": "ok",
     "timestamp": 1562162443442,
     "user": {
      "displayName": "Kal Ng",
      "photoUrl": "https://lh3.googleusercontent.com/-rYifCyrVYpQ/AAAAAAAAAAI/AAAAAAAABXY/SdD6uwQAGEA/s64/photo.jpg",
      "userId": "16935662242496658514"
     },
     "user_tz": -540
    },
    "id": "7gXVTu_ZOOyy",
    "outputId": "0ba91be0-bf5b-43e8-c652-d9c67e0a0479"
   },
   "outputs": [
    {
     "data": {
      "text/plain": [
       "4"
      ]
     },
     "execution_count": 58,
     "metadata": {
      "tags": []
     },
     "output_type": "execute_result"
    }
   ],
   "source": [
    "len(numbers)   "
   ]
  },
  {
   "cell_type": "markdown",
   "metadata": {
    "colab_type": "text",
    "id": "JQ_BPrjlOOy1"
   },
   "source": [
    "**Iterate all items in a list**:"
   ]
  },
  {
   "cell_type": "code",
   "execution_count": 59,
   "metadata": {
    "colab": {
     "base_uri": "https://localhost:8080/",
     "height": 90
    },
    "colab_type": "code",
    "executionInfo": {
     "elapsed": 616,
     "status": "ok",
     "timestamp": 1562162445325,
     "user": {
      "displayName": "Kal Ng",
      "photoUrl": "https://lh3.googleusercontent.com/-rYifCyrVYpQ/AAAAAAAAAAI/AAAAAAAABXY/SdD6uwQAGEA/s64/photo.jpg",
      "userId": "16935662242496658514"
     },
     "user_tz": -540
    },
    "id": "t0_Tv9LbOOy1",
    "outputId": "4e730215-4051-4097-cc29-0010d7f68a30"
   },
   "outputs": [
    {
     "name": "stdout",
     "output_type": "stream",
     "text": [
      "11\n",
      "12\n",
      "13\n",
      "14\n"
     ]
    }
   ],
   "source": [
    "numbers = [11, 12, 13, 14]\n",
    "for x in numbers:\n",
    "    print(x)"
   ]
  },
  {
   "cell_type": "markdown",
   "metadata": {
    "colab_type": "text",
    "id": "c6E0BZDbOOy3"
   },
   "source": [
    "**Unpack the values in a list into individual variables:** "
   ]
  },
  {
   "cell_type": "code",
   "execution_count": 60,
   "metadata": {
    "colab": {
     "base_uri": "https://localhost:8080/",
     "height": 72
    },
    "colab_type": "code",
    "executionInfo": {
     "elapsed": 571,
     "status": "ok",
     "timestamp": 1562162447633,
     "user": {
      "displayName": "Kal Ng",
      "photoUrl": "https://lh3.googleusercontent.com/-rYifCyrVYpQ/AAAAAAAAAAI/AAAAAAAABXY/SdD6uwQAGEA/s64/photo.jpg",
      "userId": "16935662242496658514"
     },
     "user_tz": -540
    },
    "id": "tENSY0EvOOy3",
    "outputId": "ea67d5d2-56ed-42be-858b-ea94a91312c5"
   },
   "outputs": [
    {
     "name": "stdout",
     "output_type": "stream",
     "text": [
      "apple\n",
      "orange\n",
      "pear\n"
     ]
    }
   ],
   "source": [
    "a, b, c = fruits\n",
    "print(a)\n",
    "print(b)\n",
    "print(c)"
   ]
  },
  {
   "cell_type": "markdown",
   "metadata": {
    "colab_type": "text",
    "id": "vAR56-JeOOy5"
   },
   "source": [
    "**Concatenate multiple lists**\n",
    "\n",
    "Use the `+` operator to do list concatenation:"
   ]
  },
  {
   "cell_type": "code",
   "execution_count": 61,
   "metadata": {
    "colab": {
     "base_uri": "https://localhost:8080/",
     "height": 72
    },
    "colab_type": "code",
    "executionInfo": {
     "elapsed": 608,
     "status": "ok",
     "timestamp": 1562162449495,
     "user": {
      "displayName": "Kal Ng",
      "photoUrl": "https://lh3.googleusercontent.com/-rYifCyrVYpQ/AAAAAAAAAAI/AAAAAAAABXY/SdD6uwQAGEA/s64/photo.jpg",
      "userId": "16935662242496658514"
     },
     "user_tz": -540
    },
    "id": "j2g2L_JtOOy5",
    "outputId": "3bfd00e2-d498-4fbe-cb27-9e2f4fbfd09b"
   },
   "outputs": [
    {
     "name": "stdout",
     "output_type": "stream",
     "text": [
      "['apple', 'orange', 'pear']\n",
      "['kiwi', 'strawberry']\n",
      "['apple', 'orange', 'pear', 'kiwi', 'strawberry']\n"
     ]
    }
   ],
   "source": [
    "fruits = ['apple', 'orange', 'pear']\n",
    "print(fruits)\n",
    "\n",
    "otherFruits = ['kiwi', 'strawberry']\n",
    "print(otherFruits)\n",
    "\n",
    "allFruits = fruits + otherFruits\n",
    "print(allFruits)"
   ]
  },
  {
   "cell_type": "markdown",
   "metadata": {
    "colab_type": "text",
    "id": "G6NCThx6OOy8"
   },
   "source": [
    "**Access a specific item in the list**:"
   ]
  },
  {
   "cell_type": "code",
   "execution_count": 62,
   "metadata": {
    "colab": {
     "base_uri": "https://localhost:8080/",
     "height": 35
    },
    "colab_type": "code",
    "executionInfo": {
     "elapsed": 582,
     "status": "ok",
     "timestamp": 1562162451380,
     "user": {
      "displayName": "Kal Ng",
      "photoUrl": "https://lh3.googleusercontent.com/-rYifCyrVYpQ/AAAAAAAAAAI/AAAAAAAABXY/SdD6uwQAGEA/s64/photo.jpg",
      "userId": "16935662242496658514"
     },
     "user_tz": -540
    },
    "id": "jKyjaqniOOy8",
    "outputId": "c953e272-f8fe-4ab1-daaa-060ad8e5fff1"
   },
   "outputs": [
    {
     "data": {
      "text/plain": [
       "'apple'"
      ]
     },
     "execution_count": 62,
     "metadata": {
      "tags": []
     },
     "output_type": "execute_result"
    }
   ],
   "source": [
    "fruits[0]            # first item of fruits"
   ]
  },
  {
   "cell_type": "code",
   "execution_count": 63,
   "metadata": {
    "colab": {
     "base_uri": "https://localhost:8080/",
     "height": 35
    },
    "colab_type": "code",
    "executionInfo": {
     "elapsed": 606,
     "status": "ok",
     "timestamp": 1562162453321,
     "user": {
      "displayName": "Kal Ng",
      "photoUrl": "https://lh3.googleusercontent.com/-rYifCyrVYpQ/AAAAAAAAAAI/AAAAAAAABXY/SdD6uwQAGEA/s64/photo.jpg",
      "userId": "16935662242496658514"
     },
     "user_tz": -540
    },
    "id": "9TNKlRaZOOy-",
    "outputId": "d98a7fc7-f0f0-4424-a18f-16d413e51133"
   },
   "outputs": [
    {
     "data": {
      "text/plain": [
       "['durian', 'orange', 'pear']"
      ]
     },
     "execution_count": 63,
     "metadata": {
      "tags": []
     },
     "output_type": "execute_result"
    }
   ],
   "source": [
    "fruits[0] = 'durian'\n",
    "fruits"
   ]
  },
  {
   "cell_type": "code",
   "execution_count": 64,
   "metadata": {
    "colab": {
     "base_uri": "https://localhost:8080/",
     "height": 35
    },
    "colab_type": "code",
    "executionInfo": {
     "elapsed": 843,
     "status": "ok",
     "timestamp": 1562162454824,
     "user": {
      "displayName": "Kal Ng",
      "photoUrl": "https://lh3.googleusercontent.com/-rYifCyrVYpQ/AAAAAAAAAAI/AAAAAAAABXY/SdD6uwQAGEA/s64/photo.jpg",
      "userId": "16935662242496658514"
     },
     "user_tz": -540
    },
    "id": "zGXoZqntOOzD",
    "outputId": "0d304094-7126-4aab-e9d4-542a0f2264c5"
   },
   "outputs": [
    {
     "data": {
      "text/plain": [
       "[1, 2, 3]"
      ]
     },
     "execution_count": 64,
     "metadata": {
      "tags": []
     },
     "output_type": "execute_result"
    }
   ],
   "source": [
    "rojak[3]"
   ]
  },
  {
   "cell_type": "code",
   "execution_count": 65,
   "metadata": {
    "colab": {
     "base_uri": "https://localhost:8080/",
     "height": 35
    },
    "colab_type": "code",
    "executionInfo": {
     "elapsed": 574,
     "status": "ok",
     "timestamp": 1562162455971,
     "user": {
      "displayName": "Kal Ng",
      "photoUrl": "https://lh3.googleusercontent.com/-rYifCyrVYpQ/AAAAAAAAAAI/AAAAAAAABXY/SdD6uwQAGEA/s64/photo.jpg",
      "userId": "16935662242496658514"
     },
     "user_tz": -540
    },
    "id": "GyhxhlcqOOzG",
    "outputId": "264654e4-063a-4b28-c302-3fa8b75037cb"
   },
   "outputs": [
    {
     "data": {
      "text/plain": [
       "[11, 'hello', True, 'new item', ['one', 2, False]]"
      ]
     },
     "execution_count": 65,
     "metadata": {
      "tags": []
     },
     "output_type": "execute_result"
    }
   ],
   "source": [
    "rojak[3] = 'new item'\n",
    "rojak"
   ]
  },
  {
   "cell_type": "markdown",
   "metadata": {
    "colab_type": "text",
    "id": "JqIEQnmOOOzH"
   },
   "source": [
    "**Slice indexing (creating a sublist):**\n",
    "\n",
    "We can index multiple adjacent elements using the slice operator. For instance, `fruits[1:3]` returns a list containing the elements at position 1 and 2. In general `fruits[start:stop]` will get the elements in `start`, `start`+1, ..., `stop`-1. We can also do `fruits[start:]` which returns all elements starting from the start index. Also `fruits[:end]` will return all elements before the element at position end:"
   ]
  },
  {
   "cell_type": "code",
   "execution_count": 66,
   "metadata": {
    "colab": {
     "base_uri": "https://localhost:8080/",
     "height": 90
    },
    "colab_type": "code",
    "executionInfo": {
     "elapsed": 600,
     "status": "ok",
     "timestamp": 1562162457941,
     "user": {
      "displayName": "Kal Ng",
      "photoUrl": "https://lh3.googleusercontent.com/-rYifCyrVYpQ/AAAAAAAAAAI/AAAAAAAABXY/SdD6uwQAGEA/s64/photo.jpg",
      "userId": "16935662242496658514"
     },
     "user_tz": -540
    },
    "id": "IhiqZ6xJOOzH",
    "outputId": "65e0fc86-6ca5-4079-cdcb-99c6622f88cb"
   },
   "outputs": [
    {
     "name": "stdout",
     "output_type": "stream",
     "text": [
      "['apple', 'orange', 'pear', 'kiwi', 'strawberry']\n",
      "['apple', 'orange']\n",
      "['apple', 'orange', 'pear']\n",
      "['pear', 'kiwi', 'strawberry']\n"
     ]
    }
   ],
   "source": [
    "print(allFruits)    # print all items\n",
    "\n",
    "print(allFruits[0:2])  # items 0 and 1 (not including 2)\n",
    "print(allFruits[:3])   # first item to item 2 (not including 3)\n",
    "print(allFruits[2:])   # items 2 to last item"
   ]
  },
  {
   "cell_type": "markdown",
   "metadata": {
    "colab_type": "text",
    "id": "JvTn1y9ROOzI"
   },
   "source": [
    "**Negative indexing:**\n",
    "\n",
    "Python also allows negative-indexing from the back of the list. For instance, `allfruits[-1]` will access the last element `'strawberry'`:"
   ]
  },
  {
   "cell_type": "code",
   "execution_count": 67,
   "metadata": {
    "colab": {
     "base_uri": "https://localhost:8080/",
     "height": 54
    },
    "colab_type": "code",
    "executionInfo": {
     "elapsed": 597,
     "status": "ok",
     "timestamp": 1562162460508,
     "user": {
      "displayName": "Kal Ng",
      "photoUrl": "https://lh3.googleusercontent.com/-rYifCyrVYpQ/AAAAAAAAAAI/AAAAAAAABXY/SdD6uwQAGEA/s64/photo.jpg",
      "userId": "16935662242496658514"
     },
     "user_tz": -540
    },
    "id": "yBPLSC6qOOzJ",
    "outputId": "51274562-efa2-441a-c6ad-1f4b798fb8f8"
   },
   "outputs": [
    {
     "name": "stdout",
     "output_type": "stream",
     "text": [
      "['apple', 'orange', 'pear', 'kiwi', 'strawberry']\n"
     ]
    },
    {
     "data": {
      "text/plain": [
       "'strawberry'"
      ]
     },
     "execution_count": 67,
     "metadata": {
      "tags": []
     },
     "output_type": "execute_result"
    }
   ],
   "source": [
    "print(allFruits)\n",
    "allFruits[-1]"
   ]
  },
  {
   "cell_type": "markdown",
   "metadata": {
    "colab_type": "text",
    "id": "3WVEEVu-OOzK"
   },
   "source": [
    "The following codes combine negative indexing and slice indexing"
   ]
  },
  {
   "cell_type": "code",
   "execution_count": 68,
   "metadata": {
    "colab": {
     "base_uri": "https://localhost:8080/",
     "height": 35
    },
    "colab_type": "code",
    "executionInfo": {
     "elapsed": 591,
     "status": "ok",
     "timestamp": 1562162462370,
     "user": {
      "displayName": "Kal Ng",
      "photoUrl": "https://lh3.googleusercontent.com/-rYifCyrVYpQ/AAAAAAAAAAI/AAAAAAAABXY/SdD6uwQAGEA/s64/photo.jpg",
      "userId": "16935662242496658514"
     },
     "user_tz": -540
    },
    "id": "NJygVF-7OOzK",
    "outputId": "76e92b73-2324-4ea0-fec1-4ed5adbfd86c"
   },
   "outputs": [
    {
     "data": {
      "text/plain": [
       "['pear', 'kiwi', 'strawberry']"
      ]
     },
     "execution_count": 68,
     "metadata": {
      "tags": []
     },
     "output_type": "execute_result"
    }
   ],
   "source": [
    "allFruits[-3:]       # Start from the third last item to the end of the list"
   ]
  },
  {
   "cell_type": "code",
   "execution_count": 69,
   "metadata": {
    "colab": {
     "base_uri": "https://localhost:8080/",
     "height": 35
    },
    "colab_type": "code",
    "executionInfo": {
     "elapsed": 586,
     "status": "ok",
     "timestamp": 1562162464391,
     "user": {
      "displayName": "Kal Ng",
      "photoUrl": "https://lh3.googleusercontent.com/-rYifCyrVYpQ/AAAAAAAAAAI/AAAAAAAABXY/SdD6uwQAGEA/s64/photo.jpg",
      "userId": "16935662242496658514"
     },
     "user_tz": -540
    },
    "id": "UFvjTbrIOOzO",
    "outputId": "516de4fb-d39b-4267-f287-05771333f467"
   },
   "outputs": [
    {
     "data": {
      "text/plain": [
       "['pear', 'kiwi']"
      ]
     },
     "execution_count": 69,
     "metadata": {
      "tags": []
     },
     "output_type": "execute_result"
    }
   ],
   "source": [
    "allFruits[-3:-1]     # Start from the third last item to the second last item of the list"
   ]
  },
  {
   "cell_type": "markdown",
   "metadata": {
    "colab_type": "text",
    "id": "c4t8E_xlOOzP"
   },
   "source": [
    "**Reference copy of a list:**\n",
    "\n",
    "For list, the assignment operator `=` only copy the address of the source. This means that it is *pointing* or *referencing* to the same object as the source. \n",
    "\n",
    "For example:"
   ]
  },
  {
   "cell_type": "code",
   "execution_count": 70,
   "metadata": {
    "colab": {
     "base_uri": "https://localhost:8080/",
     "height": 54
    },
    "colab_type": "code",
    "executionInfo": {
     "elapsed": 593,
     "status": "ok",
     "timestamp": 1562162466904,
     "user": {
      "displayName": "Kal Ng",
      "photoUrl": "https://lh3.googleusercontent.com/-rYifCyrVYpQ/AAAAAAAAAAI/AAAAAAAABXY/SdD6uwQAGEA/s64/photo.jpg",
      "userId": "16935662242496658514"
     },
     "user_tz": -540
    },
    "id": "KnfXWn8XOOzR",
    "outputId": "e1762c4b-e7b5-4523-98a2-57d26cd02b44"
   },
   "outputs": [
    {
     "name": "stdout",
     "output_type": "stream",
     "text": [
      "colors1 =  ['red', 'green']\n",
      "colors2 =  ['red', 'green']\n"
     ]
    }
   ],
   "source": [
    "colors1 = [\"red\", \"green\"]\n",
    "colors2 = colors1\n",
    "print('colors1 = ', colors1)\n",
    "print('colors2 = ', colors2)"
   ]
  },
  {
   "cell_type": "markdown",
   "metadata": {
    "colab_type": "text",
    "id": "qNeQh3dWOOzR"
   },
   "source": [
    "The above results in the following structure:\n",
    "\n",
    "![shallowcopy1](https://raw.githubusercontent.com/kalngyk/repoman/master/referencecopy.png)\n",
    "\n",
    "Since they point to the same list, any changes to either `color1` or `color2` would affect the other."
   ]
  },
  {
   "cell_type": "code",
   "execution_count": 71,
   "metadata": {
    "colab": {
     "base_uri": "https://localhost:8080/",
     "height": 72
    },
    "colab_type": "code",
    "executionInfo": {
     "elapsed": 390,
     "status": "ok",
     "timestamp": 1562162469745,
     "user": {
      "displayName": "Kal Ng",
      "photoUrl": "https://lh3.googleusercontent.com/-rYifCyrVYpQ/AAAAAAAAAAI/AAAAAAAABXY/SdD6uwQAGEA/s64/photo.jpg",
      "userId": "16935662242496658514"
     },
     "user_tz": -540
    },
    "id": "aVKaqbbEOOzR",
    "outputId": "baa280fe-e3ff-4b50-d9f1-2fd8ab1e708e"
   },
   "outputs": [
    {
     "name": "stdout",
     "output_type": "stream",
     "text": [
      "Changing colors2 second element to blue\n",
      "colors1 =  ['red', 'blue']\n",
      "colors2 =  ['red', 'blue']\n"
     ]
    }
   ],
   "source": [
    "print('Changing colors2 second element to blue')\n",
    "colors2[1] = 'blue'            # changing the content of the second item in colors2\n",
    "\n",
    "print ('colors1 = ', colors1)  # colors1 changes too because of shallow copy\n",
    "print ('colors2 = ', colors2)"
   ]
  },
  {
   "cell_type": "markdown",
   "metadata": {
    "colab_type": "text",
    "id": "C8JiijRiOOzU"
   },
   "source": [
    "**Shallow copy of a list:**\n",
    "\n",
    "The method `.copy()` performs a shallow copy where only the content of the shallowest level are copied. "
   ]
  },
  {
   "cell_type": "code",
   "execution_count": 72,
   "metadata": {
    "colab": {
     "base_uri": "https://localhost:8080/",
     "height": 54
    },
    "colab_type": "code",
    "executionInfo": {
     "elapsed": 577,
     "status": "ok",
     "timestamp": 1562162471163,
     "user": {
      "displayName": "Kal Ng",
      "photoUrl": "https://lh3.googleusercontent.com/-rYifCyrVYpQ/AAAAAAAAAAI/AAAAAAAABXY/SdD6uwQAGEA/s64/photo.jpg",
      "userId": "16935662242496658514"
     },
     "user_tz": -540
    },
    "id": "_M7oFbMjOOzV",
    "outputId": "94874345-ee80-42cb-ddcf-2becf6f59154"
   },
   "outputs": [
    {
     "name": "stdout",
     "output_type": "stream",
     "text": [
      "['a', 'b', ['ab', 'ba']]\n",
      "['a', 'b', ['ab', 'ba']]\n"
     ]
    }
   ],
   "source": [
    "list1 = ['a', 'b', ['ab', 'ba']]    # list is shallow - contains only one level\n",
    "list2 = list1.copy()                # copy list\n",
    "print(list1)\n",
    "print(list2)"
   ]
  },
  {
   "cell_type": "markdown",
   "metadata": {
    "colab_type": "text",
    "id": "Ifog7tuFOOzW"
   },
   "source": [
    "The above command results in the following structure:\n",
    "\n",
    "![shallowcopy](https://raw.githubusercontent.com/kalngyk/repoman/master/shallowcopy.png)"
   ]
  },
  {
   "cell_type": "markdown",
   "metadata": {
    "colab_type": "text",
    "id": "dRLiLSRMOOzW"
   },
   "source": [
    "From the figure, it is easy to see why changing the content of the shallow items of one array would not have affect the other array. But, any changes to non-shallow items will affect both arrays"
   ]
  },
  {
   "cell_type": "code",
   "execution_count": 74,
   "metadata": {
    "colab": {
     "base_uri": "https://localhost:8080/",
     "height": 54
    },
    "colab_type": "code",
    "executionInfo": {
     "elapsed": 695,
     "status": "ok",
     "timestamp": 1562162484946,
     "user": {
      "displayName": "Kal Ng",
      "photoUrl": "https://lh3.googleusercontent.com/-rYifCyrVYpQ/AAAAAAAAAAI/AAAAAAAABXY/SdD6uwQAGEA/s64/photo.jpg",
      "userId": "16935662242496658514"
     },
     "user_tz": -540
    },
    "id": "ruM6eGmYOOzW",
    "outputId": "c3a3d26d-c3a2-40c1-b581-e193b369f2cc"
   },
   "outputs": [
    {
     "name": "stdout",
     "output_type": "stream",
     "text": [
      "['a', 'b', ['ab', 'zz']]\n",
      "['a', 'x', ['ab', 'zz']]\n"
     ]
    }
   ],
   "source": [
    "list2[1] = 'x'      # changing a shallow item in list 2  will not affect list1\n",
    "list2[2][1] = 'zz'  # changing a non-shallow item in list2 will also affect list1\n",
    "print(list1)\n",
    "print(list2)"
   ]
  },
  {
   "cell_type": "markdown",
   "metadata": {
    "colab_type": "text",
    "id": "Hl6fclJnOOzY"
   },
   "source": [
    "**Deep copy of list:**\n",
    "\n",
    "To copy the entire structure, we can use the module function `copy.deepcopy`."
   ]
  },
  {
   "cell_type": "code",
   "execution_count": null,
   "metadata": {
    "colab": {},
    "colab_type": "code",
    "id": "CY7WU6TrOOzZ"
   },
   "outputs": [],
   "source": [
    "from copy import deepcopy\n",
    "\n",
    "lst1 = ['a','b',['ab','ba']]\n",
    "lst2 = deepcopy(lst1)   # slice copying\n"
   ]
  },
  {
   "cell_type": "code",
   "execution_count": 76,
   "metadata": {
    "colab": {
     "base_uri": "https://localhost:8080/",
     "height": 54
    },
    "colab_type": "code",
    "executionInfo": {
     "elapsed": 640,
     "status": "ok",
     "timestamp": 1562162490368,
     "user": {
      "displayName": "Kal Ng",
      "photoUrl": "https://lh3.googleusercontent.com/-rYifCyrVYpQ/AAAAAAAAAAI/AAAAAAAABXY/SdD6uwQAGEA/s64/photo.jpg",
      "userId": "16935662242496658514"
     },
     "user_tz": -540
    },
    "id": "F9Popq8lOOzb",
    "outputId": "a2837dd4-aae4-4976-f332-e672765299f1"
   },
   "outputs": [
    {
     "name": "stdout",
     "output_type": "stream",
     "text": [
      "lst1:  ['a', 'b', ['ab', 'ba']]\n",
      "lst2:  ['c', 'b', ['ab', 'd']]\n"
     ]
    }
   ],
   "source": [
    "lst2[0] = 'c'\n",
    "lst2[2][1] = 'd'\n",
    "print('lst1: ', lst1)\n",
    "print('lst2: ', lst2)"
   ]
  },
  {
   "cell_type": "markdown",
   "metadata": {
    "colab_type": "text",
    "id": "7mb62gPfOOzc"
   },
   "source": [
    "### List comparison\n",
    "There are two operators for comparison in Python: `==` and `is`. \n",
    "\n",
    "The operator `is` checks if two variables are referencing the same list or object, while the operator `==` checks if the lists have the same content.\n",
    "\n",
    "For *reference copy*, both `is` and `==` return `True` because they references the same list or object."
   ]
  },
  {
   "cell_type": "code",
   "execution_count": 77,
   "metadata": {
    "colab": {
     "base_uri": "https://localhost:8080/",
     "height": 54
    },
    "colab_type": "code",
    "executionInfo": {
     "elapsed": 622,
     "status": "ok",
     "timestamp": 1562162491776,
     "user": {
      "displayName": "Kal Ng",
      "photoUrl": "https://lh3.googleusercontent.com/-rYifCyrVYpQ/AAAAAAAAAAI/AAAAAAAABXY/SdD6uwQAGEA/s64/photo.jpg",
      "userId": "16935662242496658514"
     },
     "user_tz": -540
    },
    "id": "ZST-3nKkOOze",
    "outputId": "d77fd509-abc2-4ec3-e72e-a9a26990a3b5"
   },
   "outputs": [
    {
     "name": "stdout",
     "output_type": "stream",
     "text": [
      "True\n",
      "True\n"
     ]
    }
   ],
   "source": [
    "a = [1, 2, 3]\n",
    "b = a\n",
    "print(b is a)\n",
    "print(b == a)"
   ]
  },
  {
   "cell_type": "markdown",
   "metadata": {
    "colab_type": "text",
    "id": "wMWUvbVKOOzf"
   },
   "source": [
    "For *shallow copy* and *deep copy*,\n",
    "* `is` returns `False` because they are pointing to different lists or objects.\n",
    "* `==` returns `True` because their content are the same."
   ]
  },
  {
   "cell_type": "code",
   "execution_count": 78,
   "metadata": {
    "colab": {
     "base_uri": "https://localhost:8080/",
     "height": 54
    },
    "colab_type": "code",
    "executionInfo": {
     "elapsed": 568,
     "status": "ok",
     "timestamp": 1562162494207,
     "user": {
      "displayName": "Kal Ng",
      "photoUrl": "https://lh3.googleusercontent.com/-rYifCyrVYpQ/AAAAAAAAAAI/AAAAAAAABXY/SdD6uwQAGEA/s64/photo.jpg",
      "userId": "16935662242496658514"
     },
     "user_tz": -540
    },
    "id": "SMxoHXclOOzf",
    "outputId": "edc9db78-5eca-4348-8663-bfc882114b6c"
   },
   "outputs": [
    {
     "name": "stdout",
     "output_type": "stream",
     "text": [
      "False\n",
      "True\n"
     ]
    }
   ],
   "source": [
    "b = a.copy()\n",
    "print(b is a)\n",
    "print(b == a)"
   ]
  },
  {
   "cell_type": "code",
   "execution_count": 79,
   "metadata": {
    "colab": {
     "base_uri": "https://localhost:8080/",
     "height": 54
    },
    "colab_type": "code",
    "executionInfo": {
     "elapsed": 592,
     "status": "ok",
     "timestamp": 1562162496631,
     "user": {
      "displayName": "Kal Ng",
      "photoUrl": "https://lh3.googleusercontent.com/-rYifCyrVYpQ/AAAAAAAAAAI/AAAAAAAABXY/SdD6uwQAGEA/s64/photo.jpg",
      "userId": "16935662242496658514"
     },
     "user_tz": -540
    },
    "id": "aFbQIuJaOOzg",
    "outputId": "c704b580-7119-4a15-b564-726bc79f9538"
   },
   "outputs": [
    {
     "name": "stdout",
     "output_type": "stream",
     "text": [
      "False\n",
      "True\n"
     ]
    }
   ],
   "source": [
    "from copy import deepcopy\n",
    "c = deepcopy(a)\n",
    "print(b is a)\n",
    "print(b == a)"
   ]
  },
  {
   "cell_type": "markdown",
   "metadata": {
    "colab_type": "text",
    "id": "nosy-jlAOOzi"
   },
   "source": [
    "### Quick reference to useful functions for list\n",
    "\n",
    "**`list.append(x)`**: Add an item to the end of the list; equivalent to `a[len(a):] = [x]`<br>\n",
    "**`list.extend(x)`**: Extend the list by appending all the items in the given list; equivalent to `a[len(a):] = L`.<br>\n",
    "**`list.insert(i, x)`**: Insert the item x at position i. The first argument is the index of the element before which to insert, so `a.insert(0, x)` inserts at the front of the list, and `a.insert(len(a), x)` is equivalent to `a.append(x)`.<br>\n",
    "**`list.remove(x)`**: Remove the first item from the list whose value is `x` . It is an error if there is no such item.<br>\n",
    "**`list.pop(i)`**: Remove the item at the given position in the list, and return it. If no index is specified, `a.pop()` removes and returns the last item in the list.<br>\n",
    "**`list.index(x)`**: Return the index in the list of the first item whose value is `x`. It is an error if there is no such item.<br>\n",
    "**`List.count(x)`**: Return the number of times `x` appears in the list.<br>\n",
    "**`list.sort(key=None, reverse=False)`**: Sort the items of the list in place.<br>\n",
    "**`list.reverse()`**: Reverse the elements of the list, in place.<br>\n",
    "**`len(list)`**: Returns the number of items in the sequence.<br>\n",
    "**`min(list)`**: Returns the smallest item in the sequence.<br>\n",
    "**`max(list)`**: Returns the biggest item in the sequence.<br>\n",
    "**`any(list)`**: Returns `True` if there exists an item in the sequence which is `True`.<br>\n",
    "**`all(list)`**: Returns `True` if all items in the seuqnece are True.<br>\n"
   ]
  },
  {
   "cell_type": "markdown",
   "metadata": {
    "colab_type": "text",
    "id": "HtTgCpqxOOzn"
   },
   "source": [
    "---\n",
    "## Tuple\n",
    "\n",
    "A tuple is a data structure that is similar to the list except that it is immutable once it is created, i.e., you cannot change its content once created. It takes up less memory for the same number of items compared to list. So, it is advisable to use tuples compared to list if possible. \n",
    "\n",
    "To **create a tuple**, use a parentheses rather than a square brackets."
   ]
  },
  {
   "cell_type": "code",
   "execution_count": 80,
   "metadata": {
    "colab": {
     "base_uri": "https://localhost:8080/",
     "height": 54
    },
    "colab_type": "code",
    "executionInfo": {
     "elapsed": 616,
     "status": "ok",
     "timestamp": 1562162501410,
     "user": {
      "displayName": "Kal Ng",
      "photoUrl": "https://lh3.googleusercontent.com/-rYifCyrVYpQ/AAAAAAAAAAI/AAAAAAAABXY/SdD6uwQAGEA/s64/photo.jpg",
      "userId": "16935662242496658514"
     },
     "user_tz": -540
    },
    "id": "mwJdfgKuOOzn",
    "outputId": "22a0b833-7d29-40ab-aae5-2c989e2ea306"
   },
   "outputs": [
    {
     "name": "stdout",
     "output_type": "stream",
     "text": [
      "(3, 5)\n",
      "3\n"
     ]
    }
   ],
   "source": [
    "pair = (3,5)\n",
    "print(pair)\n",
    "print(pair[0])"
   ]
  },
  {
   "cell_type": "markdown",
   "metadata": {
    "colab_type": "text",
    "id": "7AjU_nl3OOzr"
   },
   "source": [
    "The attempt to modify an immutable structure will raise an exception. Exceptions indicate errors: index out of bounds errors, type errors, and so on will all report exceptions in this way."
   ]
  },
  {
   "cell_type": "code",
   "execution_count": 81,
   "metadata": {
    "colab": {
     "base_uri": "https://localhost:8080/",
     "height": 172
    },
    "colab_type": "code",
    "executionInfo": {
     "elapsed": 617,
     "status": "error",
     "timestamp": 1562162503587,
     "user": {
      "displayName": "Kal Ng",
      "photoUrl": "https://lh3.googleusercontent.com/-rYifCyrVYpQ/AAAAAAAAAAI/AAAAAAAABXY/SdD6uwQAGEA/s64/photo.jpg",
      "userId": "16935662242496658514"
     },
     "user_tz": -540
    },
    "id": "F9Onj6S-OOzr",
    "outputId": "274eeca7-ddd5-4841-cd1e-c75870ceae90"
   },
   "outputs": [
    {
     "ename": "TypeError",
     "evalue": "ignored",
     "output_type": "error",
     "traceback": [
      "\u001b[0;31m---------------------------------------------------------------------------\u001b[0m",
      "\u001b[0;31mTypeError\u001b[0m                                 Traceback (most recent call last)",
      "\u001b[0;32m<ipython-input-81-392fbb166e50>\u001b[0m in \u001b[0;36m<module>\u001b[0;34m()\u001b[0m\n\u001b[0;32m----> 1\u001b[0;31m \u001b[0mpair\u001b[0m\u001b[0;34m[\u001b[0m\u001b[0;36m1\u001b[0m\u001b[0;34m]\u001b[0m \u001b[0;34m=\u001b[0m \u001b[0;36m6\u001b[0m\u001b[0;34m\u001b[0m\u001b[0;34m\u001b[0m\u001b[0m\n\u001b[0m",
      "\u001b[0;31mTypeError\u001b[0m: 'tuple' object does not support item assignment"
     ]
    }
   ],
   "source": [
    "pair[1] = 6"
   ]
  },
  {
   "cell_type": "markdown",
   "metadata": {
    "colab_type": "text",
    "id": "84Rj4ukDOOzr"
   },
   "source": [
    "---\n",
    "## Set\n",
    "\n",
    "A set is like a list, but allows **no duplicate items**. Common set operations (difference, intersection, union) are available for the data structure.\n",
    "\n",
    "**Create a new set from list**:"
   ]
  },
  {
   "cell_type": "code",
   "execution_count": 82,
   "metadata": {
    "colab": {
     "base_uri": "https://localhost:8080/",
     "height": 35
    },
    "colab_type": "code",
    "executionInfo": {
     "elapsed": 580,
     "status": "ok",
     "timestamp": 1562162510503,
     "user": {
      "displayName": "Kal Ng",
      "photoUrl": "https://lh3.googleusercontent.com/-rYifCyrVYpQ/AAAAAAAAAAI/AAAAAAAABXY/SdD6uwQAGEA/s64/photo.jpg",
      "userId": "16935662242496658514"
     },
     "user_tz": -540
    },
    "id": "LoDck_65OOzr",
    "outputId": "01339902-7573-4bc7-d6b9-edeecc19003d"
   },
   "outputs": [
    {
     "data": {
      "text/plain": [
       "{'circle', 'square', 'triangle'}"
      ]
     },
     "execution_count": 82,
     "metadata": {
      "tags": []
     },
     "output_type": "execute_result"
    }
   ],
   "source": [
    "user_selected_shapes = ['circle', 'square', 'triangle', 'circle']\n",
    "shapes = set(user_selected_shapes)\n",
    "shapes"
   ]
  },
  {
   "cell_type": "markdown",
   "metadata": {
    "colab_type": "text",
    "id": "awEbRqdGOOzs"
   },
   "source": [
    "**Insert new items into a set**:"
   ]
  },
  {
   "cell_type": "code",
   "execution_count": 83,
   "metadata": {
    "colab": {
     "base_uri": "https://localhost:8080/",
     "height": 127
    },
    "colab_type": "code",
    "executionInfo": {
     "elapsed": 596,
     "status": "ok",
     "timestamp": 1562162512728,
     "user": {
      "displayName": "Kal Ng",
      "photoUrl": "https://lh3.googleusercontent.com/-rYifCyrVYpQ/AAAAAAAAAAI/AAAAAAAABXY/SdD6uwQAGEA/s64/photo.jpg",
      "userId": "16935662242496658514"
     },
     "user_tz": -540
    },
    "id": "OlcPRk3MOOzs",
    "outputId": "6e3cfe60-6453-4824-8c72-b0ee1302658e"
   },
   "outputs": [
    {
     "name": "stdout",
     "output_type": "stream",
     "text": [
      "Adding pentagon\n",
      "{'pentagon', 'circle', 'square', 'triangle'}\n",
      "Adding circle\n",
      "{'pentagon', 'circle', 'square', 'triangle'}\n",
      "Adding triangle\n",
      "{'pentagon', 'circle', 'square', 'triangle'}\n"
     ]
    }
   ],
   "source": [
    "print(\"Adding pentagon\")\n",
    "shapes.add('pentagon') \n",
    "print(shapes)\n",
    "print(\"Adding circle\")\n",
    "shapes.add('circle')\n",
    "print(shapes)\n",
    "print(\"Adding triangle\")\n",
    "shapes.add('triangle')\n",
    "print(shapes)\n",
    "\n"
   ]
  },
  {
   "cell_type": "markdown",
   "metadata": {
    "colab_type": "text",
    "id": "rlzWWU9vOOzx"
   },
   "source": [
    "**Check if exist in set**:"
   ]
  },
  {
   "cell_type": "code",
   "execution_count": 84,
   "metadata": {
    "colab": {
     "base_uri": "https://localhost:8080/",
     "height": 54
    },
    "colab_type": "code",
    "executionInfo": {
     "elapsed": 606,
     "status": "ok",
     "timestamp": 1562162515041,
     "user": {
      "displayName": "Kal Ng",
      "photoUrl": "https://lh3.googleusercontent.com/-rYifCyrVYpQ/AAAAAAAAAAI/AAAAAAAABXY/SdD6uwQAGEA/s64/photo.jpg",
      "userId": "16935662242496658514"
     },
     "user_tz": -540
    },
    "id": "w-dJZCazOOzx",
    "outputId": "564a292d-028a-4709-eca2-625e107e97d3"
   },
   "outputs": [
    {
     "name": "stdout",
     "output_type": "stream",
     "text": [
      "circle exists in shapes\n",
      "rhombus does not exist in shapes\n"
     ]
    }
   ],
   "source": [
    "if 'circle' in shapes:\n",
    "    print('circle exists in shapes')\n",
    "else:\n",
    "    print('circle does not exist in shapes')\n",
    "    \n",
    "if 'rhombus' in shapes:\n",
    "    print('rhombus exists in shapes')\n",
    "else:\n",
    "    print('rhombus does not exist in shapes')\n",
    "    "
   ]
  },
  {
   "cell_type": "markdown",
   "metadata": {
    "colab_type": "text",
    "id": "hexl9ccGOOzy"
   },
   "source": [
    "**Operations on set**:\n",
    "\n",
    "The following shows how to perform intersection (`&`), union (`|`) and deletion (`-`) operation on two sets."
   ]
  },
  {
   "cell_type": "code",
   "execution_count": 85,
   "metadata": {
    "colab": {
     "base_uri": "https://localhost:8080/",
     "height": 127
    },
    "colab_type": "code",
    "executionInfo": {
     "elapsed": 592,
     "status": "ok",
     "timestamp": 1562162516891,
     "user": {
      "displayName": "Kal Ng",
      "photoUrl": "https://lh3.googleusercontent.com/-rYifCyrVYpQ/AAAAAAAAAAI/AAAAAAAABXY/SdD6uwQAGEA/s64/photo.jpg",
      "userId": "16935662242496658514"
     },
     "user_tz": -540
    },
    "id": "fFBhg8DVOOzz",
    "outputId": "12698199-faee-449a-ca10-f54834489b7c"
   },
   "outputs": [
    {
     "name": "stdout",
     "output_type": "stream",
     "text": [
      "shapes:    {'pentagon', 'circle', 'square', 'triangle'}\n",
      "polygons:  {'pentagon', 'square', 'hexagon', 'triangle'}\n",
      "\n",
      "shapes minus polygons: {'circle'}\n",
      "shapes intersect polygons: {'pentagon', 'square', 'triangle'}\n",
      "shapes union polygons: {'square', 'hexagon', 'pentagon', 'circle', 'triangle'}\n"
     ]
    }
   ],
   "source": [
    "polygons = set(['triangle', 'square', 'hexagon', 'pentagon'])\n",
    "print ('shapes:   ', shapes)\n",
    "print ('polygons: ', polygons)\n",
    "print ()\n",
    "\n",
    "print('shapes minus polygons:', shapes - polygons)\n",
    "print('shapes intersect polygons:', shapes & polygons)\n",
    "print('shapes union polygons:', shapes | polygons)"
   ]
  },
  {
   "cell_type": "markdown",
   "metadata": {
    "colab_type": "text",
    "id": "IGk6izvIOOz1"
   },
   "source": [
    "---\n",
    "## Dictionary\n",
    "\n",
    "The dictionary is arguably the second most commonly used data structure in Python. A dictionary stores a map from one type of object (the `key`) to another (the `value`). \n",
    "* The `key` must be of an immutable type (string, number, or tuple). \n",
    "* The `value` can be of any Python data type (objects, lists, dictionaries, etc).\n",
    "\n"
   ]
  },
  {
   "cell_type": "markdown",
   "metadata": {
    "colab_type": "text",
    "id": "HqZ_DaY_L5xh"
   },
   "source": [
    "**Creating a dictionary**:\n",
    "\n",
    "There are many ways to create a dictionary. \n",
    "The standard way is to use the curly bracket `{}`."
   ]
  },
  {
   "cell_type": "code",
   "execution_count": 86,
   "metadata": {
    "colab": {
     "base_uri": "https://localhost:8080/",
     "height": 35
    },
    "colab_type": "code",
    "executionInfo": {
     "elapsed": 571,
     "status": "ok",
     "timestamp": 1562162521841,
     "user": {
      "displayName": "Kal Ng",
      "photoUrl": "https://lh3.googleusercontent.com/-rYifCyrVYpQ/AAAAAAAAAAI/AAAAAAAABXY/SdD6uwQAGEA/s64/photo.jpg",
      "userId": "16935662242496658514"
     },
     "user_tz": -540
    },
    "id": "HYPvz_xvOOz1",
    "outputId": "f529bf98-915e-4638-c239-d13a076ca2d7"
   },
   "outputs": [
    {
     "data": {
      "text/plain": [
       "{'joe': 10491, 'mary': 10489}"
      ]
     },
     "execution_count": 86,
     "metadata": {
      "tags": []
     },
     "output_type": "execute_result"
    }
   ],
   "source": [
    "studentIds = {'joe': 10491, 'mary': 10489}\n",
    "studentIds"
   ]
  },
  {
   "cell_type": "markdown",
   "metadata": {
    "colab_type": "text",
    "id": "eyt3dmtBOOz3"
   },
   "source": [
    "Another way is to pass a list of tuples to the dict constructor:"
   ]
  },
  {
   "cell_type": "code",
   "execution_count": 87,
   "metadata": {
    "colab": {
     "base_uri": "https://localhost:8080/",
     "height": 35
    },
    "colab_type": "code",
    "executionInfo": {
     "elapsed": 591,
     "status": "ok",
     "timestamp": 1562162523377,
     "user": {
      "displayName": "Kal Ng",
      "photoUrl": "https://lh3.googleusercontent.com/-rYifCyrVYpQ/AAAAAAAAAAI/AAAAAAAABXY/SdD6uwQAGEA/s64/photo.jpg",
      "userId": "16935662242496658514"
     },
     "user_tz": -540
    },
    "id": "2Qg1ibq4OOz3",
    "outputId": "c04f3a75-1c01-418a-c731-8c0ee1d13760"
   },
   "outputs": [
    {
     "data": {
      "text/plain": [
       "{'guido': 4127, 'jack': 4098, 'sape': 4139}"
      ]
     },
     "execution_count": 87,
     "metadata": {
      "tags": []
     },
     "output_type": "execute_result"
    }
   ],
   "source": [
    "d1 = dict([('sape', 4139), ('guido', 4127), ('jack', 4098)])\n",
    "d1"
   ]
  },
  {
   "cell_type": "markdown",
   "metadata": {
    "colab_type": "text",
    "id": "6hmsFWzDOOz5"
   },
   "source": [
    "\n",
    "Yet another way is to pass keyword arguments to the dict constructor:"
   ]
  },
  {
   "cell_type": "code",
   "execution_count": 88,
   "metadata": {
    "colab": {
     "base_uri": "https://localhost:8080/",
     "height": 35
    },
    "colab_type": "code",
    "executionInfo": {
     "elapsed": 589,
     "status": "ok",
     "timestamp": 1562162524615,
     "user": {
      "displayName": "Kal Ng",
      "photoUrl": "https://lh3.googleusercontent.com/-rYifCyrVYpQ/AAAAAAAAAAI/AAAAAAAABXY/SdD6uwQAGEA/s64/photo.jpg",
      "userId": "16935662242496658514"
     },
     "user_tz": -540
    },
    "id": "gJl3ft3FOOz5",
    "outputId": "52b49bd0-a11d-4a13-8587-32278d4b08ba"
   },
   "outputs": [
    {
     "data": {
      "text/plain": [
       "{'guido': 4127, 'jack': 4098, 'sape': 4139}"
      ]
     },
     "execution_count": 88,
     "metadata": {
      "tags": []
     },
     "output_type": "execute_result"
    }
   ],
   "source": [
    "d2 = dict(sape=4139, guido=4127, jack=4098)\n",
    "d2"
   ]
  },
  {
   "cell_type": "markdown",
   "metadata": {
    "colab_type": "text",
    "id": "fI7E_g6yOOz6"
   },
   "source": [
    "Lastly, you can also use two different lists, one for keys and the other for values. Then, we can construct the dictionary using list comprehensions (which we will cover next)."
   ]
  },
  {
   "cell_type": "code",
   "execution_count": 89,
   "metadata": {
    "colab": {
     "base_uri": "https://localhost:8080/",
     "height": 35
    },
    "colab_type": "code",
    "executionInfo": {
     "elapsed": 577,
     "status": "ok",
     "timestamp": 1562162526588,
     "user": {
      "displayName": "Kal Ng",
      "photoUrl": "https://lh3.googleusercontent.com/-rYifCyrVYpQ/AAAAAAAAAAI/AAAAAAAABXY/SdD6uwQAGEA/s64/photo.jpg",
      "userId": "16935662242496658514"
     },
     "user_tz": -540
    },
    "id": "46bJOThGOOz6",
    "outputId": "ade9e280-b0a1-4671-be1e-36b4cd25e1a8"
   },
   "outputs": [
    {
     "data": {
      "text/plain": [
       "{'joe': 10491, 'mary': 10489}"
      ]
     },
     "execution_count": 89,
     "metadata": {
      "tags": []
     },
     "output_type": "execute_result"
    }
   ],
   "source": [
    "namelist = ['joe', 'mary']\n",
    "ids = [10491, 10489]\n",
    "d3 = {name: age for name, age in zip(namelist, ids)}   # list comprehension\n",
    "d3"
   ]
  },
  {
   "cell_type": "markdown",
   "metadata": {
    "colab_type": "text",
    "id": "w0sNnmEMOOz8"
   },
   "source": [
    "\n",
    "**Indexing an item in dictionary**:"
   ]
  },
  {
   "cell_type": "code",
   "execution_count": 90,
   "metadata": {
    "colab": {
     "base_uri": "https://localhost:8080/",
     "height": 72
    },
    "colab_type": "code",
    "executionInfo": {
     "elapsed": 642,
     "status": "ok",
     "timestamp": 1562162527759,
     "user": {
      "displayName": "Kal Ng",
      "photoUrl": "https://lh3.googleusercontent.com/-rYifCyrVYpQ/AAAAAAAAAAI/AAAAAAAABXY/SdD6uwQAGEA/s64/photo.jpg",
      "userId": "16935662242496658514"
     },
     "user_tz": -540
    },
    "id": "jzry1JJrOOz8",
    "outputId": "c9306e78-4b44-4eb7-c831-3af3cb15ccfd"
   },
   "outputs": [
    {
     "name": "stdout",
     "output_type": "stream",
     "text": [
      "{'joe': 42.0, 'mary': 56.0}\n",
      "56.0\n",
      "{'joe': 42.0, 'mary': 100}\n"
     ]
    }
   ],
   "source": [
    "studentIds = {'joe': 42.0, 'mary': 56.0}\n",
    "print (studentIds)\n",
    "\n",
    "# accessing the item with key 'mary'\n",
    "print(studentIds['mary'])\n",
    "\n",
    "\n",
    "# Changing the item with key 'mary'\n",
    "studentIds['mary'] = 100\n",
    "print(studentIds)"
   ]
  },
  {
   "cell_type": "markdown",
   "metadata": {
    "colab_type": "text",
    "id": "W25KrW6ROOz-"
   },
   "source": [
    "**Adding an item in dictionary**:"
   ]
  },
  {
   "cell_type": "code",
   "execution_count": 91,
   "metadata": {
    "colab": {
     "base_uri": "https://localhost:8080/",
     "height": 35
    },
    "colab_type": "code",
    "executionInfo": {
     "elapsed": 613,
     "status": "ok",
     "timestamp": 1562162530398,
     "user": {
      "displayName": "Kal Ng",
      "photoUrl": "https://lh3.googleusercontent.com/-rYifCyrVYpQ/AAAAAAAAAAI/AAAAAAAABXY/SdD6uwQAGEA/s64/photo.jpg",
      "userId": "16935662242496658514"
     },
     "user_tz": -540
    },
    "id": "NylNOSLfOOz-",
    "outputId": "205a63e5-c7ed-405c-d2b5-a624fe6e20e0"
   },
   "outputs": [
    {
     "data": {
      "text/plain": [
       "{'ali': 92.0, 'joe': 42.0, 'mary': 100}"
      ]
     },
     "execution_count": 91,
     "metadata": {
      "tags": []
     },
     "output_type": "execute_result"
    }
   ],
   "source": [
    "studentIds['ali'] = 92.0\n",
    "studentIds"
   ]
  },
  {
   "cell_type": "markdown",
   "metadata": {
    "colab_type": "text",
    "id": "kqWbS9QNOOz_"
   },
   "source": [
    "**The values can be of different types**:"
   ]
  },
  {
   "cell_type": "code",
   "execution_count": 92,
   "metadata": {
    "colab": {
     "base_uri": "https://localhost:8080/",
     "height": 54
    },
    "colab_type": "code",
    "executionInfo": {
     "elapsed": 607,
     "status": "ok",
     "timestamp": 1562162531575,
     "user": {
      "displayName": "Kal Ng",
      "photoUrl": "https://lh3.googleusercontent.com/-rYifCyrVYpQ/AAAAAAAAAAI/AAAAAAAABXY/SdD6uwQAGEA/s64/photo.jpg",
      "userId": "16935662242496658514"
     },
     "user_tz": -540
    },
    "id": "sn2kHHnwOOz_",
    "outputId": "c188708d-1486-427c-cbcd-ebff00068558"
   },
   "outputs": [
    {
     "name": "stdout",
     "output_type": "stream",
     "text": [
      "{'joe': 'forty-two', 'mary': 100, 'ali': 92.0}\n",
      "{'joe': 'forty-two', 'mary': 100, 'ali': [42.0, 'forty-two']}\n"
     ]
    }
   ],
   "source": [
    "studentIds['joe'] = 'forty-two'         # string type\n",
    "print(studentIds)\n",
    "\n",
    "studentIds['ali'] = [42.0,'forty-two']  # list type\n",
    "print(studentIds)"
   ]
  },
  {
   "cell_type": "markdown",
   "metadata": {
    "colab_type": "text",
    "id": "CVQcJVh3OO0B"
   },
   "source": [
    "**Getting the size of a dictionary**:"
   ]
  },
  {
   "cell_type": "code",
   "execution_count": 93,
   "metadata": {
    "colab": {
     "base_uri": "https://localhost:8080/",
     "height": 35
    },
    "colab_type": "code",
    "executionInfo": {
     "elapsed": 581,
     "status": "ok",
     "timestamp": 1562162533713,
     "user": {
      "displayName": "Kal Ng",
      "photoUrl": "https://lh3.googleusercontent.com/-rYifCyrVYpQ/AAAAAAAAAAI/AAAAAAAABXY/SdD6uwQAGEA/s64/photo.jpg",
      "userId": "16935662242496658514"
     },
     "user_tz": -540
    },
    "id": "D67GwX9KOO0B",
    "outputId": "c2dc6d90-3da4-4604-d3fe-e7859f17ba90"
   },
   "outputs": [
    {
     "data": {
      "text/plain": [
       "3"
      ]
     },
     "execution_count": 93,
     "metadata": {
      "tags": []
     },
     "output_type": "execute_result"
    }
   ],
   "source": [
    "len(studentIds)"
   ]
  },
  {
   "cell_type": "markdown",
   "metadata": {
    "colab_type": "text",
    "id": "EkVMWEzvOO0C"
   },
   "source": [
    "**Accessing the keys and values in dictionary**:\n",
    "\n",
    "*(Note that the order of the keys returned may be different from the order in which the keys are created.)*"
   ]
  },
  {
   "cell_type": "code",
   "execution_count": 94,
   "metadata": {
    "colab": {
     "base_uri": "https://localhost:8080/",
     "height": 54
    },
    "colab_type": "code",
    "executionInfo": {
     "elapsed": 787,
     "status": "ok",
     "timestamp": 1562162535223,
     "user": {
      "displayName": "Kal Ng",
      "photoUrl": "https://lh3.googleusercontent.com/-rYifCyrVYpQ/AAAAAAAAAAI/AAAAAAAABXY/SdD6uwQAGEA/s64/photo.jpg",
      "userId": "16935662242496658514"
     },
     "user_tz": -540
    },
    "id": "vSqAj-woOO0C",
    "outputId": "0a649d2e-6a79-4ea6-d407-5419885900e8"
   },
   "outputs": [
    {
     "name": "stdout",
     "output_type": "stream",
     "text": [
      "dict_keys(['joe', 'mary', 'ali'])\n",
      "dict_values(['forty-two', 100, [42.0, 'forty-two']])\n"
     ]
    }
   ],
   "source": [
    "print(studentIds.keys())\n",
    "print(studentIds.values())"
   ]
  },
  {
   "cell_type": "markdown",
   "metadata": {
    "colab_type": "text",
    "id": "_w6swSvYOO0G"
   },
   "source": [
    "**Converting the dict_keys and dict_values directly to list**:"
   ]
  },
  {
   "cell_type": "code",
   "execution_count": 95,
   "metadata": {
    "colab": {
     "base_uri": "https://localhost:8080/",
     "height": 164
    },
    "colab_type": "code",
    "executionInfo": {
     "elapsed": 594,
     "status": "ok",
     "timestamp": 1562162537403,
     "user": {
      "displayName": "Kal Ng",
      "photoUrl": "https://lh3.googleusercontent.com/-rYifCyrVYpQ/AAAAAAAAAAI/AAAAAAAABXY/SdD6uwQAGEA/s64/photo.jpg",
      "userId": "16935662242496658514"
     },
     "user_tz": -540
    },
    "id": "P1hO42x1OO0H",
    "outputId": "183a4ad2-738e-4d2b-fee8-e50054c48dc5"
   },
   "outputs": [
    {
     "name": "stdout",
     "output_type": "stream",
     "text": [
      "['joe', 'mary', 'ali']\n",
      "joe\n",
      "mary\n",
      "ali\n",
      "['forty-two', 100, [42.0, 'forty-two']]\n",
      "forty-two\n",
      "100\n",
      "[42.0, 'forty-two']\n"
     ]
    }
   ],
   "source": [
    "print(list(studentIds.keys()))\n",
    "for k in list(studentIds.keys()):\n",
    "    print(k)\n",
    "\n",
    "print(list(studentIds.values()))\n",
    "for v in list(studentIds.values()):\n",
    "    print(v)"
   ]
  },
  {
   "cell_type": "markdown",
   "metadata": {
    "colab_type": "text",
    "id": "s4BvmBX2OO0I"
   },
   "source": [
    "**Accessing items, keys and values in a dictionary**:\n",
    "\n",
    "* `<dictionary>.items()` is an iterable object. When used with `for`, it iterates through the list of all *items* in `dictionary`, returning one item at a time. Each item is a tuple  `(key, value)`.\n",
    "* `<dictionary>.keys()` is an iterable object. When used with `for`, it iterates through the *keys* of all items in `dictionary`, returning one key at a time. \n",
    "* `<dictionary>.values()` is an iterable object. When used with `for`, it iterates through the *values* of all items in `dictionary`, returning one value at a time. "
   ]
  },
  {
   "cell_type": "code",
   "execution_count": 96,
   "metadata": {
    "colab": {
     "base_uri": "https://localhost:8080/",
     "height": 274
    },
    "colab_type": "code",
    "executionInfo": {
     "elapsed": 554,
     "status": "ok",
     "timestamp": 1562162541522,
     "user": {
      "displayName": "Kal Ng",
      "photoUrl": "https://lh3.googleusercontent.com/-rYifCyrVYpQ/AAAAAAAAAAI/AAAAAAAABXY/SdD6uwQAGEA/s64/photo.jpg",
      "userId": "16935662242496658514"
     },
     "user_tz": -540
    },
    "id": "UX2qEy7vOO0I",
    "outputId": "f08af30e-b4b4-404e-dc2b-b5d749492a5a"
   },
   "outputs": [
    {
     "name": "stdout",
     "output_type": "stream",
     "text": [
      "All items in studentIds: \n",
      "joe : forty-two\n",
      "mary : 100\n",
      "ali : [42.0, 'forty-two']\n",
      "\n",
      "The keys of all items in studentIds: \n",
      "joe\n",
      "mary\n",
      "ali\n",
      "\n",
      "The values of all items in studentIds: \n",
      "forty-two\n",
      "100\n",
      "[42.0, 'forty-two']\n"
     ]
    }
   ],
   "source": [
    "print('All items in studentIds: ')\n",
    "for item in studentIds.items(): \n",
    "    print (item[0], ':', item[1])   # item[0] is the key, item[1] is the value\n",
    "\n",
    "print('\\nThe keys of all items in studentIds: ')\n",
    "for key in studentIds.keys():\n",
    "    print (key)\n",
    "\n",
    "print('\\nThe values of all items in studentIds: ')\n",
    "for value in studentIds.values():\n",
    "    print (value)"
   ]
  },
  {
   "cell_type": "markdown",
   "metadata": {
    "colab_type": "text",
    "id": "pMrmR1h3OO0J"
   },
   "source": [
    "**Removing an item from dictionary**:"
   ]
  },
  {
   "cell_type": "code",
   "execution_count": 97,
   "metadata": {
    "colab": {
     "base_uri": "https://localhost:8080/",
     "height": 35
    },
    "colab_type": "code",
    "executionInfo": {
     "elapsed": 643,
     "status": "ok",
     "timestamp": 1562162544056,
     "user": {
      "displayName": "Kal Ng",
      "photoUrl": "https://lh3.googleusercontent.com/-rYifCyrVYpQ/AAAAAAAAAAI/AAAAAAAABXY/SdD6uwQAGEA/s64/photo.jpg",
      "userId": "16935662242496658514"
     },
     "user_tz": -540
    },
    "id": "RpRjJiujOO0J",
    "outputId": "a4d26e60-ada6-4b29-ff42-3a61029cb720"
   },
   "outputs": [
    {
     "data": {
      "text/plain": [
       "{'ali': [42.0, 'forty-two'], 'mary': 100}"
      ]
     },
     "execution_count": 97,
     "metadata": {
      "tags": []
     },
     "output_type": "execute_result"
    }
   ],
   "source": [
    "del studentIds['joe']\n",
    "studentIds"
   ]
  },
  {
   "cell_type": "markdown",
   "metadata": {
    "colab_type": "text",
    "id": "L_eIU6i_OO0K"
   },
   "source": [
    "As with nested lists, you can also create dictionaries of dictionaries."
   ]
  },
  {
   "cell_type": "markdown",
   "metadata": {
    "colab_type": "text",
    "id": "UCohV_YbOO0Q"
   },
   "source": [
    "---\n",
    "# Section 4: Advanced constructs\n",
    "Python allows many advanced constructs. In this section we discuss\n",
    "- List comprehension\n",
    "- Function as variable"
   ]
  },
  {
   "cell_type": "markdown",
   "metadata": {
    "colab_type": "text",
    "id": "un7gh-yaRAMI"
   },
   "source": [
    "## List comprehension\n",
    "List comprehension provides a concise way to operate on a list to create a new list.\n",
    "\n",
    "Suppose you want to create a list of squares. You might do this as follows:"
   ]
  },
  {
   "cell_type": "code",
   "execution_count": 98,
   "metadata": {
    "colab": {
     "base_uri": "https://localhost:8080/",
     "height": 35
    },
    "colab_type": "code",
    "executionInfo": {
     "elapsed": 613,
     "status": "ok",
     "timestamp": 1562162549308,
     "user": {
      "displayName": "Kal Ng",
      "photoUrl": "https://lh3.googleusercontent.com/-rYifCyrVYpQ/AAAAAAAAAAI/AAAAAAAABXY/SdD6uwQAGEA/s64/photo.jpg",
      "userId": "16935662242496658514"
     },
     "user_tz": -540
    },
    "id": "_tJhBcwVOO0R",
    "outputId": "066fc32e-a03d-46f5-ba6a-62ee338d91c5"
   },
   "outputs": [
    {
     "name": "stdout",
     "output_type": "stream",
     "text": [
      "[1, 9, 25, 49, 121, 169, 289]\n"
     ]
    }
   ],
   "source": [
    "nums = [1, 3, 5, 7, 11, 13, 17]\n",
    "squares = []\n",
    "for n in nums:\n",
    "    squares.append(n**2)\n",
    "print(squares)"
   ]
  },
  {
   "cell_type": "markdown",
   "metadata": {
    "colab_type": "text",
    "id": "vIRXZ3ErOO0T"
   },
   "source": [
    "List Comprehension can help you represent the loop more concisely as follows:"
   ]
  },
  {
   "cell_type": "code",
   "execution_count": 99,
   "metadata": {
    "colab": {
     "base_uri": "https://localhost:8080/",
     "height": 35
    },
    "colab_type": "code",
    "executionInfo": {
     "elapsed": 711,
     "status": "ok",
     "timestamp": 1562162550612,
     "user": {
      "displayName": "Kal Ng",
      "photoUrl": "https://lh3.googleusercontent.com/-rYifCyrVYpQ/AAAAAAAAAAI/AAAAAAAABXY/SdD6uwQAGEA/s64/photo.jpg",
      "userId": "16935662242496658514"
     },
     "user_tz": -540
    },
    "id": "Xio4xy7uOO0U",
    "outputId": "292c920b-c32a-434b-fe0e-4c722590d8b2"
   },
   "outputs": [
    {
     "name": "stdout",
     "output_type": "stream",
     "text": [
      "[1, 9, 25, 49, 121, 169, 289]\n"
     ]
    }
   ],
   "source": [
    "squares2 = [x**2 for x in nums]\n",
    "print(squares2)"
   ]
  },
  {
   "cell_type": "markdown",
   "metadata": {
    "colab_type": "text",
    "id": "JcarCKaEOO0V"
   },
   "source": [
    "You can also do filtering on the items that you want to operate on. Let's say we want to extract only odd numbers from  a list and then multiply all of them by 100:"
   ]
  },
  {
   "cell_type": "code",
   "execution_count": 100,
   "metadata": {
    "colab": {
     "base_uri": "https://localhost:8080/",
     "height": 35
    },
    "colab_type": "code",
    "executionInfo": {
     "elapsed": 610,
     "status": "ok",
     "timestamp": 1562162551858,
     "user": {
      "displayName": "Kal Ng",
      "photoUrl": "https://lh3.googleusercontent.com/-rYifCyrVYpQ/AAAAAAAAAAI/AAAAAAAABXY/SdD6uwQAGEA/s64/photo.jpg",
      "userId": "16935662242496658514"
     },
     "user_tz": -540
    },
    "id": "bozyzLi6OO0V",
    "outputId": "047c70ae-26e4-41a5-ed34-1b6154116f6a"
   },
   "outputs": [
    {
     "name": "stdout",
     "output_type": "stream",
     "text": [
      "[100, 300, 500, 700]\n"
     ]
    }
   ],
   "source": [
    "nums = [1, 2, 3, 4, 5, 6, 7]\n",
    "result = [x*100 for x in nums if x % 2 == 1]\n",
    "print (result)"
   ]
  },
  {
   "cell_type": "markdown",
   "metadata": {
    "colab_type": "text",
    "id": "6u0Mo1_WU9Sj"
   },
   "source": [
    "Another convenient use of list comprehension is to generate a list of pairwise tuples of the original list."
   ]
  },
  {
   "cell_type": "code",
   "execution_count": 101,
   "metadata": {
    "colab": {
     "base_uri": "https://localhost:8080/",
     "height": 917
    },
    "colab_type": "code",
    "executionInfo": {
     "elapsed": 678,
     "status": "ok",
     "timestamp": 1562162553685,
     "user": {
      "displayName": "Kal Ng",
      "photoUrl": "https://lh3.googleusercontent.com/-rYifCyrVYpQ/AAAAAAAAAAI/AAAAAAAABXY/SdD6uwQAGEA/s64/photo.jpg",
      "userId": "16935662242496658514"
     },
     "user_tz": -540
    },
    "id": "PuwMBUEUVGrH",
    "outputId": "bafad249-3023-43c2-da51-d82c356990ce"
   },
   "outputs": [
    {
     "data": {
      "text/plain": [
       "[(1, 1),\n",
       " (1, 2),\n",
       " (1, 3),\n",
       " (1, 4),\n",
       " (1, 5),\n",
       " (1, 6),\n",
       " (1, 7),\n",
       " (2, 1),\n",
       " (2, 2),\n",
       " (2, 3),\n",
       " (2, 4),\n",
       " (2, 5),\n",
       " (2, 6),\n",
       " (2, 7),\n",
       " (3, 1),\n",
       " (3, 2),\n",
       " (3, 3),\n",
       " (3, 4),\n",
       " (3, 5),\n",
       " (3, 6),\n",
       " (3, 7),\n",
       " (4, 1),\n",
       " (4, 2),\n",
       " (4, 3),\n",
       " (4, 4),\n",
       " (4, 5),\n",
       " (4, 6),\n",
       " (4, 7),\n",
       " (5, 1),\n",
       " (5, 2),\n",
       " (5, 3),\n",
       " (5, 4),\n",
       " (5, 5),\n",
       " (5, 6),\n",
       " (5, 7),\n",
       " (6, 1),\n",
       " (6, 2),\n",
       " (6, 3),\n",
       " (6, 4),\n",
       " (6, 5),\n",
       " (6, 6),\n",
       " (6, 7),\n",
       " (7, 1),\n",
       " (7, 2),\n",
       " (7, 3),\n",
       " (7, 4),\n",
       " (7, 5),\n",
       " (7, 6),\n",
       " (7, 7)]"
      ]
     },
     "execution_count": 101,
     "metadata": {
      "tags": []
     },
     "output_type": "execute_result"
    }
   ],
   "source": [
    "pairs = [(x, y) for x in nums for y in nums]\n",
    "pairs"
   ]
  },
  {
   "cell_type": "markdown",
   "metadata": {
    "colab_type": "text",
    "id": "P0dvL-y6Ipf1"
   },
   "source": [
    "Together with functions such as `zip` and `enumerate`, list comprehension allows us to accomplish in a single line some complex operations.\n",
    "\n",
    "The use of `zip` has been demonstrated in the construction of dictionary, here, we show how `enumerate` allows us to easily obtain the indices of the elements in a list which fulfills a given condition."
   ]
  },
  {
   "cell_type": "code",
   "execution_count": 102,
   "metadata": {
    "colab": {
     "base_uri": "https://localhost:8080/",
     "height": 35
    },
    "colab_type": "code",
    "executionInfo": {
     "elapsed": 585,
     "status": "ok",
     "timestamp": 1562162557296,
     "user": {
      "displayName": "Kal Ng",
      "photoUrl": "https://lh3.googleusercontent.com/-rYifCyrVYpQ/AAAAAAAAAAI/AAAAAAAABXY/SdD6uwQAGEA/s64/photo.jpg",
      "userId": "16935662242496658514"
     },
     "user_tz": -540
    },
    "id": "sns-4utNIpf4",
    "outputId": "6e30c496-f9b7-4929-ad7f-5309e55af31b"
   },
   "outputs": [
    {
     "name": "stdout",
     "output_type": "stream",
     "text": [
      "[0, 2, 4, 6]\n"
     ]
    }
   ],
   "source": [
    "nums = [1, 2, 3, 4, 5, 6, 7]\n",
    "where_odd = [i for (i, y) in enumerate(nums) if y % 2 == 1]\n",
    "print(where_odd)"
   ]
  },
  {
   "cell_type": "markdown",
   "metadata": {
    "colab_type": "text",
    "id": "QBmRIkrcMMy1"
   },
   "source": [
    "## Function as variable\n",
    "Functions can be assigned to variables as well as passed as parameters to other functions in Python (similar to function pointers in C/C++).\n",
    "\n",
    "For instance, Python has an in-built sort function called `sorted` which has the capability to sort a list of **objects** (as opposed to primitive values). The function `sorted` accepts another function as one of its input parameters -- the input function informs `sorted` on how to compute the values to use for sorting.\n",
    "\n",
    "In this example, we use `sorted` to sort a list of strings by their last two characters.\n",
    "\n"
   ]
  },
  {
   "cell_type": "code",
   "execution_count": 103,
   "metadata": {
    "colab": {
     "base_uri": "https://localhost:8080/",
     "height": 35
    },
    "colab_type": "code",
    "executionInfo": {
     "elapsed": 606,
     "status": "ok",
     "timestamp": 1562162561488,
     "user": {
      "displayName": "Kal Ng",
      "photoUrl": "https://lh3.googleusercontent.com/-rYifCyrVYpQ/AAAAAAAAAAI/AAAAAAAABXY/SdD6uwQAGEA/s64/photo.jpg",
      "userId": "16935662242496658514"
     },
     "user_tz": -540
    },
    "id": "zJ8Axm-JXxiA",
    "outputId": "dc960f3b-1da7-4f84-95e8-e8e1057ffa03"
   },
   "outputs": [
    {
     "data": {
      "text/plain": [
       "['zfile01', 'yfile02', 'vfile03', 'xfile05', 'wfile06']"
      ]
     },
     "execution_count": 103,
     "metadata": {
      "tags": []
     },
     "output_type": "execute_result"
    }
   ],
   "source": [
    "def last2chars(str):\n",
    "    return str[-2:]\n",
    "\n",
    "strings = [\"xfile05\", \"yfile02\", \"zfile01\", \"wfile06\", \"vfile03\"]\n",
    "\n",
    "sorted(strings, key=last2chars)"
   ]
  },
  {
   "cell_type": "markdown",
   "metadata": {
    "colab_type": "text",
    "id": "vFGBZZRrZ1v5"
   },
   "source": [
    "Python allows the definition of unnamed functions through the `lambda` keyword. Using the `lambda`, the above codes can be rewritten as:"
   ]
  },
  {
   "cell_type": "code",
   "execution_count": 104,
   "metadata": {
    "colab": {
     "base_uri": "https://localhost:8080/",
     "height": 35
    },
    "colab_type": "code",
    "executionInfo": {
     "elapsed": 593,
     "status": "ok",
     "timestamp": 1562162562657,
     "user": {
      "displayName": "Kal Ng",
      "photoUrl": "https://lh3.googleusercontent.com/-rYifCyrVYpQ/AAAAAAAAAAI/AAAAAAAABXY/SdD6uwQAGEA/s64/photo.jpg",
      "userId": "16935662242496658514"
     },
     "user_tz": -540
    },
    "id": "vi3Xym3JZ1Qu",
    "outputId": "efcfdb3a-7d29-47fb-c213-055f6aec27db"
   },
   "outputs": [
    {
     "data": {
      "text/plain": [
       "['zfile01', 'yfile02', 'vfile03', 'xfile05', 'wfile06']"
      ]
     },
     "execution_count": 104,
     "metadata": {
      "tags": []
     },
     "output_type": "execute_result"
    }
   ],
   "source": [
    "sorted(strings, key=lambda x: x[-2:])"
   ]
  },
  {
   "cell_type": "markdown",
   "metadata": {
    "colab_type": "text",
    "id": "YFmEsdr5aY16"
   },
   "source": [
    "Together with the `map` and `filter` function, the use of the `lambda` keyword allows us to write concise codes that operate on lists to create new lists. \n",
    "This provides an alternative to list comprehension.\n",
    "\n",
    "For instance, we can create a list which consists of the squared values of another list as follows."
   ]
  },
  {
   "cell_type": "code",
   "execution_count": 105,
   "metadata": {
    "colab": {
     "base_uri": "https://localhost:8080/",
     "height": 35
    },
    "colab_type": "code",
    "executionInfo": {
     "elapsed": 690,
     "status": "ok",
     "timestamp": 1562162564140,
     "user": {
      "displayName": "Kal Ng",
      "photoUrl": "https://lh3.googleusercontent.com/-rYifCyrVYpQ/AAAAAAAAAAI/AAAAAAAABXY/SdD6uwQAGEA/s64/photo.jpg",
      "userId": "16935662242496658514"
     },
     "user_tz": -540
    },
    "id": "C4WDrPiAMNE0",
    "outputId": "124e213f-3d2e-4d44-8952-ab41eed8ee61"
   },
   "outputs": [
    {
     "data": {
      "text/plain": [
       "[1, 9, 25, 49, 121, 169, 289]"
      ]
     },
     "execution_count": 105,
     "metadata": {
      "tags": []
     },
     "output_type": "execute_result"
    }
   ],
   "source": [
    "nums = [1, 3, 5, 7, 11, 13, 17]\n",
    "# The following does the same thing as \"squares2 = [x**2 for x in nums]\"\n",
    "squares2 = list(map(lambda x: x**2, nums))\n",
    "squares2"
   ]
  },
  {
   "cell_type": "markdown",
   "metadata": {
    "colab_type": "text",
    "id": "y_W1BMH2b83J"
   },
   "source": [
    "We can similarly filter out values from another list as follows."
   ]
  },
  {
   "cell_type": "code",
   "execution_count": 106,
   "metadata": {
    "colab": {
     "base_uri": "https://localhost:8080/",
     "height": 35
    },
    "colab_type": "code",
    "executionInfo": {
     "elapsed": 595,
     "status": "ok",
     "timestamp": 1562162565625,
     "user": {
      "displayName": "Kal Ng",
      "photoUrl": "https://lh3.googleusercontent.com/-rYifCyrVYpQ/AAAAAAAAAAI/AAAAAAAABXY/SdD6uwQAGEA/s64/photo.jpg",
      "userId": "16935662242496658514"
     },
     "user_tz": -540
    },
    "id": "YVgrkJjtb9SB",
    "outputId": "a159e0a3-3dac-40b2-afcd-a4196aae956a"
   },
   "outputs": [
    {
     "data": {
      "text/plain": [
       "[100, 300, 500, 700]"
      ]
     },
     "execution_count": 106,
     "metadata": {
      "tags": []
     },
     "output_type": "execute_result"
    }
   ],
   "source": [
    "nums = [1, 2, 3, 4, 5, 6, 7]\n",
    "# The following does the same thing as \"result = [x*100 for x in nums if x % 2 == 1]\"\n",
    "result = list(map(lambda x: x*100, filter(lambda x: x % 2 == 1, nums)))\n",
    "result"
   ]
  },
  {
   "cell_type": "markdown",
   "metadata": {
    "colab_type": "text",
    "id": "Dx58g5pQdcyr"
   },
   "source": [
    "However, in such cases, the list comprehension way appears to be clearer, and is the preferred method to the creator of Python, Guido Rossum."
   ]
  },
  {
   "cell_type": "markdown",
   "metadata": {
    "colab_type": "text",
    "id": "8TEUXb7Muumn"
   },
   "source": [
    "---\n",
    "# Section 5: NumPy\n",
    "\n",
    "The library module called NumPy is an indispensible part of Python. The module provides an `numpy.ndarray` data structure which is way more powerful than Python lists. It provides simpe calls for\n",
    "\n",
    "*   data initialization,\n",
    "*   saving and loading (on disk),\n",
    "*   search, and \n",
    "*   filtering\n",
    "\n",
    "among many other features."
   ]
  },
  {
   "cell_type": "markdown",
   "metadata": {
    "colab_type": "text",
    "id": "2ZNj59UWliw1"
   },
   "source": [
    "## Initialization\n",
    "\n",
    "The following shows how NumPy allows the initializations of various kinds of arrays.\n",
    "\n",
    "\n"
   ]
  },
  {
   "cell_type": "code",
   "execution_count": 107,
   "metadata": {
    "colab": {
     "base_uri": "https://localhost:8080/",
     "height": 366
    },
    "colab_type": "code",
    "executionInfo": {
     "elapsed": 591,
     "status": "ok",
     "timestamp": 1562162569764,
     "user": {
      "displayName": "Kal Ng",
      "photoUrl": "https://lh3.googleusercontent.com/-rYifCyrVYpQ/AAAAAAAAAAI/AAAAAAAABXY/SdD6uwQAGEA/s64/photo.jpg",
      "userId": "16935662242496658514"
     },
     "user_tz": -540
    },
    "id": "cXGdeKxgl5df",
    "outputId": "51ee949a-e8ca-4a90-ca41-20d791882df9"
   },
   "outputs": [
    {
     "name": "stdout",
     "output_type": "stream",
     "text": [
      "Array: [1 2 3]\n",
      "\n",
      "Matrix:\n",
      "[[1 2 3]\n",
      " [4 5 6]]\n",
      "\n",
      "Matrix initized to zero:\n",
      "[[0. 0. 0.]\n",
      " [0. 0. 0.]\n",
      " [0. 0. 0.]]\n",
      "\n",
      "Matrix with diagonal filled with ones:\n",
      "[[1. 0. 0.]\n",
      " [0. 1. 0.]\n",
      " [0. 0. 1.]]\n",
      "\n",
      "Matrix with randomized values:\n",
      "[[0.72791078 0.93207762]\n",
      " [0.44890269 0.57049381]]\n"
     ]
    }
   ],
   "source": [
    "import numpy as np\n",
    "\n",
    "alist = np.array([1, 2, 3])\n",
    "print(\"Array:\", alist)\n",
    "\n",
    "amatrix = np.array([[1, 2, 3], [4, 5, 6]])\n",
    "print(\"\\nMatrix:\")\n",
    "print(amatrix)\n",
    "\n",
    "bmatrix = np.zeros((3, 3), dtype=np.float64)\n",
    "print(\"\\nMatrix initized to zero:\")\n",
    "print(bmatrix)\n",
    "\n",
    "np.fill_diagonal(bmatrix, 1)\n",
    "print(\"\\nMatrix with diagonal filled with ones:\")\n",
    "print(bmatrix)\n",
    "\n",
    "rand_matrix = np.random.random((2, 2))\n",
    "print(\"\\nMatrix with randomized values:\")\n",
    "print(rand_matrix)"
   ]
  },
  {
   "cell_type": "markdown",
   "metadata": {
    "colab_type": "text",
    "id": "ZbQfMoPjpRmG"
   },
   "source": [
    "## Save and load data\n",
    "\n",
    "The following saves and loads a NumPy data (to and from file). These files have the file extension \"npy\"."
   ]
  },
  {
   "cell_type": "code",
   "execution_count": 108,
   "metadata": {
    "colab": {
     "base_uri": "https://localhost:8080/",
     "height": 219
    },
    "colab_type": "code",
    "executionInfo": {
     "elapsed": 625,
     "status": "ok",
     "timestamp": 1562162573840,
     "user": {
      "displayName": "Kal Ng",
      "photoUrl": "https://lh3.googleusercontent.com/-rYifCyrVYpQ/AAAAAAAAAAI/AAAAAAAABXY/SdD6uwQAGEA/s64/photo.jpg",
      "userId": "16935662242496658514"
     },
     "user_tz": -540
    },
    "id": "73xwQnqEpR7c",
    "outputId": "fcc6d490-04bb-4d8e-d8e1-773a948c11d7"
   },
   "outputs": [
    {
     "name": "stdout",
     "output_type": "stream",
     "text": [
      "Matrix rand_matrix with randomized values:\n",
      "[[0.20325869 0.82469528]\n",
      " [0.14748461 0.26322858]]\n",
      "\n",
      "rand_martix changed to:\n",
      "[[1. 1.]\n",
      " [1. 1.]]\n",
      "\n",
      "rand_martix restored:\n",
      "[[0.20325869 0.82469528]\n",
      " [0.14748461 0.26322858]]\n"
     ]
    }
   ],
   "source": [
    "# Creates and saves a matrix of randomized values\n",
    "rand_matrix = np.random.random((2, 2))\n",
    "print(\"Matrix rand_matrix with randomized values:\")\n",
    "print(rand_matrix)\n",
    "np.save(\"my_rand_matrix\", rand_matrix)\n",
    "\n",
    "# Change the values of rand_matrix to say, ones\n",
    "rand_matrix = np.ones((2, 2))\n",
    "print(\"\\nrand_martix changed to:\")\n",
    "print(rand_matrix)\n",
    "\n",
    "# Restire the values of rand_matrix\n",
    "rand_matrix = np.load(\"my_rand_matrix.npy\")\n",
    "print(\"\\nrand_martix restored:\")\n",
    "print(rand_matrix)"
   ]
  },
  {
   "cell_type": "markdown",
   "metadata": {
    "colab_type": "text",
    "id": "R8WxQkxxqgnm"
   },
   "source": [
    "## Searching and Filtering\n",
    "\n",
    "You can search for values that fulfill a given condition in a NumPy array."
   ]
  },
  {
   "cell_type": "code",
   "execution_count": 109,
   "metadata": {
    "colab": {
     "base_uri": "https://localhost:8080/",
     "height": 35
    },
    "colab_type": "code",
    "executionInfo": {
     "elapsed": 580,
     "status": "ok",
     "timestamp": 1562162577788,
     "user": {
      "displayName": "Kal Ng",
      "photoUrl": "https://lh3.googleusercontent.com/-rYifCyrVYpQ/AAAAAAAAAAI/AAAAAAAABXY/SdD6uwQAGEA/s64/photo.jpg",
      "userId": "16935662242496658514"
     },
     "user_tz": -540
    },
    "id": "vpi3nAsVqg0e",
    "outputId": "c289abf4-a248-48cb-d48b-a5cb9f52c1f2"
   },
   "outputs": [
    {
     "data": {
      "text/plain": [
       "array([1, 3])"
      ]
     },
     "execution_count": 109,
     "metadata": {
      "tags": []
     },
     "output_type": "execute_result"
    }
   ],
   "source": [
    "marray = np.array([0.37, 0.82, 0.16, 0.78])\n",
    "np.where(marray > 0.5)[0]"
   ]
  },
  {
   "cell_type": "markdown",
   "metadata": {
    "colab_type": "text",
    "id": "mfkatOSevst8"
   },
   "source": [
    "For matrices, the position of every element requires 2 integers to specify (namely, row and column). Hence, the returned value of <tt>np.where</tt> is given in two arrays of equal length: one array gives the rows and the other gives the columns. "
   ]
  },
  {
   "cell_type": "markdown",
   "metadata": {
    "colab_type": "text",
    "id": "h64nGvVlrUxe"
   },
   "source": [
    "Finally, you an filter out array elements based on the elements' indices. The following example first creates an array of even numbers from 100 to 2, in decreasing order. Then, it finds the indices of the elements which are divisible by 7 and finally, creates a new array with only those elements."
   ]
  },
  {
   "cell_type": "code",
   "execution_count": 110,
   "metadata": {
    "colab": {
     "base_uri": "https://localhost:8080/",
     "height": 109
    },
    "colab_type": "code",
    "executionInfo": {
     "elapsed": 567,
     "status": "ok",
     "timestamp": 1562162580292,
     "user": {
      "displayName": "Kal Ng",
      "photoUrl": "https://lh3.googleusercontent.com/-rYifCyrVYpQ/AAAAAAAAAAI/AAAAAAAABXY/SdD6uwQAGEA/s64/photo.jpg",
      "userId": "16935662242496658514"
     },
     "user_tz": -540
    },
    "id": "N2v5RXSYrU69",
    "outputId": "a61df5e2-8957-4ba9-b3df-173ea25796fc"
   },
   "outputs": [
    {
     "name": "stdout",
     "output_type": "stream",
     "text": [
      "An array of even numbers [100  98  96  94  92  90  88  86  84  82  80  78  76  74  72  70  68  66\n",
      "  64  62  60  58  56  54  52  50  48  46  44  42  40  38  36  34  32  30\n",
      "  28  26  24  22  20  18  16  14  12  10   8   6   4   2]\n",
      "The locations of the elements in the array that are divisible by 7 (array([ 1,  8, 15, 22, 29, 36, 43]),)\n",
      "These elements are [98 84 70 56 42 28 14]\n"
     ]
    }
   ],
   "source": [
    "array_of_even_numbers = np.array(range(100, 0, -2))\n",
    "print(\"An array of even numbers\", array_of_even_numbers)\n",
    "indices_of_elements_divisible_by_7 = np.where(array_of_even_numbers % 7 == 0)\n",
    "print(\"The locations of the elements in the array that are divisible by 7\", indices_of_elements_divisible_by_7)\n",
    "new_array = array_of_even_numbers[indices_of_elements_divisible_by_7]\n",
    "print(\"These elements are\", new_array)"
   ]
  },
  {
   "cell_type": "markdown",
   "metadata": {
    "colab_type": "text",
    "id": "lrgY1NZlJBas"
   },
   "source": [
    "# Closing remarks\n",
    "\n",
    "This tutorial has barely scratched the surface of the features in Python. Python also allows the creation of classes like in C++ or Java, which has not been covered in this tutorial. You are strongly encouraged to go through the following, slightly more complete, tutorials.\n",
    "\n",
    "- https://docs.python.org/3/tutorial/index.html\n",
    "- http://cs231n.github.io/python-numpy-tutorial/"
   ]
  }
 ],
 "metadata": {
  "colab": {
   "collapsed_sections": [
    "z3t9FYuNTbaP",
    "_GvUvrQbOOvJ",
    "JySEebjxOOvc",
    "wQKoMG92OOv6",
    "zxIUS5f6OOxD",
    "M7viXmChOOxk",
    "1_uyDXdXOOyE",
    "zNc5Ra4KOOyL",
    "Dc3WeauW0bGE",
    "nosy-jlAOOzi",
    "HtTgCpqxOOzn",
    "84Rj4ukDOOzr",
    "IGk6izvIOOz1",
    "un7gh-yaRAMI",
    "QBmRIkrcMMy1"
   ],
   "name": "python_tutorial.ipynb",
   "provenance": [],
   "version": "0.3.2"
  },
  "kernelspec": {
   "display_name": "Python 3",
   "language": "python",
   "name": "python3"
  },
  "language_info": {
   "codemirror_mode": {
    "name": "ipython",
    "version": 3
   },
   "file_extension": ".py",
   "mimetype": "text/x-python",
   "name": "python",
   "nbconvert_exporter": "python",
   "pygments_lexer": "ipython3",
   "version": "3.7.3"
  }
 },
 "nbformat": 4,
 "nbformat_minor": 4
}
