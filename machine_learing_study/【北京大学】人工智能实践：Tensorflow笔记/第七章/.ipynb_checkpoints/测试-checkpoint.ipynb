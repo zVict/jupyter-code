{
 "cells": [
  {
   "cell_type": "code",
   "execution_count": 39,
   "metadata": {},
   "outputs": [
    {
     "name": "stdout",
     "output_type": "stream",
     "text": [
      "Extracting ./MNIST_data/train-images-idx3-ubyte.gz\n",
      "Extracting ./MNIST_data/train-labels-idx1-ubyte.gz\n",
      "Extracting ./MNIST_data/t10k-images-idx3-ubyte.gz\n",
      "Extracting ./MNIST_data/t10k-labels-idx1-ubyte.gz\n",
      "INFO:tensorflow:Restoring parameters from lenet_model/mnist_model-12401\n",
      "After mnist_model-12401 training step(s), test accuracy = 0.0956\n"
     ]
    }
   ],
   "source": [
    "#mnist_lenet5_test.py\n",
    "import time\n",
    "import tensorflow as tf\n",
    "from tensorflow.examples.tutorials.mnist import input_data\n",
    "import numpy as np\n",
    "import forward\n",
    "import backward\n",
    "\n",
    "TEST_INTERVAL_SECS = 5\n",
    "\n",
    "def test(mnist):\n",
    "    with tf.Graph().as_default() as g:\n",
    "        x=tf.placeholder(tf.float32,[\n",
    "            mnist.test.num_examples,\n",
    "            forward.IMAGE_SIZE,\n",
    "            forward.IMAGE_SIZE,\n",
    "            forward.NUM_CHANNELS])\n",
    "        y_=tf.placeholder(tf.float32,[None,forward.OUTPUT_NODE])\n",
    "        y=forward.forward(x,False,REGULARIZER)\n",
    "        \n",
    "#         ema=tf.train.ExponentialMovingAverage(MOVING_AVERAGE_DECAY)\n",
    "#         ema_restore=ema.variables_to_restore()\n",
    "#         saver = tf.train.Saver(ema_restore)\n",
    "        ema=tf.train.ExponentialMovingAverage(backward.MOVING_AVERAGE_DECAY)\n",
    "        ema_restore = ema.variables_to_restore()\n",
    "        saver=tf.train.Saver(ema_restore)\n",
    "        \n",
    "        correct_prediction=tf.equal(tf.argmax(y,1),tf.argmax(y_,1))\n",
    "        accuracy=tf.reduce_mean(tf.cast(correct_prediction,tf.float32))\n",
    "        \n",
    "        config = tf.ConfigProto()\n",
    "        config.gpu_options.allow_growth = True\n",
    "        \n",
    "        with tf.Session(config=config) as sess:\n",
    "            ckpt = tf.train.get_checkpoint_state(MODEL_SAVE_PATH)\n",
    "            if ckpt and ckpt.model_checkpoint_path:\n",
    "                saver.restore(sess,ckpt.model_checkpoint_path)\n",
    "                global_step=ckpt.model_checkpoint_path.split('/')[-1].split('.')[-1]\n",
    "                reshape_x=np.reshape(mnist.test.images,(\n",
    "                    mnist.test.num_examples,\n",
    "                    forward.IMAGE_SIZE,\n",
    "                    forward.IMAGE_SIZE,\n",
    "                    forward.NUM_CHANNELS\n",
    "                ))\n",
    "                accuracy_score=sess.run(accuracy,feed_dict={x:reshape_x,y_:mnist.test.labels})\n",
    "                print(\"After %s training step(s), test accuracy = %g\"%(global_step,accuracy_score))\n",
    "            else:\n",
    "                print(\"No checkpoint file found\")\n",
    "                return\n",
    "def main():\n",
    "    mnist = input_data.read_data_sets(\"./MNIST_data/\",one_hot=True)\n",
    "    test(mnist)          \n",
    "    \n",
    "if __name__==\"__main__\":\n",
    "    main()\n",
    "        "
   ]
  }
 ],
 "metadata": {
  "kernelspec": {
   "display_name": "Python 3",
   "language": "python",
   "name": "python3"
  },
  "language_info": {
   "codemirror_mode": {
    "name": "ipython",
    "version": 3
   },
   "file_extension": ".py",
   "mimetype": "text/x-python",
   "name": "python",
   "nbconvert_exporter": "python",
   "pygments_lexer": "ipython3",
   "version": "3.6.7"
  }
 },
 "nbformat": 4,
 "nbformat_minor": 2
}
