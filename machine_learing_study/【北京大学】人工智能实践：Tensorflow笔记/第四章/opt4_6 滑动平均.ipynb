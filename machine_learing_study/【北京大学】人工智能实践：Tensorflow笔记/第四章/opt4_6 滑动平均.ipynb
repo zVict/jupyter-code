{
 "cells": [
  {
   "cell_type": "code",
   "execution_count": 1,
   "metadata": {},
   "outputs": [],
   "source": [
    "import tensorflow as tf\n",
    "import numpy as np\n",
    "import matplotlib.pyplot as plt\n",
    "from matplotlib.font_manager import FontProperties  \n",
    "font = FontProperties(fname=r\"c:\\windows\\fonts\\simsun.ttc\", size=14)  \n",
    "%matplotlib inline"
   ]
  },
  {
   "cell_type": "code",
   "execution_count": 6,
   "metadata": {},
   "outputs": [
    {
     "name": "stdout",
     "output_type": "stream",
     "text": [
      "[0.0, 0.0]\n",
      "[1.0, 0.9]\n",
      "[10.0, 1.6445453]\n",
      "[10.0, 2.3281732]\n",
      "[10.0, 2.955868]\n",
      "[10.0, 3.532206]\n",
      "[10.0, 4.061389]\n",
      "[10.0, 4.547275]\n",
      "[10.0, 4.9934072]\n"
     ]
    }
   ],
   "source": [
    "w1 = tf.Variable(0,dtype=tf.float32)\n",
    "\n",
    "global_step = tf.Variable(0,trainable=False)\n",
    "\n",
    "MOVING_AVERAGE_DECAY=0.99\n",
    "ema=tf.train.ExponentialMovingAverage(MOVING_AVERAGE_DECAY,global_step)\n",
    "\n",
    "ema_op=ema.apply(tf.trainable_variables())\n",
    "\n",
    "with tf.Session() as sess:\n",
    "    init_op = tf.global_variables_initializer()\n",
    "    sess.run(init_op)\n",
    "    print(sess.run([w1,ema.average(w1)]))\n",
    "    \n",
    "    sess.run(tf.assign(w1,1))\n",
    "    sess.run(ema_op)\n",
    "    print(sess.run([w1,ema.average(w1)]))\n",
    "    \n",
    "    sess.run(tf.assign(global_step,100))\n",
    "    sess.run(tf.assign(w1,10))\n",
    "    sess.run(ema_op)\n",
    "    print(sess.run([w1,ema.average(w1)]))\n",
    "    \n",
    "    sess.run(ema_op)\n",
    "    print(sess.run([w1,ema.average(w1)]))\n",
    "    \n",
    "    sess.run(ema_op)\n",
    "    print(sess.run([w1,ema.average(w1)]))\n",
    "    \n",
    "    sess.run(ema_op)\n",
    "    print(sess.run([w1,ema.average(w1)]))\n",
    "    \n",
    "    sess.run(ema_op)\n",
    "    print(sess.run([w1,ema.average(w1)]))\n",
    "    \n",
    "    sess.run(ema_op)\n",
    "    print(sess.run([w1,ema.average(w1)]))\n",
    "    \n",
    "    sess.run(ema_op)\n",
    "    print(sess.run([w1,ema.average(w1)]))"
   ]
  }
 ],
 "metadata": {
  "kernelspec": {
   "display_name": "Python 3",
   "language": "python",
   "name": "python3"
  },
  "language_info": {
   "codemirror_mode": {
    "name": "ipython",
    "version": 3
   },
   "file_extension": ".py",
   "mimetype": "text/x-python",
   "name": "python",
   "nbconvert_exporter": "python",
   "pygments_lexer": "ipython3",
   "version": "3.6.7"
  }
 },
 "nbformat": 4,
 "nbformat_minor": 2
}
