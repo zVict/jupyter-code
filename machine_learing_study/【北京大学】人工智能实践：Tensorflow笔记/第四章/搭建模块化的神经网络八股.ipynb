{
 "cells": [
  {
   "cell_type": "markdown",
   "metadata": {},
   "source": [
    "# 前向传播就是搭建网络  forward.py\n",
    "\n",
    "```python\n",
    "def forward(x,regularizer):\n",
    "    w=\n",
    "    b=\n",
    "    y=\n",
    "    return y\n",
    "\n",
    "def get_weight(shape,regularizer):\n",
    "    w=tf.Variable()\n",
    "    tf.add_to_collection('losses',tf.contrib.layers.l2_regularizer(regularizer)(w))\n",
    "    return w\n",
    "\n",
    "def get_bias(shape):\n",
    "    b=tf.Variable()\n",
    "    return b\n",
    "```"
   ]
  },
  {
   "cell_type": "markdown",
   "metadata": {},
   "source": [
    "# 反向传播就是训练网络，优化网络参数 backward.py\n",
    "\n",
    "```python\n",
    "def backward():\n",
    "    x=tf.placeholder()\n",
    "    y_=tf.placeholder()\n",
    "    y=forward.forward(x,REGULARIZER)\n",
    "    global_step=tf.Variable(0,train=False)\n",
    "    loss=\n",
    "#    loss 可以是：\n",
    "#    y与y_的差距(loss_mse)=tf.reduce_mean(tf.square(y-y_))\n",
    "#    也可以是：\n",
    "#    ce=tf.nn.sparse_softmax_cross_entropy_with_logits(logits=y,labels=tf.argmax(y_,1))\n",
    "#    y与y_的差距(cem)=tf.reduce_mean(ce)\n",
    "#    \n",
    "#    加入正则化后\n",
    "#    loss=y与y_的差距 + tf.add_n(tf.get_collection('losses))\n",
    "\n",
    "#指数衰减学习率\n",
    "learning_rate = tf.train.exponential_decy(\n",
    "    LEARNING_RATE_BASE,\n",
    "    global_step,\n",
    "    数据集总样本数/BATCH_SIZE,\n",
    "    LEARNING_RATE_DECY,\n",
    "    staircase=TRUE)\n",
    "#滑动平均\n",
    "train_step=tf.train.GradientDescentOptimizer(learning_rate).minimize(loss,global_step=global_step)\n",
    "ema=tf.train.ExponentialMovingAverage(MOVING_AVERAGE_DECAY,global_step)\n",
    "ema_op=ema.apply(tf.trainable_variables())\n",
    "with tf.control_dependencies([train_step,ema_op]):\n",
    "    train_op = tf.no_op(name='train')\n",
    "\n",
    "with tf.Session() as sess:\n",
    "    init_op = tf.global_variables_initializer()\n",
    "    sess.run(init_op)\n",
    "    \n",
    "    for i in range(STEPS):\n",
    "        sess.run(train_step,feed_dict={x:,y_:})\n",
    "        if i%轮数==0:\n",
    "            print\n",
    "if __name__=='__main__':\n",
    "    backward()\n",
    "```"
   ]
  }
 ],
 "metadata": {
  "kernelspec": {
   "display_name": "Python 3",
   "language": "python",
   "name": "python3"
  },
  "language_info": {
   "codemirror_mode": {
    "name": "ipython",
    "version": 3
   },
   "file_extension": ".py",
   "mimetype": "text/x-python",
   "name": "python",
   "nbconvert_exporter": "python",
   "pygments_lexer": "ipython3",
   "version": "3.6.7"
  }
 },
 "nbformat": 4,
 "nbformat_minor": 2
}
