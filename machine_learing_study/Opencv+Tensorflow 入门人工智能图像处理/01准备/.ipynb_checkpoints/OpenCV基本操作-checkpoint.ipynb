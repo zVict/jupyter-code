{
 "cells": [
  {
   "cell_type": "markdown",
   "metadata": {},
   "source": [
    "# 01概念介绍\n",
    "1. 像素\n",
    "1. RGB\n",
    "1. 颜色深度 8bit 0-255\n",
    "1. 宽高 w h\n",
    "1. 1.14M = 720*546*3*8 bit / 8 (Bytes)\n",
    "1. RGB alpha\n",
    "1. BGR "
   ]
  },
  {
   "cell_type": "markdown",
   "metadata": {},
   "source": [
    "# 02像素操作"
   ]
  },
  {
   "cell_type": "code",
   "execution_count": 5,
   "metadata": {},
   "outputs": [
    {
     "name": "stdout",
     "output_type": "stream",
     "text": [
      "39 46 49\n"
     ]
    },
    {
     "data": {
      "text/plain": [
       "-1"
      ]
     },
     "execution_count": 5,
     "metadata": {},
     "output_type": "execute_result"
    }
   ],
   "source": [
    "import cv2 # BGR 格式读取\n",
    "# x轴水平 y轴竖直\n",
    "img = cv2.imread('image0.jpg',1)\n",
    "(b,g,r)=img[100,100] \n",
    "print(b,g,r)\n",
    "for i in range(1,100):\n",
    "    img[10+i,100]=(255,0,0)\n",
    "cv2.imshow('img',img)\n",
    "cv2.waitKey(0)"
   ]
  },
  {
   "cell_type": "code",
   "execution_count": null,
   "metadata": {},
   "outputs": [],
   "source": []
  }
 ],
 "metadata": {
  "kernelspec": {
   "display_name": "Python 3",
   "language": "python",
   "name": "python3"
  },
  "language_info": {
   "codemirror_mode": {
    "name": "ipython",
    "version": 3
   },
   "file_extension": ".py",
   "mimetype": "text/x-python",
   "name": "python",
   "nbconvert_exporter": "python",
   "pygments_lexer": "ipython3",
   "version": "3.6.7"
  }
 },
 "nbformat": 4,
 "nbformat_minor": 2
}
