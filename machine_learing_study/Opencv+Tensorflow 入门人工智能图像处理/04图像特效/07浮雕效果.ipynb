{
 "cells": [
  {
   "cell_type": "code",
   "execution_count": 1,
   "metadata": {},
   "outputs": [
    {
     "data": {
      "text/plain": [
       "-1"
      ]
     },
     "execution_count": 1,
     "metadata": {},
     "output_type": "execute_result"
    }
   ],
   "source": [
    "# newP = gray0 - gray1 + 150\n",
    "import cv2\n",
    "import numpy as np\n",
    "import random\n",
    "import math\n",
    "img = cv2.imread('image0.jpg',1)\n",
    "imgInfo=img.shape\n",
    "height=imgInfo[0]\n",
    "width=imgInfo[1]\n",
    "# canny 1 gray 2 高斯 3 canny\n",
    "gray = cv2.cvtColor(img,cv2.COLOR_BGR2GRAY)\n",
    "dst=np.zeros((height,width,1),np.uint8)\n",
    "\n",
    "for i in range(0,height):\n",
    "    for j in range(0,width-1):\n",
    "        # 不能换行\n",
    "        grayP0 = int(gray[i,j])\n",
    "        grayP1 = int(gray[i,j+1])\n",
    "        newP=grayP0-grayP1+150\n",
    "        if newP>255 :\n",
    "            newP=255\n",
    "        elif newP<0:\n",
    "            newP=0\n",
    "        dst[i,j]=newP\n",
    "cv2.imshow('src',img)\n",
    "cv2.imshow('dst',dst)\n",
    "cv2.waitKey(0)"
   ]
  }
 ],
 "metadata": {
  "kernelspec": {
   "display_name": "Python 3",
   "language": "python",
   "name": "python3"
  },
  "language_info": {
   "codemirror_mode": {
    "name": "ipython",
    "version": 3
   },
   "file_extension": ".py",
   "mimetype": "text/x-python",
   "name": "python",
   "nbconvert_exporter": "python",
   "pygments_lexer": "ipython3",
   "version": "3.6.7"
  }
 },
 "nbformat": 4,
 "nbformat_minor": 2
}
