{
 "cells": [
  {
   "cell_type": "markdown",
   "metadata": {},
   "source": [
    "# 最重要 最基础 实时性"
   ]
  },
  {
   "cell_type": "code",
   "execution_count": 2,
   "metadata": {},
   "outputs": [
    {
     "name": "stdout",
     "output_type": "stream",
     "text": [
      "(547, 730)\n",
      "(547, 730, 3)\n"
     ]
    },
    {
     "data": {
      "text/plain": [
       "-1"
      ]
     },
     "execution_count": 2,
     "metadata": {},
     "output_type": "execute_result"
    }
   ],
   "source": [
    "#imread\n",
    "#方法1 imread\n",
    "import cv2\n",
    "img0 = cv2.imread(\"image0.jpg\",0)\n",
    "img1 = cv2.imread(\"image0.jpg\",1)\n",
    "print(img0.shape)\n",
    "print(img1.shape)\n",
    "cv2.imshow('src',img0)\n",
    "cv2.waitKey(0)"
   ]
  },
  {
   "cell_type": "code",
   "execution_count": 3,
   "metadata": {},
   "outputs": [
    {
     "data": {
      "text/plain": [
       "-1"
      ]
     },
     "execution_count": 3,
     "metadata": {},
     "output_type": "execute_result"
    }
   ],
   "source": [
    " #imread\n",
    "#方法2 cvtColor\n",
    "import cv2\n",
    "img = cv2.imread(\"image0.jpg\",1)\n",
    "dst = cv2.cvtColor(img,cv2.COLOR_BGR2GRAY) #颜色空间转换 1 data 2 BGR gray\n",
    "cv2.imshow('dst',dst)\n",
    "cv2.waitKey(0)"
   ]
  },
  {
   "cell_type": "code",
   "execution_count": 11,
   "metadata": {},
   "outputs": [
    {
     "name": "stdout",
     "output_type": "stream",
     "text": [
      "33\n"
     ]
    },
    {
     "data": {
      "text/plain": [
       "-1"
      ]
     },
     "execution_count": 11,
     "metadata": {},
     "output_type": "execute_result"
    }
   ],
   "source": [
    "#imread\n",
    "#方法3 源码  (R+G+B) / 3\n",
    "import cv2\n",
    "import numpy as np\n",
    "img = cv2.imread(\"image0.jpg\",1)\n",
    "imgInfo = img.shape\n",
    "height=imgInfo[0]\n",
    "width=imgInfo[1]\n",
    "dst=np.zeros((height,width),np.uint8)\n",
    "for i in range(0,height):\n",
    "    for j in range(0,width):\n",
    "        (b,g,r)=img[i,j]\n",
    "        gray=(int(b)+int(g)+int(r))/3\n",
    "        dst[i,j]=np.uint8(gray)\n",
    "print(dst[0,0])\n",
    "cv2.imshow('dst',dst)\n",
    "cv2.waitKey(0)"
   ]
  },
  {
   "cell_type": "code",
   "execution_count": 12,
   "metadata": {},
   "outputs": [
    {
     "name": "stdout",
     "output_type": "stream",
     "text": [
      "33\n"
     ]
    },
    {
     "data": {
      "text/plain": [
       "-1"
      ]
     },
     "execution_count": 12,
     "metadata": {},
     "output_type": "execute_result"
    }
   ],
   "source": [
    "#imread\n",
    "#方法4 源码  (R*0.299+G*0.587+B*0.114) / 3\n",
    "import cv2\n",
    "import numpy as np\n",
    "img = cv2.imread(\"image0.jpg\",1)\n",
    "imgInfo = img.shape\n",
    "height=imgInfo[0]\n",
    "width=imgInfo[1]\n",
    "dst=np.zeros((height,width),np.uint8)\n",
    "for i in range(0,height):\n",
    "    for j in range(0,width):\n",
    "        (b,g,r)=img[i,j]\n",
    "        gray=(int(b)*0.114+int(g)*0.587+int(r)*0.299)\n",
    "        dst[i,j]=np.uint8(gray)\n",
    "print(dst[0,0])\n",
    "cv2.imshow('dst',dst)\n",
    "cv2.waitKey(0)"
   ]
  },
  {
   "cell_type": "markdown",
   "metadata": {},
   "source": [
    "# 算法优化"
   ]
  },
  {
   "cell_type": "code",
   "execution_count": 13,
   "metadata": {},
   "outputs": [
    {
     "name": "stdout",
     "output_type": "stream",
     "text": [
      "34\n"
     ]
    },
    {
     "data": {
      "text/plain": [
       "-1"
      ]
     },
     "execution_count": 13,
     "metadata": {},
     "output_type": "execute_result"
    }
   ],
   "source": [
    "#imread\n",
    "#优化 (R*0.299+G*0.587+B*0.114) / 3  浮点转定点\n",
    "import cv2\n",
    "import numpy as np\n",
    "img = cv2.imread(\"image0.jpg\",1)\n",
    "imgInfo = img.shape\n",
    "height=imgInfo[0]\n",
    "width=imgInfo[1]\n",
    "dst=np.zeros((height,width),np.uint8)\n",
    "for i in range(0,height):\n",
    "    for j in range(0,width):\n",
    "        (b,g,r)=img[i,j]\n",
    "        gray=(int(b)*1+int(g)*2+int(r)*1)/4\n",
    "        dst[i,j]=np.uint8(gray)\n",
    "print(dst[0,0])\n",
    "cv2.imshow('dst',dst)\n",
    "cv2.waitKey(0)"
   ]
  },
  {
   "cell_type": "code",
   "execution_count": 16,
   "metadata": {},
   "outputs": [
    {
     "name": "stdout",
     "output_type": "stream",
     "text": [
      "34\n"
     ]
    },
    {
     "data": {
      "text/plain": [
       "-1"
      ]
     },
     "execution_count": 16,
     "metadata": {},
     "output_type": "execute_result"
    }
   ],
   "source": [
    "#imread\n",
    "#优化 (R*0.299+G*0.587+B*0.114) / 3  定点转移位\n",
    "import cv2 \n",
    "import numpy as np\n",
    "img = cv2.imread(\"image0.jpg\",1)\n",
    "imgInfo = img.shape\n",
    "height=imgInfo[0]\n",
    "width=imgInfo[1]\n",
    "dst=np.zeros((height,width),np.uint8)\n",
    "for i in range(0,height):\n",
    "    for j in range(0,width):\n",
    "        (b,g,r)=img[i,j]\n",
    "        gray=(int(b)+(int(g)<<1)+int(r))>>2\n",
    "        dst[i,j]=np.uint8(gray)\n",
    "print(dst[0,0])\n",
    "cv2.imshow('dst',dst)\n",
    "cv2.waitKey(0)"
   ]
  }
 ],
 "metadata": {
  "kernelspec": {
   "display_name": "Python 3",
   "language": "python",
   "name": "python3"
  },
  "language_info": {
   "codemirror_mode": {
    "name": "ipython",
    "version": 3
   },
   "file_extension": ".py",
   "mimetype": "text/x-python",
   "name": "python",
   "nbconvert_exporter": "python",
   "pygments_lexer": "ipython3",
   "version": "3.6.7"
  }
 },
 "nbformat": 4,
 "nbformat_minor": 2
}
