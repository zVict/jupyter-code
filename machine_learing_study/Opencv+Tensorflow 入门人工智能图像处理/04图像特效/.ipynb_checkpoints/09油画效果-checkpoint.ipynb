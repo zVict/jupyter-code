{
 "cells": [
  {
   "cell_type": "code",
   "execution_count": 5,
   "metadata": {},
   "outputs": [
    {
     "data": {
      "text/plain": [
       "-1"
      ]
     },
     "execution_count": 5,
     "metadata": {},
     "output_type": "execute_result"
    }
   ],
   "source": [
    "# 1 gray 灰度转化 \n",
    "# 2 7*7 10*10 按方块统计 \n",
    "# 3 0-255 256 划分灰度等级 \n",
    "# 4 640-63 64 -127 每个方块的像素统计\n",
    "# 5 dst=result 用最多像素的平均值来填充\n",
    "\n",
    "import cv2\n",
    "import numpy as np\n",
    "import random\n",
    "import math\n",
    "img = cv2.imread('image00.jpg',1)\n",
    "imgInfo=img.shape\n",
    "height=imgInfo[0]\n",
    "width=imgInfo[1]\n",
    "\n",
    "gray = cv2.cvtColor(img,cv2.COLOR_BGR2GRAY)\n",
    "dst=np.zeros((height,width,3),np.uint8)\n",
    "for i in range(4,height-4):\n",
    "    for j in range(4,width-4):\n",
    "        #灰度等级8个\n",
    "        array1 = np.zeros(8,np.uint8)\n",
    "        for m in range(-4,4):\n",
    "            for n in range(-4,4):\n",
    "                p1=int(gray[i+m,j+n]/32)\n",
    "                array1[p1]=array1[p1]+1\n",
    "        # 统计那个灰度等级的个数最多\n",
    "        currentMax = array1[0]\n",
    "        l=0\n",
    "        for k in range(0,8):\n",
    "            if currentMax<array1[k]:\n",
    "                currentMax=array1[k]\n",
    "                l=k\n",
    "        #取出最多的那个像素的 bgr的值\n",
    "        for m in range(-4,4):\n",
    "            for n in range(-4,4):\n",
    "                if gray[i+m,j+n]>=(l*32) and gray[i+m,j+n]<=((l+1)*32):\n",
    "                    (b,g,r)=img[i+m,j+n]\n",
    "        # 将那个的值 赋值到全部的小方块\n",
    "        dst[i,j]=(b,g,r)\n",
    "cv2.imshow('dst',dst)\n",
    "cv2.waitKey(0)"
   ]
  }
 ],
 "metadata": {
  "kernelspec": {
   "display_name": "Python 3",
   "language": "python",
   "name": "python3"
  },
  "language_info": {
   "codemirror_mode": {
    "name": "ipython",
    "version": 3
   },
   "file_extension": ".py",
   "mimetype": "text/x-python",
   "name": "python",
   "nbconvert_exporter": "python",
   "pygments_lexer": "ipython3",
   "version": "3.6.7"
  }
 },
 "nbformat": 4,
 "nbformat_minor": 2
}
