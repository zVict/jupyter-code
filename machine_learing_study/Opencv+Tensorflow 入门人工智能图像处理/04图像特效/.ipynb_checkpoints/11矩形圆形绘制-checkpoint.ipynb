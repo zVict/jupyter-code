{
 "cells": [
  {
   "cell_type": "code",
   "execution_count": 4,
   "metadata": {},
   "outputs": [
    {
     "data": {
      "text/plain": [
       "-1"
      ]
     },
     "execution_count": 4,
     "metadata": {},
     "output_type": "execute_result"
    }
   ],
   "source": [
    "import cv2\n",
    "import numpy as np\n",
    "newImageInfo = (500,500,3)\n",
    "dst=np.zeros(newImageInfo,np.uint8)\n",
    "# 1 dst \n",
    "# 2左上角 \n",
    "# 3右下角 \n",
    "# 4颜色 \n",
    "# 5fill -1 >0 宽度\n",
    "cv2.rectangle(dst,(50,100),(200,300),(255,0,0),-1)\n",
    "\n",
    "cv2.circle(dst,(250,250),50,(0,255,0),2)\n",
    "# 2 center \n",
    "# 3 轴 \n",
    "# 4 angle \n",
    "# 5 begin \n",
    "# 6 end\n",
    "cv2.ellipse(dst,(256,256),(150,100),0,0,180,(255,255,0),-1)\n",
    "\n",
    "\n",
    "cv2.imshow('dst',dst)\n",
    "cv2.waitKey(0)"
   ]
  }
 ],
 "metadata": {
  "kernelspec": {
   "display_name": "Python 3",
   "language": "python",
   "name": "python3"
  },
  "language_info": {
   "codemirror_mode": {
    "name": "ipython",
    "version": 3
   },
   "file_extension": ".py",
   "mimetype": "text/x-python",
   "name": "python",
   "nbconvert_exporter": "python",
   "pygments_lexer": "ipython3",
   "version": "3.6.7"
  }
 },
 "nbformat": 4,
 "nbformat_minor": 2
}
