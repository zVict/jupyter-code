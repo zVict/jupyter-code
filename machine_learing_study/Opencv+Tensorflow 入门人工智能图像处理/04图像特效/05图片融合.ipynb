{
 "cells": [
  {
   "cell_type": "code",
   "execution_count": 2,
   "metadata": {},
   "outputs": [
    {
     "data": {
      "text/plain": [
       "-1"
      ]
     },
     "execution_count": 2,
     "metadata": {},
     "output_type": "execute_result"
    }
   ],
   "source": [
    "# dst= src1*a + src2*(1-a)\n",
    "import cv2\n",
    "import numpy as np\n",
    "img0 = cv2.imread('image0.jpg',1)\n",
    "img1 = cv2.imread('image1.jpg',1)\n",
    "imgInfo=img0.shape\n",
    "height=imgInfo[0]\n",
    "width=imgInfo[1]\n",
    "#ROI 感兴趣范围\n",
    "roiH = int(height/2)\n",
    "roiW = int(width/2)\n",
    "\n",
    "img0ROI = img0[0:roiH,0:roiW]\n",
    "img1ROI = img1[0:roiH,0:roiW]\n",
    "\n",
    "dst = np.zeros((roiH,roiW,3),np.uint8)\n",
    "dst = cv2.addWeighted(img0ROI,0.5,img1ROI,0.5,0)# add sec1*a+src2*(1-a)\n",
    "#1 src1  2 a  3 src2  4 1-a \n",
    "\n",
    "cv2.imshow('dst',dst)\n",
    "cv2.waitKey(0)"
   ]
  }
 ],
 "metadata": {
  "kernelspec": {
   "display_name": "Python 3",
   "language": "python",
   "name": "python3"
  },
  "language_info": {
   "codemirror_mode": {
    "name": "ipython",
    "version": 3
   },
   "file_extension": ".py",
   "mimetype": "text/x-python",
   "name": "python",
   "nbconvert_exporter": "python",
   "pygments_lexer": "ipython3",
   "version": "3.6.7"
  }
 },
 "nbformat": 4,
 "nbformat_minor": 2
}
