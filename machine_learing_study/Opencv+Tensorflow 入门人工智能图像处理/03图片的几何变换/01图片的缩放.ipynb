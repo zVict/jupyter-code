{
 "cells": [
  {
   "cell_type": "markdown",
   "metadata": {},
   "source": [
    "# 1 opencv API  resize"
   ]
  },
  {
   "cell_type": "code",
   "execution_count": 5,
   "metadata": {},
   "outputs": [
    {
     "name": "stdout",
     "output_type": "stream",
     "text": [
      "(547, 730, 3)\n"
     ]
    },
    {
     "data": {
      "text/plain": [
       "-1"
      ]
     },
     "execution_count": 5,
     "metadata": {},
     "output_type": "execute_result"
    }
   ],
   "source": [
    "# 1 load  2 info 3 resize 4 check\n",
    "\n",
    "import cv2\n",
    "\n",
    "img=cv2.imread('image0.jpg',1)\n",
    "imgInfo=img.shape\n",
    "print(imgInfo)\n",
    "height=imgInfo[0]\n",
    "width=imgInfo[1]\n",
    "mode=imgInfo[2]\n",
    "\n",
    "# 1 放大 缩小 2 等比例 非 2:3\n",
    "dstHeight = int(height*0.5)\n",
    "dstWidth = int(width*0.5)\n",
    "# 最近领域插值  双线性插值 像素关系重采样 立方插值\n",
    "dst=cv2.resize(img,(dstWidth,dstHeight))\n",
    "cv2.imshow('image',dst)\n",
    "cv2.waitKey(0)\n"
   ]
  },
  {
   "cell_type": "code",
   "execution_count": null,
   "metadata": {},
   "outputs": [],
   "source": [
    "# 最近领域插值  双线性插值 原理\n",
    "# src 10*20 dst 5*10\n",
    "# dst <= src\n",
    "# (1,2) <- (2,4)\n",
    "# dst x 1-> src x 2 newX\n",
    "# newX = x*(src 行/目标 行) newX=1*(10/5)=2\n",
    "# newY = y*(src 列/目标 列) newY=2*(20/10)=4\n",
    "\n",
    "# 双线性插值\n",
    "# A1 = 20%上 + 80%下\n",
    "# B1 = 30%左 + 70%右\n",
    "# 1 最终点 = A1 *30% + A2 70%\n",
    "# 2 最终点 = B1 *20% + B2 80%"
   ]
  },
  {
   "cell_type": "markdown",
   "metadata": {},
   "source": [
    "# 2 源代码实现"
   ]
  },
  {
   "cell_type": "code",
   "execution_count": 7,
   "metadata": {},
   "outputs": [
    {
     "data": {
      "text/plain": [
       "-1"
      ]
     },
     "execution_count": 7,
     "metadata": {},
     "output_type": "execute_result"
    }
   ],
   "source": [
    "# 1 load  2 空白模版 3 xy\n",
    "\n",
    "import cv2\n",
    "import numpy as np\n",
    "img=cv2.imread('image0.jpg',1)\n",
    "imgInfo=img.shape\n",
    "# print(imgInfo)\n",
    "height=imgInfo[0]\n",
    "width=imgInfo[1]\n",
    "mode=imgInfo[2]\n",
    "\n",
    "dstHeight = int(height*0.5)\n",
    "dstWidth = int(width*0.5)\n",
    "\n",
    "dstImage=np.zeros((dstHeight,dstWidth,3),np.uint8) #0-255\n",
    "for i in range(0,dstHeight): #行\n",
    "    for j in range(0,dstWidth): #列\n",
    "        iNew = int(i*(height*1.0/dstHeight))\n",
    "        jNew = int(j*(width*1.0/dstWidth))\n",
    "        dstImage[i,j]=img[iNew,jNew]\n",
    "cv2.imshow('image',dstImage)\n",
    "cv2.waitKey(0)\n",
    "# 1 opencv API resize 2 算法原理 3 源码实现"
   ]
  },
  {
   "cell_type": "code",
   "execution_count": 6,
   "metadata": {},
   "outputs": [
    {
     "name": "stdout",
     "output_type": "stream",
     "text": [
      "(547, 730, 3)\n"
     ]
    }
   ],
   "source": [
    "print(img.shape)"
   ]
  }
 ],
 "metadata": {
  "kernelspec": {
   "display_name": "Python 3",
   "language": "python",
   "name": "python3"
  },
  "language_info": {
   "codemirror_mode": {
    "name": "ipython",
    "version": 3
   },
   "file_extension": ".py",
   "mimetype": "text/x-python",
   "name": "python",
   "nbconvert_exporter": "python",
   "pygments_lexer": "ipython3",
   "version": "3.6.7"
  }
 },
 "nbformat": 4,
 "nbformat_minor": 2
}
