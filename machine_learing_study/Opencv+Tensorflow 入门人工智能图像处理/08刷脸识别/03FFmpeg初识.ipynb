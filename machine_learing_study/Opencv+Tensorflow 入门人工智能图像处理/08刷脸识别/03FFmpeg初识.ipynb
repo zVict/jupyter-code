{
 "cells": [
  {
   "cell_type": "code",
   "execution_count": null,
   "metadata": {},
   "outputs": [],
   "source": [
    "# python 爬虫 # ffmpeg\n",
    "# 样本采集车 -> 路段  -> 视频\n",
    "# opencv 视频 本质 -> ffmpeg\n",
    "# 是什么？ 软件  \n",
    "# 文件格式转换 编码器 剪切 录制 提取 裁剪 复用\n",
    "# 视频分解图片  ffmpeg.exe -i 1.mp4 images\\image%d.jpg"
   ]
  }
 ],
 "metadata": {
  "kernelspec": {
   "display_name": "Python 3",
   "language": "python",
   "name": "python3"
  },
  "language_info": {
   "codemirror_mode": {
    "name": "ipython",
    "version": 3
   },
   "file_extension": ".py",
   "mimetype": "text/x-python",
   "name": "python",
   "nbconvert_exporter": "python",
   "pygments_lexer": "ipython3",
   "version": "3.6.7"
  }
 },
 "nbformat": 4,
 "nbformat_minor": 2
}
