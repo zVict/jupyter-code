{
 "cells": [
  {
   "cell_type": "code",
   "execution_count": 6,
   "metadata": {},
   "outputs": [
    {
     "name": "stdout",
     "output_type": "stream",
     "text": [
      "[<img class=\"l\" src=\"//www.imooc.com/static/img/common/appload.png\"/>, <img alt=\"\" class=\"img l\" src=\"/static/module/sale/img/bottom-buy1.png\"/>]\n"
     ]
    }
   ],
   "source": [
    "# https://class.imooc.com/fe\n",
    "# 爬虫 1 理解爬虫原理 2 实现一个图片爬虫\n",
    "# 1 http 2 html 3 正则 过滤条件 4 其他\n",
    "# 1 url  2 html src 3 img 4 img url\n",
    "import urllib3 \n",
    "import urllib\n",
    "import os\n",
    "from bs4 import BeautifulSoup\n",
    "\n",
    "html = urllib.request.urlopen('https://class.imooc.com/fe').read()\n",
    "soup=BeautifulSoup(html,'html.parser',from_encoding='utf-8')\n",
    "imgs=soup.findAll('img')\n",
    "print(imgs)\n"
   ]
  },
  {
   "cell_type": "code",
   "execution_count": 8,
   "metadata": {},
   "outputs": [
    {
     "name": "stdout",
     "output_type": "stream",
     "text": [
      "link,= //www.imooc.com/static/img/common/appload.png\n",
      "link,= /static/module/sale/img/bottom-buy1.png\n"
     ]
    }
   ],
   "source": [
    "imageName=0\n",
    "for image in imgs:\n",
    "    link=image.get('src')\n",
    "    print('link,=',link)\n",
    "    link='htttp:'+link\n",
    "    flieFormat = link[-3:]\n",
    "    if flieFormat == 'png' or flieFormat=='jpg':\n",
    "        fileSacePath = ''+str(imageName)+'.jpg'\n",
    "        imageName=imageName+1\n",
    "        urllib.request.urlretrieve(link,fileSacePath)"
   ]
  }
 ],
 "metadata": {
  "kernelspec": {
   "display_name": "Python 3",
   "language": "python",
   "name": "python3"
  },
  "language_info": {
   "codemirror_mode": {
    "name": "ipython",
    "version": 3
   },
   "file_extension": ".py",
   "mimetype": "text/x-python",
   "name": "python",
   "nbconvert_exporter": "python",
   "pygments_lexer": "ipython3",
   "version": "3.6.7"
  }
 },
 "nbformat": 4,
 "nbformat_minor": 2
}
