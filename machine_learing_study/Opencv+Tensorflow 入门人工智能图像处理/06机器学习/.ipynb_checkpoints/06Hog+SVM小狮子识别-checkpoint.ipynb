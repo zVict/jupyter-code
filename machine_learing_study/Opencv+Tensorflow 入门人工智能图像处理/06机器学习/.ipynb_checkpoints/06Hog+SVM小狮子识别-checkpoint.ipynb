{
 "cells": [
  {
   "cell_type": "code",
   "execution_count": null,
   "metadata": {},
   "outputs": [],
   "source": [
    "# 1 样本  2 训练  3 test 预测\n",
    "# 1 样本\n",
    "# 1.1 pos 正样本  包含所检测目标  neg  不包含obj\n",
    "# 1.2 如何获取样本  1 网络  2 公司内部  3 自己手机\n",
    "# 一个好的样本 远胜过一个 复杂的神经网络\n",
    "# 1.1 网络公司 样本：1张图  1元 贵\n",
    "# 1.2 网络 爬虫 自己爬\n",
    "# 1.3 公司： 很多年积累  红外图像\n",
    "# 1.4 自己收集  视频 100秒 30 = 3000\n",
    "# 正样本：尽可能多样 环境 干扰多样"
   ]
  },
  {
   "cell_type": "code",
   "execution_count": 1,
   "metadata": {},
   "outputs": [
    {
     "name": "stdout",
     "output_type": "stream",
     "text": [
      "(0.2555259476741386, array([[1.]]), array([[0]], dtype=int32))\n",
      "[0.]\n"
     ]
    },
    {
     "data": {
      "text/plain": [
       "-1"
      ]
     },
     "execution_count": 1,
     "metadata": {},
     "output_type": "execute_result"
    }
   ],
   "source": [
    "#训练\n",
    "# 1 参数  2 hog  3 svm  4computer hog 5 label 6 train  7 predict 8 draw\n",
    "import cv2\n",
    "import numpy as np\n",
    "import matplotlib.pyplot as plt\n",
    "# 1 参数 \n",
    "PosNum=820\n",
    "NegNum=1931\n",
    "winSize=(64,128)\n",
    "blockSize=(16,16)\n",
    "blockStride=(8,8)\n",
    "cellSize=(8,8)\n",
    "nBin=9\n",
    "\n",
    "# 2 hog\n",
    "hog = cv2.HOGDescriptor(winSize,blockSize,blockStride,cellSize,nBin)\n",
    "\n",
    "# 3 svm\n",
    "svm = cv2.ml.SVM_create()\n",
    "# 4 computer hog\n",
    "featureNum = int(((128-16)/8+1)*((64-16)/8+1)*4*9) #3780\n",
    "featureArray=np.zeros(((PosNum+NegNum),featureNum),np.float32)\n",
    "labelArray = np.zeros(((PosNum+NegNum),1),np.int32)\n",
    "\n",
    "# svm 监督学习 样本 标签  -》image hog\n",
    "for i in range(0,PosNum):\n",
    "    fileName='pos\\\\'+str(i+1)+'.jpg'\n",
    "    img=cv2.imread(fileName)\n",
    "    hist=hog.compute(img,(8,8)) #3780维\n",
    "#     print(featureNum)\n",
    "#     print(featureArray.shape)\n",
    "    for j in range(0,featureNum):\n",
    "        featureArray[i,j]=hist[j]\n",
    "    # featureArray hog[i,:] hog1[2,:]\n",
    "    labelArray[i,0]=1\n",
    "    #正样本\n",
    "for i in range(0,NegNum):\n",
    "    fileName='neg\\\\'+str(i+1)+'.jpg'\n",
    "    img=cv2.imread(fileName)\n",
    "    hist=hog.compute(img,(8,8)) #3780维\n",
    "    for j in range(0,featureNum):\n",
    "        featureArray[i+PosNum,j]=hist[j]\n",
    "    # featureArray hog[i,:] hog1[2,:]\n",
    "    labelArray[PosNum+i,0]=-1\n",
    "    #负样本\n",
    "svm.setType(cv2.ml.SVM_C_SVC)\n",
    "svm.setKernel(cv2.ml.SVM_LINEAR)\n",
    "svm.setC(0.01)\n",
    "#6 train\n",
    "svm.train(featureArray,cv2.ml.ROW_SAMPLE,labelArray)\n",
    "\n",
    "#7 检测 核心：create Hog -》 myDetect  -> 如何设置 array -》 resultArray rho-》svm-》svm.train\n",
    "alpha = np.zeros((1),np.float32)\n",
    "rho = svm.getDecisionFunction(0,alpha)\n",
    "print(rho)\n",
    "print(alpha)\n",
    "alphaArray=np.zeros((1,1),np.float32)\n",
    "supportVArray=np.zeros((1,featureNum),np.float32)\n",
    "resultArray = np.zeros((1,featureNum),np.float32)\n",
    "alphaArray[0,0]=alpha\n",
    "resultArray=-1*alphaArray*supportVArray\n",
    "\n",
    "#detect 进行检测\n",
    "myDetect = np.zeros((3781),np.float32)\n",
    "for i in range(0,3780):\n",
    "    myDetect[i]=resultArray[0,i]\n",
    "myDetect[3780]=rho[0]\n",
    "#构建Hog  （判决） rho\n",
    "myHog=cv2.HOGDescriptor()\n",
    "myHog.setSVMDetector(myDetect)\n",
    "\n",
    "#加载图片\n",
    "imageSrc=cv2.imread('Test2.jpg',1)\n",
    "#(8,8) win\n",
    "objs=myHog.detectMultiScale(imageSrc,0,(8,8),(32,32),1.05,2)\n",
    "\n",
    "x=int(objs[0][0][0])\n",
    "y=int(objs[0][0][1])\n",
    "w=int(objs[0][0][2])\n",
    "h=int(objs[0][0][3])\n",
    "\n",
    "#目标的绘制\n",
    "cv2.rectangle(imageSrc,(x,y),(x+w,y+h),(255,0,0),2)\n",
    "cv2.imshow('dst',imageSrc)\n",
    "cv2.waitKey(0)\n"
   ]
  },
  {
   "cell_type": "code",
   "execution_count": 3,
   "metadata": {},
   "outputs": [
    {
     "data": {
      "text/plain": [
       "2"
      ]
     },
     "execution_count": 3,
     "metadata": {},
     "output_type": "execute_result"
    }
   ],
   "source": [
    "len(objs)"
   ]
  }
 ],
 "metadata": {
  "kernelspec": {
   "display_name": "Python 3",
   "language": "python",
   "name": "python3"
  },
  "language_info": {
   "codemirror_mode": {
    "name": "ipython",
    "version": 3
   },
   "file_extension": ".py",
   "mimetype": "text/x-python",
   "name": "python",
   "nbconvert_exporter": "python",
   "pygments_lexer": "ipython3",
   "version": "3.6.7"
  }
 },
 "nbformat": 4,
 "nbformat_minor": 2
}
