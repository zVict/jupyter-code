{
 "cells": [
  {
   "cell_type": "code",
   "execution_count": 2,
   "metadata": {
    "scrolled": true
   },
   "outputs": [
    {
     "name": "stdout",
     "output_type": "stream",
     "text": [
      "(540, 960)\n",
      "end!\n"
     ]
    }
   ],
   "source": [
    "import cv2\n",
    "img = cv2.imread('img1.jpg')\n",
    "imgInfo=img.shape\n",
    "size=(imgInfo[1],imgInfo[0])\n",
    "print(size)\n",
    "videoWrite=cv2.VideoWriter('2.mp4',-1,5,size) #写入对象 1 file name 2编码器 3帧率 4size\n",
    "for i in range(1,11):\n",
    "    fileName='img'+str(i)+'.jpg'\n",
    "    img=cv2.imread(fileName)\n",
    "#     print(img)\n",
    "    videoWrite.write(img) # 写入方法 1 jpg data\n",
    "#关闭输出\n",
    "videoWrite.release()\n",
    "print('end!')"
   ]
  },
  {
   "cell_type": "code",
   "execution_count": 7,
   "metadata": {
    "scrolled": true
   },
   "outputs": [
    {
     "name": "stdout",
     "output_type": "stream",
     "text": [
      "Help on VideoWriter object:\n",
      "\n",
      "class VideoWriter(builtins.object)\n",
      " |  Methods defined here:\n",
      " |  \n",
      " |  __init__(self, /, *args, **kwargs)\n",
      " |      Initialize self.  See help(type(self)) for accurate signature.\n",
      " |  \n",
      " |  __new__(*args, **kwargs) from builtins.type\n",
      " |      Create and return a new object.  See help(type) for accurate signature.\n",
      " |  \n",
      " |  __repr__(self, /)\n",
      " |      Return repr(self).\n",
      " |  \n",
      " |  get(...)\n",
      " |      get(propId) -> retval\n",
      " |      .   @brief Returns the specified VideoWriter property\n",
      " |      .   \n",
      " |      .   @param propId Property identifier from cv::VideoWriterProperties (eg. cv::VIDEOWRITER_PROP_QUALITY)\n",
      " |      .   or one of @ref videoio_flags_others\n",
      " |      .   \n",
      " |      .   @return Value for the specified property. Value 0 is returned when querying a property that is\n",
      " |      .   not supported by the backend used by the VideoWriter instance.\n",
      " |  \n",
      " |  getBackendName(...)\n",
      " |      getBackendName() -> retval\n",
      " |      .   @brief Returns used backend API name\n",
      " |      .   \n",
      " |      .   @note Stream should be opened.\n",
      " |  \n",
      " |  isOpened(...)\n",
      " |      isOpened() -> retval\n",
      " |      .   @brief Returns true if video writer has been successfully initialized.\n",
      " |  \n",
      " |  open(...)\n",
      " |      open(filename, fourcc, fps, frameSize[, isColor]) -> retval\n",
      " |      .   @brief Initializes or reinitializes video writer.\n",
      " |      .   \n",
      " |      .   The method opens video writer. Parameters are the same as in the constructor\n",
      " |      .   VideoWriter::VideoWriter.\n",
      " |      .   @return `true` if video writer has been successfully initialized\n",
      " |      .   \n",
      " |      .   The method first calls VideoWriter::release to close the already opened file.\n",
      " |      \n",
      " |      \n",
      " |      \n",
      " |      open(filename, apiPreference, fourcc, fps, frameSize[, isColor]) -> retval\n",
      " |      .   @overload\n",
      " |  \n",
      " |  release(...)\n",
      " |      release() -> None\n",
      " |      .   @brief Closes the video writer.\n",
      " |      .   \n",
      " |      .   The method is automatically called by subsequent VideoWriter::open and by the VideoWriter\n",
      " |      .   destructor.\n",
      " |  \n",
      " |  set(...)\n",
      " |      set(propId, value) -> retval\n",
      " |      .   @brief Sets a property in the VideoWriter.\n",
      " |      .   \n",
      " |      .   @param propId Property identifier from cv::VideoWriterProperties (eg. cv::VIDEOWRITER_PROP_QUALITY)\n",
      " |      .   or one of @ref videoio_flags_others\n",
      " |      .   \n",
      " |      .   @param value Value of the property.\n",
      " |      .   @return  `true` if the property is supported by the backend used by the VideoWriter instance.\n",
      " |  \n",
      " |  write(...)\n",
      " |      write(image) -> None\n",
      " |      .   @brief Writes the next video frame\n",
      " |      .   \n",
      " |      .   @param image The written frame. In general, color images are expected in BGR format.\n",
      " |      .   \n",
      " |      .   The function/method writes the specified image to video file. It must have the same size as has\n",
      " |      .   been specified when opening the video writer.\n",
      " |  \n",
      " |  ----------------------------------------------------------------------\n",
      " |  Static methods defined here:\n",
      " |  \n",
      " |  fourcc(...)\n",
      " |      fourcc(c1, c2, c3, c4) -> retval\n",
      " |      .   @brief Concatenates 4 chars to a fourcc code\n",
      " |      .   \n",
      " |      .   @return a fourcc code\n",
      " |      .   \n",
      " |      .   This static method constructs the fourcc code of the codec to be used in the constructor\n",
      " |      .   VideoWriter::VideoWriter or VideoWriter::open.\n",
      "\n",
      "None\n"
     ]
    }
   ],
   "source": [
    "print(help(videoWrite))"
   ]
  }
 ],
 "metadata": {
  "kernelspec": {
   "display_name": "Python 3",
   "language": "python",
   "name": "python3"
  },
  "language_info": {
   "codemirror_mode": {
    "name": "ipython",
    "version": 3
   },
   "file_extension": ".py",
   "mimetype": "text/x-python",
   "name": "python",
   "nbconvert_exporter": "python",
   "pygments_lexer": "ipython3",
   "version": "3.6.7"
  }
 },
 "nbformat": 4,
 "nbformat_minor": 2
}
