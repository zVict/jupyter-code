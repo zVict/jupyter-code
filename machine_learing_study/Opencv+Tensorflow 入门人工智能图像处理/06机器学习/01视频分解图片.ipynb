{
 "cells": [
  {
   "cell_type": "code",
   "execution_count": 1,
   "metadata": {},
   "outputs": [
    {
     "name": "stdout",
     "output_type": "stream",
     "text": [
      "<built-in method isOpened of cv2.VideoCapture object at 0x000001E5A18465D0>\n",
      "29.008016032064127 540 960\n",
      "img1.jpg\n",
      "img2.jpg\n",
      "img3.jpg\n",
      "img4.jpg\n",
      "img5.jpg\n",
      "img6.jpg\n",
      "img7.jpg\n",
      "img8.jpg\n",
      "img9.jpg\n",
      "img10.jpg\n",
      "end!\n"
     ]
    }
   ],
   "source": [
    "# 视频分解图片\n",
    "# 1 load 2 info 3 parse 4 imshow imwrite\n",
    "import cv2\n",
    "cap=cv2.VideoCapture(\"1.mp4\")  # 获取一个视频打开 cap\n",
    "isOpened=cap.isOpened  #判断是否打开\n",
    "print(isOpened)\n",
    "fps=cap.get(cv2.CAP_PROP_FPS)\n",
    "width=int(cap.get(cv2.CAP_PROP_FRAME_WIDTH))\n",
    "height=int(cap.get(cv2.CAP_PROP_FRAME_HEIGHT))\n",
    "print(fps,width,height)\n",
    "\n",
    "i=0\n",
    "while(isOpened):\n",
    "    if i==10:\n",
    "        break;\n",
    "    else:\n",
    "        i=i+1\n",
    "    (flag,frame)=cap.read() # 读取每张图片\n",
    "    fileNmae='img'+str(i)+'.jpg'\n",
    "    print(fileNmae)\n",
    "    if flag==True:\n",
    "        cv2.imwrite(fileNmae,frame,[cv2.IMWRITE_JPEG_QUALITY])\n",
    "print('end!')"
   ]
  }
 ],
 "metadata": {
  "kernelspec": {
   "display_name": "Python 3",
   "language": "python",
   "name": "python3"
  },
  "language_info": {
   "codemirror_mode": {
    "name": "ipython",
    "version": 3
   },
   "file_extension": ".py",
   "mimetype": "text/x-python",
   "name": "python",
   "nbconvert_exporter": "python",
   "pygments_lexer": "ipython3",
   "version": "3.6.7"
  }
 },
 "nbformat": 4,
 "nbformat_minor": 2
}
