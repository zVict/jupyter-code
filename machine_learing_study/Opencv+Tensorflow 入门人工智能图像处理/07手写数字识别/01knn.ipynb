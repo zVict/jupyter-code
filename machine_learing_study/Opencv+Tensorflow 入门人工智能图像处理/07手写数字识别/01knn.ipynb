{
 "cells": [
  {
   "cell_type": "code",
   "execution_count": 28,
   "metadata": {},
   "outputs": [
    {
     "name": "stdout",
     "output_type": "stream",
     "text": [
      "Extracting MNIST_data\\train-images-idx3-ubyte.gz\n",
      "Extracting MNIST_data\\train-labels-idx1-ubyte.gz\n",
      "Extracting MNIST_data\\t10k-images-idx3-ubyte.gz\n",
      "Extracting MNIST_data\\t10k-labels-idx1-ubyte.gz\n"
     ]
    }
   ],
   "source": [
    "import tensorflow as tf\n",
    "import numpy as np\n",
    "import random\n",
    "from tensorflow.examples.tutorials.mnist import input_data\n",
    "# 1 load data\n",
    "# load data  2 one_hot : 1 0000  1 filename\n",
    "# 2 knn test train distance\n",
    "# 3 knn k个最近的图片  500 1-》500 train 4\n",
    "# 4 k个最近的图片  -> 解析\n",
    "# 5 最后 获取具体的数字\n",
    "# 6 检测概率统计\n",
    "mnist = input_data.read_data_sets('MNIST_data',one_hot=True)\n",
    "#属性设置\n",
    "trainNum=55000\n",
    "testNum=10000\n",
    "trainSize=55000\n",
    "testSize=10000\n",
    "k=4\n",
    "#数据分解  trainSize 个  返回 0-trainNum 之间  replace 不可重复\n",
    "trainIndex = np.random.choice(trainNum,trainSize,replace=False)\n",
    "testIndex = np.random.choice(testNum,testSize,replace=False)\n",
    "trainData = mnist.train.images[trainIndex] #获取训练图片\n",
    "trainLabel = mnist.train.labels[trainIndex] #获取训练标签\n",
    "testData = mnist.test.images[testIndex] #获取测试图片\n",
    "testLabel = mnist.test.labels[testIndex] #获取测试标签"
   ]
  },
  {
   "cell_type": "code",
   "execution_count": 29,
   "metadata": {},
   "outputs": [
    {
     "name": "stdout",
     "output_type": "stream",
     "text": [
      "(55000, 784)\n",
      "(55000, 10)\n",
      "(10000, 784)\n",
      "(10000, 10)\n"
     ]
    }
   ],
   "source": [
    "print(trainData.shape)\n",
    "print(trainLabel.shape)\n",
    "print(testData.shape)\n",
    "print(testLabel.shape)"
   ]
  },
  {
   "cell_type": "code",
   "execution_count": 41,
   "metadata": {
    "scrolled": true
   },
   "outputs": [
    {
     "name": "stdout",
     "output_type": "stream",
     "text": [
      "p1= (10, 1, 784)\n",
      "p2= (10, 55000, 784)\n",
      "p3= (10, 55000)\n",
      "p3[0,0]= 180.85492\n",
      "p4= (10, 55000)\n",
      "p4[0,0]= -180.85492\n",
      "p5= (10, 4) p6= (10, 4)\n",
      "p5[0,0]= -95.08627 p6[0,0]= 18758\n",
      "p7= (10, 4, 10)\n",
      "p8= (10, 10)\n",
      "p9= (10,)\n",
      "p9= [8 7 1 1 5 0 5 2 9 8]\n",
      "p10= [8 7 1 1 5 0 5 2 9 8]\n",
      "ac= 100.0\n"
     ]
    }
   ],
   "source": [
    "num=10\n",
    "# 2 knn距离计算\n",
    "trainDataInput = tf.placeholder(shape=[None,784],dtype=tf.float32)\n",
    "trainLabelInput = tf.placeholder(shape=[None,10],dtype=tf.float32)\n",
    "testDataInput = tf.placeholder(shape=[None,784],dtype=tf.float32)\n",
    "testLabelInput = tf.placeholder(shape=[None,10],dtype=tf.float32)\n",
    "# knn distance 5*784  5*1*784\n",
    "# 5 500  784  （3维）  2500*784\n",
    "f1=tf.expand_dims(testDataInput,1) #维度扩展\n",
    "f2=tf.subtract(trainDataInput,f1) # 784 sum(784)\n",
    "f3=tf.reduce_sum(tf.abs(f2),reduction_indices=2) #完成数据累加  784\n",
    "# 5*500\n",
    "\n",
    "f4 = tf.negative(f3)\n",
    "f5,f6=tf.nn.top_k(f4,k=4) # 选取f4 最大的四个值\n",
    "#f3中最小的四个值\n",
    "\n",
    "#f6是下标  index ->label\n",
    "f7 = tf.gather(trainLabelInput,f6)\n",
    "\n",
    "f8 = tf.reduce_sum(f7,reduction_indices=1)\n",
    "f9=tf.argmax(f8,axis=1)\n",
    "\n",
    "with tf.Session() as sess:\n",
    "    # f1<-testData 5张图片\n",
    "    p1 = sess.run(f1,feed_dict={testDataInput:testData[0:num]})\n",
    "    print('p1=',p1.shape) # p1= (5, 1, 784)\n",
    "    p2 = sess.run(f2,feed_dict={trainDataInput:trainData,testDataInput:testData[0:num]})\n",
    "    print('p2=',p2.shape) # p2= (5, 500, 784)\n",
    "    p3 = sess.run(f3,feed_dict={trainDataInput:trainData,testDataInput:testData[0:num]})\n",
    "    print('p3=',p3.shape) # p3= (5, 500) 最核心的距离的计算\n",
    "    print('p3[0,0]=',p3[0,0])\n",
    "    p4=sess.run(f4,feed_dict={trainDataInput:trainData,testDataInput:testData[0:num]})\n",
    "    print('p4=',p4.shape) # p3= (5, 500) 最核心的距离的计算\n",
    "    print('p4[0,0]=',p4[0,0])\n",
    "    # p6下标 p5是值  5张图的 距离最小的4个图\n",
    "    p5,p6=sess.run((f5,f6),feed_dict={trainDataInput:trainData,testDataInput:testData[0:num]})\n",
    "    print('p5=',p5.shape,'p6=',p6.shape)\n",
    "    print('p5[0,0]=',p5[0,0],'p6[0,0]=',p6[0,0])\n",
    "    p7 = sess.run(f7,feed_dict={trainDataInput:trainData,testDataInput:testData[0:num],trainLabelInput:trainLabel})\n",
    "    print('p7=',p7.shape)\n",
    "#     print(p7)\n",
    "    p8 = sess.run(f8,feed_dict={trainDataInput:trainData,testDataInput:testData[0:num],trainLabelInput:trainLabel})\n",
    "    print('p8=',p8.shape)\n",
    "#     print(p8)\n",
    "    p9 = sess.run(f9,feed_dict={trainDataInput:trainData,testDataInput:testData[0:num],trainLabelInput:trainLabel})\n",
    "    print('p9=',p9.shape)\n",
    "    print('p9=',p9)\n",
    "    p10 = np.argmax(testLabel[0:num],axis=1)\n",
    "    print('p10=',p10)\n",
    "j=0\n",
    "for i in range(0,num):\n",
    "    if p10[i]==p9[i]:\n",
    "        j=j+1\n",
    "print('ac=',j*100/num)"
   ]
  }
 ],
 "metadata": {
  "kernelspec": {
   "display_name": "Python 3",
   "language": "python",
   "name": "python3"
  },
  "language_info": {
   "codemirror_mode": {
    "name": "ipython",
    "version": 3
   },
   "file_extension": ".py",
   "mimetype": "text/x-python",
   "name": "python",
   "nbconvert_exporter": "python",
   "pygments_lexer": "ipython3",
   "version": "3.6.7"
  }
 },
 "nbformat": 4,
 "nbformat_minor": 2
}
