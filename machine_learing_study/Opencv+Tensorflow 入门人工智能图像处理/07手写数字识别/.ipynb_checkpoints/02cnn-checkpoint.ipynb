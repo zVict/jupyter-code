{
 "cells": [
  {
   "cell_type": "code",
   "execution_count": 1,
   "metadata": {},
   "outputs": [
    {
     "name": "stdout",
     "output_type": "stream",
     "text": [
      "WARNING:tensorflow:From <ipython-input-1-8e24cce59fe2>:7: read_data_sets (from tensorflow.contrib.learn.python.learn.datasets.mnist) is deprecated and will be removed in a future version.\n",
      "Instructions for updating:\n",
      "Please use alternatives such as official/mnist/dataset.py from tensorflow/models.\n",
      "WARNING:tensorflow:From c:\\users\\sha\\anaconda3\\envs\\tensorflow-gpu\\lib\\site-packages\\tensorflow\\contrib\\learn\\python\\learn\\datasets\\mnist.py:260: maybe_download (from tensorflow.contrib.learn.python.learn.datasets.base) is deprecated and will be removed in a future version.\n",
      "Instructions for updating:\n",
      "Please write your own downloading logic.\n",
      "WARNING:tensorflow:From c:\\users\\sha\\anaconda3\\envs\\tensorflow-gpu\\lib\\site-packages\\tensorflow\\contrib\\learn\\python\\learn\\datasets\\mnist.py:262: extract_images (from tensorflow.contrib.learn.python.learn.datasets.mnist) is deprecated and will be removed in a future version.\n",
      "Instructions for updating:\n",
      "Please use tf.data to implement this functionality.\n",
      "Extracting MNIST_data\\train-images-idx3-ubyte.gz\n",
      "WARNING:tensorflow:From c:\\users\\sha\\anaconda3\\envs\\tensorflow-gpu\\lib\\site-packages\\tensorflow\\contrib\\learn\\python\\learn\\datasets\\mnist.py:267: extract_labels (from tensorflow.contrib.learn.python.learn.datasets.mnist) is deprecated and will be removed in a future version.\n",
      "Instructions for updating:\n",
      "Please use tf.data to implement this functionality.\n",
      "Extracting MNIST_data\\train-labels-idx1-ubyte.gz\n",
      "WARNING:tensorflow:From c:\\users\\sha\\anaconda3\\envs\\tensorflow-gpu\\lib\\site-packages\\tensorflow\\contrib\\learn\\python\\learn\\datasets\\mnist.py:110: dense_to_one_hot (from tensorflow.contrib.learn.python.learn.datasets.mnist) is deprecated and will be removed in a future version.\n",
      "Instructions for updating:\n",
      "Please use tf.one_hot on tensors.\n",
      "Extracting MNIST_data\\t10k-images-idx3-ubyte.gz\n",
      "Extracting MNIST_data\\t10k-labels-idx1-ubyte.gz\n",
      "WARNING:tensorflow:From c:\\users\\sha\\anaconda3\\envs\\tensorflow-gpu\\lib\\site-packages\\tensorflow\\contrib\\learn\\python\\learn\\datasets\\mnist.py:290: DataSet.__init__ (from tensorflow.contrib.learn.python.learn.datasets.mnist) is deprecated and will be removed in a future version.\n",
      "Instructions for updating:\n",
      "Please use alternatives such as official/mnist/dataset.py from tensorflow/models.\n"
     ]
    }
   ],
   "source": [
    "# cnn\n",
    "# 1 import \n",
    "import tensorflow as tf\n",
    "import numpy as np\n",
    "from tensorflow.examples.tutorials.mnist import input_data\n",
    "# 2 load_data\n",
    "mnist = input_data.read_data_sets('MNIST_data',one_hot=True)"
   ]
  },
  {
   "cell_type": "code",
   "execution_count": null,
   "metadata": {},
   "outputs": [],
   "source": [
    "# 3 input\n",
    "imageInput = tf.placeholder(tf.float32,[None,784])\n",
    "labelInput = tf.placeholder(tf.float32,[None,10])\n",
    "# 4 data reshape\n",
    "# [None,784]->M*28*28*1  2D->4D  28*28 wh  1 channel\n",
    "imageInputReshape = tf.reshape(imageInput,[-1,28,28,1])\n",
    "# 5 卷积 w0:卷积内核 5*5 output：32  in：1\n",
    "w0 = tf.Variable(tf.truncated_normal([5,5,1,32],stddev=0.1))\n",
    "b0 = tf.Variable(tf.constant(0.1,shape=[32]))\n",
    "# 6 # layer1 ：激励函数 + 卷积运算\n",
    "layer1 = tf.nn.relu(tf.nn.conv2d(imageInputReshape,w0,strides=[1,1,1,1],padding='SAME')+b0)\n",
    "# 7 M*28*28*32\n",
    "# pool 采样 M*28*28*32 = M*7*7*32\n",
    "layer1_pool = tf.nn.max_pool(layer1,ksize=[1,4,4,1],strides=[1,4,4,1],padding='SAME')\n",
    "# 【1，2，3，4】->4\n",
    "\n",
    "#7 layer2 out: 激励函数+乘加运算：softmax\n",
    "# 二维\n",
    "w1=tf.Variable(tf.truncated_normal([7*7*32,1024],stddev=0.1))\n",
    "b1 = tf.Variable(tf.constant(0.1,shape=[1024]))\n",
    "h_reshape=tf.reshape(layer1_pool,[-1,7*7*32])\n",
    "# N*N1 \n",
    "h1=tf.nn.relu(tf.matmul(h_reshape,w1)+b1)\n",
    "#7.1 softmax\n",
    "w2=tf.Variable(tf.truncated_normal([1024,10],stddev=0.1))\n",
    "b2=tf.Variable(tf.constant(0.1,shape=[10]))\n",
    "pred = tf.nn.softmax(tf.matmul(h1,w2)+b2)\n",
    "# N*10 (概率)\n",
    "loss0 = labelInput*tf.log(pred)\n",
    "loss1 = 0\n",
    "#7.2\n",
    "for m in range(0,100):\n",
    "    for n in range(0,10):\n",
    "        loss1=loss1-loss0[m,n]\n",
    "loss=loss1/100\n",
    "\n",
    "#8 train\n",
    "train = tf.train.GradientDescentOptimizer(0.01).minimize(loss)\n",
    "# 9 run\n",
    "with tf.Session() as sess:\n",
    "    sess.run(tf.global_variables_initializer())\n",
    "    for i in range(100):\n",
    "        images,labels = mnist.train.next_batch(500)\n",
    "        sess.run(train,feed_dict={imageInput:images,labelInput:labels})\n",
    "        \n",
    "        pred_test=sess.run(pred,feed_dict={imageInput:mnist.test.images,labelInput:labels})\n",
    "        \n",
    "        acc=tf.equal(tf.argmax(pred_test,1),tf.argmax(mnist.test.labels,1))\n",
    "        acc_float = tf.reduce_mean(tf.cast(acc,tf.float32))\n",
    "        acc_result=sess.run(acc_float,{imageInput:mnist.test.images,labelInput:mnist.test.labels})\n",
    "        print(acc_result)"
   ]
  }
 ],
 "metadata": {
  "kernelspec": {
   "display_name": "Python 3",
   "language": "python",
   "name": "python3"
  },
  "language_info": {
   "codemirror_mode": {
    "name": "ipython",
    "version": 3
   },
   "file_extension": ".py",
   "mimetype": "text/x-python",
   "name": "python",
   "nbconvert_exporter": "python",
   "pygments_lexer": "ipython3",
   "version": "3.6.7"
  }
 },
 "nbformat": 4,
 "nbformat_minor": 2
}
