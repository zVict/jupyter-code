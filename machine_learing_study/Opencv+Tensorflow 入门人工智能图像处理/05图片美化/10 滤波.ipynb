{
 "cells": [
  {
   "cell_type": "code",
   "execution_count": null,
   "metadata": {},
   "outputs": [],
   "source": [
    "#高斯滤波\n",
    "import cv2\n",
    "import numpy as np\n",
    "img = cv2.imread('image11.jpg',1)\n",
    "imgInfo = img.shape\n",
    "height = imgInfo[0]\n",
    "width = imgInfo[1]\n",
    "\n",
    "cv2.imshow('src',img)\n",
    "\n",
    "dst=cv2.GaussianBlur(img,(5,5),1.5)\n",
    "cv2.imshow('dst',dst)\n",
    "cv2.waitKey(0)"
   ]
  },
  {
   "cell_type": "code",
   "execution_count": null,
   "metadata": {},
   "outputs": [],
   "source": [
    "#均值滤波  模板6*6 1   {6*6】 / 36 =mean ->p\n",
    "import cv2\n",
    "import numpy as np\n",
    "img = cv2.imread('image11.jpg',1)\n",
    "imgInfo = img.shape\n",
    "height = imgInfo[0]\n",
    "width = imgInfo[1]\n",
    "\n",
    "\n",
    "\n",
    "dst=np.zeros((height,width,3),np.uint8)\n",
    "\n",
    "for i in range(3,height-3):\n",
    "    for j in range(3,width-3):\n",
    "        sum_b=int(0)\n",
    "        sum_g=int(0)\n",
    "        sum_r=int(0)\n",
    "        for m in range(-3,3):\n",
    "            for n in range(-3,3):\n",
    "                (b,g,r)=img[i+m,j+n]\n",
    "                sum_b=sum_b+int(b)\n",
    "                sum_g=sum_g+int(g)\n",
    "                sum_r=sum_r+int(r)\n",
    "        b=np.uint8(sum_b/36)\n",
    "        g=np.uint8(sum_g/36)\n",
    "        r=np.uint8(sum_r/36)\n",
    "        dst[i,j]=(b,g,r)\n",
    "cv2.imshow('src',img)\n",
    "cv2.imshow('dst',dst)\n",
    "cv2.waitKey(0)"
   ]
  },
  {
   "cell_type": "code",
   "execution_count": 8,
   "metadata": {},
   "outputs": [
    {
     "data": {
      "text/plain": [
       "-1"
      ]
     },
     "execution_count": 8,
     "metadata": {},
     "output_type": "execute_result"
    }
   ],
   "source": [
    "# 中值滤波 3*3\n",
    "import cv2\n",
    "import numpy as np\n",
    "img = cv2.imread('image11.jpg',1)\n",
    "imgInfo = img.shape\n",
    "height = imgInfo[0]\n",
    "width = imgInfo[1]\n",
    "\n",
    "img=cv2.cvtColor(img,cv2.COLOR_RGB2GRAY)\n",
    "\n",
    "dst=np.zeros((height,width,3),np.uint8)\n",
    "\n",
    "collect=np.zeros(9,np.uint8)\n",
    "\n",
    "for i in range(1,height-1):\n",
    "    for j in range(1,width-1):\n",
    "        k=0\n",
    "        for m in range(-1,2):\n",
    "            for n in range(-1,2):\n",
    "                gray=img[i,j]\n",
    "                collect[k]=gray\n",
    "                k=k+1\n",
    "        collect.sort()\n",
    "        dst[i,j]=collect[4]\n",
    "cv2.imshow('src',img)\n",
    "cv2.imshow('dst',dst)\n",
    "cv2.waitKey(0)"
   ]
  },
  {
   "cell_type": "code",
   "execution_count": 6,
   "metadata": {},
   "outputs": [
    {
     "data": {
      "text/plain": [
       "[1, 2, 4, 5, 6]"
      ]
     },
     "execution_count": 6,
     "metadata": {},
     "output_type": "execute_result"
    }
   ],
   "source": [
    "test=[1,5,6,2,4]\n",
    "test.sort()\n",
    "test"
   ]
  }
 ],
 "metadata": {
  "kernelspec": {
   "display_name": "Python 3",
   "language": "python",
   "name": "python3"
  },
  "language_info": {
   "codemirror_mode": {
    "name": "ipython",
    "version": 3
   },
   "file_extension": ".py",
   "mimetype": "text/x-python",
   "name": "python",
   "nbconvert_exporter": "python",
   "pygments_lexer": "ipython3",
   "version": "3.6.7"
  }
 },
 "nbformat": 4,
 "nbformat_minor": 2
}
