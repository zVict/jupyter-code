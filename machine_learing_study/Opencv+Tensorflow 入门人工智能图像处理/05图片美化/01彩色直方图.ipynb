{
 "cells": [
  {
   "cell_type": "code",
   "execution_count": 4,
   "metadata": {},
   "outputs": [
    {
     "data": {
      "text/plain": [
       "-1"
      ]
     },
     "execution_count": 4,
     "metadata": {},
     "output_type": "execute_result"
    }
   ],
   "source": [
    "import cv2\n",
    "import numpy as np\n",
    "def ImageHist(image,type):\n",
    "    color=(255,255,255)\n",
    "    windowName='Gray'\n",
    "    if type==31:\n",
    "        color=(255,0,0)\n",
    "        windowName='B Hist'\n",
    "    elif type==32:\n",
    "        color=(0,255,0)\n",
    "        windowName='G Hist'\n",
    "    elif type==33:\n",
    "        color=(0,0,255)\n",
    "        windowName='R Hist'\n",
    "    # 1 image  2[0]  3 mask None  4 256个灰度值  5 0-255\n",
    "    hist = cv2.calcHist([image],[0],None,[256],[0.0,255.0])   \n",
    "    #为了归一化\n",
    "    minV,maxV,minL,maxL=cv2.minMaxLoc(hist)\n",
    "    histImg=np.zeros([256,256,3],np.uint8)\n",
    "    for h in range(256):\n",
    "        intenNormal = int(hist[h]*256/maxV)\n",
    "        cv2.line(histImg,(h,256),(h,256-intenNormal),color)\n",
    "    cv2.imshow(windowName,histImg)\n",
    "    return histImg\n",
    "\n",
    "img=cv2.imread('image0.jpg',1)\n",
    "channels=cv2.split(img)\n",
    "for i in range(0,3):\n",
    "    ImageHist(channels[i],31+i)\n",
    "cv2.waitKey(0)"
   ]
  },
  {
   "cell_type": "code",
   "execution_count": 5,
   "metadata": {},
   "outputs": [
    {
     "name": "stdout",
     "output_type": "stream",
     "text": [
      "Help on built-in function line:\n",
      "\n",
      "line(...)\n",
      "    line(img, pt1, pt2, color[, thickness[, lineType[, shift]]]) -> img\n",
      "    .   @brief Draws a line segment connecting two points.\n",
      "    .   \n",
      "    .   The function line draws the line segment between pt1 and pt2 points in the image. The line is\n",
      "    .   clipped by the image boundaries. For non-antialiased lines with integer coordinates, the 8-connected\n",
      "    .   or 4-connected Bresenham algorithm is used. Thick lines are drawn with rounding endings. Antialiased\n",
      "    .   lines are drawn using Gaussian filtering.\n",
      "    .   \n",
      "    .   @param img Image.\n",
      "    .   @param pt1 First point of the line segment.\n",
      "    .   @param pt2 Second point of the line segment.\n",
      "    .   @param color Line color.\n",
      "    .   @param thickness Line thickness.\n",
      "    .   @param lineType Type of the line. See #LineTypes.\n",
      "    .   @param shift Number of fractional bits in the point coordinates.\n",
      "\n"
     ]
    }
   ],
   "source": [
    "help(cv2.line)"
   ]
  }
 ],
 "metadata": {
  "kernelspec": {
   "display_name": "Python 3",
   "language": "python",
   "name": "python3"
  },
  "language_info": {
   "codemirror_mode": {
    "name": "ipython",
    "version": 3
   },
   "file_extension": ".py",
   "mimetype": "text/x-python",
   "name": "python",
   "nbconvert_exporter": "python",
   "pygments_lexer": "ipython3",
   "version": "3.6.7"
  }
 },
 "nbformat": 4,
 "nbformat_minor": 2
}
