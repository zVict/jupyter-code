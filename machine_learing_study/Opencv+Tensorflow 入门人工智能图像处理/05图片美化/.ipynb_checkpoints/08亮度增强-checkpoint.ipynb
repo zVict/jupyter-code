{
 "cells": [
  {
   "cell_type": "code",
   "execution_count": 4,
   "metadata": {},
   "outputs": [
    {
     "data": {
      "text/plain": [
       "-1"
      ]
     },
     "execution_count": 4,
     "metadata": {},
     "output_type": "execute_result"
    }
   ],
   "source": [
    "# p=p+40\n",
    "import cv2\n",
    "import numpy as np\n",
    "img = cv2.imread('image0.jpg',1)\n",
    "imgInfo = img.shape\n",
    "height = imgInfo[0]\n",
    "width = imgInfo[1]\n",
    "\n",
    "cv2.imshow('src',img)\n",
    "dst=np.zeros((height,width,3),np.uint8)\n",
    "\n",
    "for i in range(0,height):\n",
    "    for j in range(0,width):\n",
    "        (b,g,r)=img[i,j]\n",
    "        bb=int(b)+40\n",
    "        gg=int(g)+40\n",
    "        rr=int(r)+40\n",
    "        if bb>255:\n",
    "            bb=255\n",
    "        if gg>255:\n",
    "            gg=255\n",
    "        if rr>255:\n",
    "            rr=255\n",
    "        dst[i,j]=(bb,gg,rr)\n",
    "cv2.imshow('dst',dst)\n",
    "cv2.waitKey(0)"
   ]
  },
  {
   "cell_type": "code",
   "execution_count": null,
   "metadata": {},
   "outputs": [],
   "source": [
    "#修改一下\n",
    "# p=p*1.2+40\n",
    "import cv2\n",
    "import numpy as np\n",
    "img = cv2.imread('image0.jpg',1)\n",
    "imgInfo = img.shape\n",
    "height = imgInfo[0]\n",
    "width = imgInfo[1]\n",
    "\n",
    "cv2.imshow('src',img)\n",
    "dst=np.zeros((height,width,3),np.uint8)\n",
    "\n",
    "for i in range(0,height):\n",
    "    for j in range(0,width):\n",
    "        (b,g,r)=img[i,j]\n",
    "        bb=int(b*1.3)+10\n",
    "        gg=int(g*1.2)+15\n",
    "#         rr=int(r)+40\n",
    "        if bb>255:\n",
    "            bb=255\n",
    "        if gg>255:\n",
    "            gg=255\n",
    "        if rr>255:\n",
    "            rr=255\n",
    "        dst[i,j]=(bb,gg,rr)\n",
    "cv2.imshow('dst',dst)\n",
    "cv2.waitKey(0)"
   ]
  }
 ],
 "metadata": {
  "kernelspec": {
   "display_name": "Python 3",
   "language": "python",
   "name": "python3"
  },
  "language_info": {
   "codemirror_mode": {
    "name": "ipython",
    "version": 3
   },
   "file_extension": ".py",
   "mimetype": "text/x-python",
   "name": "python",
   "nbconvert_exporter": "python",
   "pygments_lexer": "ipython3",
   "version": "3.6.7"
  }
 },
 "nbformat": 4,
 "nbformat_minor": 2
}
