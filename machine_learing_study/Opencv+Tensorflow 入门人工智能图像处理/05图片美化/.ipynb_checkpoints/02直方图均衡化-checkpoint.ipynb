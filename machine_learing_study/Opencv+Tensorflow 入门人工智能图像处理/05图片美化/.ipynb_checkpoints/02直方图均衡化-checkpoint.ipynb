{
 "cells": [
  {
   "cell_type": "code",
   "execution_count": 1,
   "metadata": {},
   "outputs": [
    {
     "data": {
      "text/plain": [
       "-1"
      ]
     },
     "execution_count": 1,
     "metadata": {},
     "output_type": "execute_result"
    }
   ],
   "source": [
    "#灰度 直方图均衡化\n",
    "import cv2\n",
    "import numpy as np\n",
    "img = cv2.imread('image0.jpg',1)\n",
    "gray=cv2.cvtColor(img,cv2.COLOR_BGR2GRAY)\n",
    "cv2.imshow('src',gray)\n",
    "dst=cv2.equalizeHist(gray)\n",
    "cv2.imshow('dst',dst)\n",
    "cv2.waitKey(0)"
   ]
  },
  {
   "cell_type": "code",
   "execution_count": 1,
   "metadata": {},
   "outputs": [
    {
     "data": {
      "text/plain": [
       "-1"
      ]
     },
     "execution_count": 1,
     "metadata": {},
     "output_type": "execute_result"
    }
   ],
   "source": [
    "#彩色 直方图均衡化\n",
    "import cv2\n",
    "import numpy as np\n",
    "img = cv2.imread('image0.jpg',1)\n",
    "cv2.imshow('src',img)\n",
    "#通道分解\n",
    "(b,g,r)=cv2.split(img)\n",
    "bH=cv2.equalizeHist(b)\n",
    "gH=cv2.equalizeHist(g)\n",
    "rH=cv2.equalizeHist(r)\n",
    "#通道合成\n",
    "result=cv2.merge((bH,gH,rH))\n",
    "cv2.imshow('result',result)\n",
    "cv2.waitKey(0)"
   ]
  },
  {
   "cell_type": "code",
   "execution_count": 7,
   "metadata": {},
   "outputs": [
    {
     "data": {
      "text/plain": [
       "-1"
      ]
     },
     "execution_count": 7,
     "metadata": {},
     "output_type": "execute_result"
    }
   ],
   "source": [
    "#YUV 直方图均衡化\n",
    "import cv2\n",
    "import numpy as np\n",
    "img = cv2.imread('image0.jpg',1)\n",
    "cv2.imshow('img',img)\n",
    "\n",
    "imgYUV=cv2.cvtColor(img,cv2.COLOR_BGR2YCrCb)\n",
    "channelYUV=cv2.split(imgYUV)\n",
    "channelYUV[0]=cv2.equalizeHist(channelYUV[0])\n",
    "channel=cv2.merge(channelYUV)\n",
    "\n",
    "result=cv2.cvtColor(channel,cv2.COLOR_YCrCb2BGR)\n",
    "cv2.imshow('result',result)\n",
    "cv2.waitKey(0)"
   ]
  }
 ],
 "metadata": {
  "kernelspec": {
   "display_name": "Python 3",
   "language": "python",
   "name": "python3"
  },
  "language_info": {
   "codemirror_mode": {
    "name": "ipython",
    "version": 3
   },
   "file_extension": ".py",
   "mimetype": "text/x-python",
   "name": "python",
   "nbconvert_exporter": "python",
   "pygments_lexer": "ipython3",
   "version": "3.6.7"
  }
 },
 "nbformat": 4,
 "nbformat_minor": 2
}
