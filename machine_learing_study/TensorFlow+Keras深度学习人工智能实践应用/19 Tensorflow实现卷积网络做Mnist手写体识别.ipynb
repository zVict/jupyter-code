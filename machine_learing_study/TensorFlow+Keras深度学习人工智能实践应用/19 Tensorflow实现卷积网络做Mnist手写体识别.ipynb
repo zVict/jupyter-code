{
 "cells": [
  {
   "cell_type": "code",
   "execution_count": 1,
   "metadata": {},
   "outputs": [],
   "source": [
    "import tensorflow as tf\n",
    "import tensorflow.examples.tutorials.mnist.input_data as input_data"
   ]
  },
  {
   "cell_type": "code",
   "execution_count": 2,
   "metadata": {},
   "outputs": [
    {
     "name": "stdout",
     "output_type": "stream",
     "text": [
      "WARNING:tensorflow:From <ipython-input-2-20514739e6d7>:1: read_data_sets (from tensorflow.contrib.learn.python.learn.datasets.mnist) is deprecated and will be removed in a future version.\n",
      "Instructions for updating:\n",
      "Please use alternatives such as official/mnist/dataset.py from tensorflow/models.\n",
      "WARNING:tensorflow:From c:\\users\\sha\\anaconda3\\envs\\tensorflow-gpu\\lib\\site-packages\\tensorflow\\contrib\\learn\\python\\learn\\datasets\\mnist.py:260: maybe_download (from tensorflow.contrib.learn.python.learn.datasets.base) is deprecated and will be removed in a future version.\n",
      "Instructions for updating:\n",
      "Please write your own downloading logic.\n",
      "WARNING:tensorflow:From c:\\users\\sha\\anaconda3\\envs\\tensorflow-gpu\\lib\\site-packages\\tensorflow\\contrib\\learn\\python\\learn\\datasets\\mnist.py:262: extract_images (from tensorflow.contrib.learn.python.learn.datasets.mnist) is deprecated and will be removed in a future version.\n",
      "Instructions for updating:\n",
      "Please use tf.data to implement this functionality.\n",
      "Extracting D:\\data\\train-images-idx3-ubyte.gz\n",
      "WARNING:tensorflow:From c:\\users\\sha\\anaconda3\\envs\\tensorflow-gpu\\lib\\site-packages\\tensorflow\\contrib\\learn\\python\\learn\\datasets\\mnist.py:267: extract_labels (from tensorflow.contrib.learn.python.learn.datasets.mnist) is deprecated and will be removed in a future version.\n",
      "Instructions for updating:\n",
      "Please use tf.data to implement this functionality.\n",
      "Extracting D:\\data\\train-labels-idx1-ubyte.gz\n",
      "WARNING:tensorflow:From c:\\users\\sha\\anaconda3\\envs\\tensorflow-gpu\\lib\\site-packages\\tensorflow\\contrib\\learn\\python\\learn\\datasets\\mnist.py:110: dense_to_one_hot (from tensorflow.contrib.learn.python.learn.datasets.mnist) is deprecated and will be removed in a future version.\n",
      "Instructions for updating:\n",
      "Please use tf.one_hot on tensors.\n",
      "Extracting D:\\data\\t10k-images-idx3-ubyte.gz\n",
      "Extracting D:\\data\\t10k-labels-idx1-ubyte.gz\n",
      "WARNING:tensorflow:From c:\\users\\sha\\anaconda3\\envs\\tensorflow-gpu\\lib\\site-packages\\tensorflow\\contrib\\learn\\python\\learn\\datasets\\mnist.py:290: DataSet.__init__ (from tensorflow.contrib.learn.python.learn.datasets.mnist) is deprecated and will be removed in a future version.\n",
      "Instructions for updating:\n",
      "Please use alternatives such as official/mnist/dataset.py from tensorflow/models.\n"
     ]
    }
   ],
   "source": [
    "mnist = input_data.read_data_sets(r\"D:\\data\",one_hot=True)"
   ]
  },
  {
   "cell_type": "code",
   "execution_count": 3,
   "metadata": {},
   "outputs": [],
   "source": [
    "def weight(shape):\n",
    "    W=tf.Variable(tf.truncated_normal(shape,stddev=0.1),name='W')\n",
    "    tf.summary.histogram('W',W)\n",
    "    return W"
   ]
  },
  {
   "cell_type": "code",
   "execution_count": 4,
   "metadata": {},
   "outputs": [],
   "source": [
    "def bias(shape):\n",
    "    b=tf.Variable(tf.constant(0.1,shape=shape),name='b')\n",
    "    tf.summary.histogram('b',b)\n",
    "    return b"
   ]
  },
  {
   "cell_type": "code",
   "execution_count": 5,
   "metadata": {},
   "outputs": [],
   "source": [
    "def conv2d(x,W):\n",
    "    return tf.nn.conv2d(x,W,strides=[1,1,1,1],padding='SAME')"
   ]
  },
  {
   "cell_type": "code",
   "execution_count": 6,
   "metadata": {},
   "outputs": [],
   "source": [
    "def max_pool_2x2(x):\n",
    "    return tf.nn.max_pool(x,ksize=[1,2,2,1],strides=[1,2,2,1],padding='SAME')"
   ]
  },
  {
   "cell_type": "code",
   "execution_count": 7,
   "metadata": {},
   "outputs": [],
   "source": [
    "with tf.name_scope('Input_Layer'):\n",
    "    x=tf.placeholder(\"float\",shape=[None,784])\n",
    "    x_image=tf.reshape(x,[-1,28,28,1])"
   ]
  },
  {
   "cell_type": "code",
   "execution_count": 8,
   "metadata": {},
   "outputs": [],
   "source": [
    "with tf.name_scope('C1_Conv'):\n",
    "    W1=weight([5,5,1,16])\n",
    "    b1=bias([16])\n",
    "    Conv1=conv2d(x_image,W1)+b1\n",
    "    C1_Conv=tf.nn.relu(Conv1)"
   ]
  },
  {
   "cell_type": "code",
   "execution_count": 9,
   "metadata": {},
   "outputs": [],
   "source": [
    "with tf.name_scope('C1_Pool'):\n",
    "    C1_Pool=max_pool_2x2(C1_Conv,)"
   ]
  },
  {
   "cell_type": "code",
   "execution_count": 10,
   "metadata": {},
   "outputs": [],
   "source": [
    "with tf.name_scope('C2_Conv'):\n",
    "    W2=weight([5,5,16,36],)\n",
    "    b2=bias([36],)\n",
    "    Conv2=conv2d(C1_Pool,W2)+b2\n",
    "    C2_Conv=tf.nn.relu(Conv2)"
   ]
  },
  {
   "cell_type": "code",
   "execution_count": 11,
   "metadata": {},
   "outputs": [],
   "source": [
    "with tf.name_scope('C2_Pool'):\n",
    "    C2_Pool=max_pool_2x2(C2_Conv)"
   ]
  },
  {
   "cell_type": "code",
   "execution_count": 12,
   "metadata": {},
   "outputs": [],
   "source": [
    "with tf.name_scope('D_Flat'):\n",
    "    D_Flat=tf.reshape(C2_Pool,[-1,1764])"
   ]
  },
  {
   "cell_type": "code",
   "execution_count": 13,
   "metadata": {},
   "outputs": [],
   "source": [
    "with tf.name_scope('D_Hidden_Layer'):\n",
    "    W3=weight([1764,128])\n",
    "    b3=bias([128])\n",
    "    D_Hidden=tf.nn.relu(tf.matmul(D_Flat,W3)+b3)\n",
    "    D_Hidden_Dropout=tf.nn.dropout(D_Hidden,keep_prob=0.8)"
   ]
  },
  {
   "cell_type": "code",
   "execution_count": 14,
   "metadata": {},
   "outputs": [],
   "source": [
    "with tf.name_scope('Output_Layer'):\n",
    "    W4=weight([128,10])\n",
    "    b4=bias([10])\n",
    "    y_predict=tf.nn.softmax(tf.matmul(D_Hidden_Dropout,W4)+b4)"
   ]
  },
  {
   "cell_type": "code",
   "execution_count": 15,
   "metadata": {},
   "outputs": [],
   "source": [
    "with tf.name_scope(\"optimizer\"):\n",
    "    y_label=tf.placeholder(\"float\",shape=[None,10],name=\"y_label\")\n",
    "    loss_function=tf.reduce_mean(tf.nn.softmax_cross_entropy_with_logits_v2(logits=y_predict,labels=y_label))\n",
    "    acc_summary = tf.summary.scalar('loss',loss_function) \n",
    "    optimizer=tf.train.AdamOptimizer(learning_rate=0.0001).minimize(loss_function)"
   ]
  },
  {
   "cell_type": "code",
   "execution_count": 16,
   "metadata": {},
   "outputs": [],
   "source": [
    "with tf.name_scope(\"evaluate_model\"):\n",
    "    correct_prediction=tf.equal(tf.argmax(y_predict,1),tf.argmax(y_label,1))\n",
    "    accuracy=tf.reduce_mean(tf.cast(correct_prediction,\"float\"))\n",
    "    acc_summary = tf.summary.scalar('accuracy',accuracy) "
   ]
  },
  {
   "cell_type": "code",
   "execution_count": 17,
   "metadata": {},
   "outputs": [],
   "source": [
    "merged=tf.summary.merge_all()"
   ]
  },
  {
   "cell_type": "code",
   "execution_count": 18,
   "metadata": {},
   "outputs": [],
   "source": [
    "trainEpochs=30\n",
    "batchSize=100\n",
    "totalBatchs=int(mnist.train.num_examples/batchSize)\n",
    "loss_list=[]\n",
    "epoch_list=[]\n",
    "accuracy_list=[]\n",
    "from time import time"
   ]
  },
  {
   "cell_type": "code",
   "execution_count": 19,
   "metadata": {},
   "outputs": [],
   "source": [
    "sess=tf.Session()\n",
    "sess.run(tf.global_variables_initializer())"
   ]
  },
  {
   "cell_type": "code",
   "execution_count": 20,
   "metadata": {},
   "outputs": [],
   "source": [
    "train_writer=tf.summary.FileWriter('log/CNN',sess.graph)"
   ]
  },
  {
   "cell_type": "code",
   "execution_count": 21,
   "metadata": {},
   "outputs": [
    {
     "name": "stdout",
     "output_type": "stream",
     "text": [
      "Train Eposh: 01 Loss= 1.673885107 Accuracy= 0.8056\n",
      "Train Eposh: 02 Loss= 1.633459091 Accuracy= 0.8362\n",
      "Train Eposh: 03 Loss= 1.532889485 Accuracy= 0.9384\n",
      "Train Eposh: 04 Loss= 1.514334202 Accuracy= 0.9536\n",
      "Train Eposh: 05 Loss= 1.506441593 Accuracy= 0.9576\n",
      "Train Eposh: 06 Loss= 1.498090863 Accuracy= 0.9682\n",
      "Train Eposh: 07 Loss= 1.494894624 Accuracy= 0.9702\n",
      "Train Eposh: 08 Loss= 1.491240382 Accuracy= 0.9728\n",
      "Train Eposh: 09 Loss= 1.491295457 Accuracy= 0.9726\n",
      "Train Eposh: 10 Loss= 1.487052560 Accuracy= 0.9766\n",
      "Train Eposh: 11 Loss= 1.486057639 Accuracy= 0.976\n",
      "Train Eposh: 12 Loss= 1.483321309 Accuracy= 0.98\n",
      "Train Eposh: 13 Loss= 1.483799458 Accuracy= 0.9792\n",
      "Train Eposh: 14 Loss= 1.482974648 Accuracy= 0.98\n",
      "Train Eposh: 15 Loss= 1.480804086 Accuracy= 0.9824\n",
      "Train Eposh: 16 Loss= 1.479769111 Accuracy= 0.9832\n",
      "Train Eposh: 17 Loss= 1.478971720 Accuracy= 0.984\n",
      "Train Eposh: 18 Loss= 1.479239106 Accuracy= 0.983\n",
      "Train Eposh: 19 Loss= 1.479031682 Accuracy= 0.9838\n",
      "Train Eposh: 20 Loss= 1.477454066 Accuracy= 0.9866\n",
      "Train Eposh: 21 Loss= 1.478296041 Accuracy= 0.985\n",
      "Train Eposh: 22 Loss= 1.476940989 Accuracy= 0.986\n",
      "Train Eposh: 23 Loss= 1.476793647 Accuracy= 0.986\n",
      "Train Eposh: 24 Loss= 1.476213813 Accuracy= 0.9858\n",
      "Train Eposh: 25 Loss= 1.476969957 Accuracy= 0.9854\n",
      "Train Eposh: 26 Loss= 1.476826191 Accuracy= 0.9868\n",
      "Train Eposh: 27 Loss= 1.475919962 Accuracy= 0.986\n",
      "Train Eposh: 28 Loss= 1.475146651 Accuracy= 0.9868\n",
      "Train Eposh: 29 Loss= 1.475298285 Accuracy= 0.987\n",
      "Train Eposh: 30 Loss= 1.474952102 Accuracy= 0.987\n",
      "Train Finished takes: 84.44034099578857\n"
     ]
    }
   ],
   "source": [
    "startTime=time()\n",
    "for epoch in range(trainEpochs):\n",
    "    for i in range(totalBatchs):\n",
    "        batch_x,batch_y=mnist.train.next_batch(batchSize)\n",
    "        sess.run(optimizer,feed_dict={x:batch_x,y_label:batch_y})\n",
    "    loss,acc,s=sess.run([loss_function,accuracy,merged],feed_dict={x:mnist.validation.images,y_label:mnist.validation.labels})\n",
    "    train_writer.add_summary(s,epoch)\n",
    "    epoch_list.append(epoch)\n",
    "    loss_list.append(loss)\n",
    "    accuracy_list.append(acc)\n",
    "    print(\"Train Eposh:\",\"%02d\"%(epoch+1),\"Loss=\",\"{:.9f}\".format(loss),\"Accuracy=\",acc)\n",
    "duration=time()-startTime\n",
    "print(\"Train Finished takes:\",duration)"
   ]
  },
  {
   "cell_type": "code",
   "execution_count": 22,
   "metadata": {},
   "outputs": [],
   "source": [
    "import matplotlib.pyplot as plt\n",
    "def show_train_history(epoch_list,loss_list,title):\n",
    "    fig=plt.gcf()\n",
    "    fig.set_size_inches(4,2)\n",
    "    plt.plot(epoch_list,loss_list,label='loss')\n",
    "    plt.title(title)\n",
    "    plt.ylabel(\"loss\")\n",
    "    plt.xlabel('Epoch')\n",
    "    plt.legend(['loss'],loc='upper left')\n",
    "    plt.show()"
   ]
  },
  {
   "cell_type": "code",
   "execution_count": 23,
   "metadata": {},
   "outputs": [
    {
     "data": {
      "image/png": "[encoded data removed]",
      "text/plain": [
       "<Figure size 288x144 with 1 Axes>"
      ]
     },
     "metadata": {
      "needs_background": "light"
     },
     "output_type": "display_data"
    }
   ],
   "source": [
    "show_train_history(epoch_list,loss_list,\"Loss\")"
   ]
  },
  {
   "cell_type": "code",
   "execution_count": 24,
   "metadata": {},
   "outputs": [
    {
     "data": {
      "image/png": "[encoded data removed]",
      "text/plain": [
       "<Figure size 288x144 with 1 Axes>"
      ]
     },
     "metadata": {
      "needs_background": "light"
     },
     "output_type": "display_data"
    }
   ],
   "source": [
    "show_train_history(epoch_list,accuracy_list,\"Acc\")"
   ]
  },
  {
   "cell_type": "code",
   "execution_count": 25,
   "metadata": {},
   "outputs": [
    {
     "name": "stdout",
     "output_type": "stream",
     "text": [
      "Accuracy: 0.9869\n"
     ]
    }
   ],
   "source": [
    "print(\"Accuracy:\",sess.run(accuracy,feed_dict={x:mnist.test.images,y_label:mnist.test.labels}))"
   ]
  },
  {
   "cell_type": "code",
   "execution_count": 26,
   "metadata": {},
   "outputs": [],
   "source": [
    "prediction=sess.run(tf.argmax(y_predict,1),feed_dict={x:mnist.test.images})"
   ]
  },
  {
   "cell_type": "code",
   "execution_count": 27,
   "metadata": {},
   "outputs": [
    {
     "data": {
      "text/plain": [
       "array([7, 2, 1, 0, 4, 1, 4, 9, 5, 9], dtype=int64)"
      ]
     },
     "execution_count": 27,
     "metadata": {},
     "output_type": "execute_result"
    }
   ],
   "source": [
    "prediction[:10]"
   ]
  },
  {
   "cell_type": "code",
   "execution_count": 28,
   "metadata": {},
   "outputs": [],
   "source": [
    "import numpy as np\n",
    "def plot_images_labels_prediction(images,labels,prediction,idx,num=10):\n",
    "    fig=plt.gcf()\n",
    "    fig.set_size_inches(12,14)\n",
    "    if num>25:num=25\n",
    "    for i in range(0,num):\n",
    "        ax=plt.subplot(5,5,1+i)\n",
    "        ax.imshow(np.reshape(images[idx],(28,28)),cmap='binary')\n",
    "        title= \"label=\"+str(np.argmax(labels[idx]))\n",
    "        if len(prediction)>0:\n",
    "            title += \",predict=\"+str(prediction[idx])\n",
    "        ax.set_title(title,fontsize=10)\n",
    "        ax.set_xticks([]);ax.set_yticks([])\n",
    "        idx+=1\n",
    "    plt.show()"
   ]
  },
  {
   "cell_type": "code",
   "execution_count": 29,
   "metadata": {},
   "outputs": [
    {
     "data": {
      "image/png": "[encoded data removed]",
      "text/plain": [
       "<Figure size 864x1008 with 10 Axes>"
      ]
     },
     "metadata": {},
     "output_type": "display_data"
    }
   ],
   "source": [
    "plot_images_labels_prediction(mnist.test.images,mnist.test.labels,prediction,0)"
   ]
  },
  {
   "cell_type": "code",
   "execution_count": 30,
   "metadata": {},
   "outputs": [],
   "source": [
    "sess.close()"
   ]
  },
  {
   "cell_type": "code",
   "execution_count": null,
   "metadata": {},
   "outputs": [],
   "source": []
  }
 ],
 "metadata": {
  "kernelspec": {
   "display_name": "Python 3",
   "language": "python",
   "name": "python3"
  },
  "language_info": {
   "codemirror_mode": {
    "name": "ipython",
    "version": 3
   },
   "file_extension": ".py",
   "mimetype": "text/x-python",
   "name": "python",
   "nbconvert_exporter": "python",
   "pygments_lexer": "ipython3",
   "version": "3.6.7"
  }
 },
 "nbformat": 4,
 "nbformat_minor": 2
}
