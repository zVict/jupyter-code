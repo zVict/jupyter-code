{
 "cells": [
  {
   "cell_type": "code",
   "execution_count": 6,
   "metadata": {},
   "outputs": [],
   "source": [
    "import os\n",
    "import torch\n",
    "import torch.nn as nn\n",
    "from torch.autograd import Variable\n",
    "import torch.utils.data as Data\n",
    "import torchvision\n",
    "import torch.nn.functional as F\n",
    "import numpy as np\n",
    "learning_rate = 1e-4\n",
    "keep_prob_rate = 0.7 #\n",
    "max_epoch = 3\n",
    "BATCH_SIZE = 50\n",
    "\n",
    "DOWNLOAD_MNIST = False\n",
    "PATH='./data'\n",
    "if not(os.path.exists(PATH)) or not os.listdir(PATH):\n",
    "    # not mnist dir or mnist is empyt dir\n",
    "    DOWNLOAD_MNIST = True"
   ]
  },
  {
   "cell_type": "code",
   "execution_count": 7,
   "metadata": {},
   "outputs": [
    {
     "name": "stdout",
     "output_type": "stream",
     "text": [
      "Downloading http://yann.lecun.com/exdb/mnist/train-images-idx3-ubyte.gz to ./data\\MNIST\\raw\\train-images-idx3-ubyte.gz\n"
     ]
    },
    {
     "name": "stderr",
     "output_type": "stream",
     "text": [
      "9920512it [00:07, 1362827.76it/s]                                                                                      \n"
     ]
    },
    {
     "name": "stdout",
     "output_type": "stream",
     "text": [
      "Extracting ./data\\MNIST\\raw\\train-images-idx3-ubyte.gz to ./data\\MNIST\\raw\n",
      "Downloading http://yann.lecun.com/exdb/mnist/train-labels-idx1-ubyte.gz to ./data\\MNIST\\raw\\train-labels-idx1-ubyte.gz\n"
     ]
    },
    {
     "name": "stderr",
     "output_type": "stream",
     "text": [
      "32768it [00:00, 112931.56it/s]                                                                                         \n"
     ]
    },
    {
     "name": "stdout",
     "output_type": "stream",
     "text": [
      "Extracting ./data\\MNIST\\raw\\train-labels-idx1-ubyte.gz to ./data\\MNIST\\raw\n",
      "Downloading http://yann.lecun.com/exdb/mnist/t10k-images-idx3-ubyte.gz to ./data\\MNIST\\raw\\t10k-images-idx3-ubyte.gz\n"
     ]
    },
    {
     "name": "stderr",
     "output_type": "stream",
     "text": [
      "1654784it [00:01, 1147665.02it/s]                                                                                      \n"
     ]
    },
    {
     "name": "stdout",
     "output_type": "stream",
     "text": [
      "Extracting ./data\\MNIST\\raw\\t10k-images-idx3-ubyte.gz to ./data\\MNIST\\raw\n",
      "Downloading http://yann.lecun.com/exdb/mnist/t10k-labels-idx1-ubyte.gz to ./data\\MNIST\\raw\\t10k-labels-idx1-ubyte.gz\n"
     ]
    },
    {
     "name": "stderr",
     "output_type": "stream",
     "text": [
      "8192it [00:00, 16720.38it/s]                                                                                           \n"
     ]
    },
    {
     "name": "stdout",
     "output_type": "stream",
     "text": [
      "Extracting ./data\\MNIST\\raw\\t10k-labels-idx1-ubyte.gz to ./data\\MNIST\\raw\n",
      "Processing...\n",
      "Done!\n"
     ]
    },
    {
     "name": "stderr",
     "output_type": "stream",
     "text": [
      "c:\\users\\sha\\anaconda3\\envs\\tensorflow2\\lib\\site-packages\\torchvision\\datasets\\mnist.py:58: UserWarning: test_data has been renamed data\n",
      "  warnings.warn(\"test_data has been renamed data\")\n",
      "c:\\users\\sha\\anaconda3\\envs\\tensorflow2\\lib\\site-packages\\ipykernel_launcher.py:5: UserWarning: volatile was removed and now has no effect. Use `with torch.no_grad():` instead.\n",
      "  \"\"\"\n",
      "c:\\users\\sha\\anaconda3\\envs\\tensorflow2\\lib\\site-packages\\torchvision\\datasets\\mnist.py:48: UserWarning: test_labels has been renamed targets\n",
      "  warnings.warn(\"test_labels has been renamed targets\")\n"
     ]
    }
   ],
   "source": [
    "train_data = torchvision.datasets.MNIST(root=PATH,train=True, transform=torchvision.transforms.ToTensor(), download=DOWNLOAD_MNIST,)\n",
    "train_loader = Data.DataLoader(dataset = train_data ,batch_size= BATCH_SIZE ,shuffle= True)\n",
    "\n",
    "test_data = torchvision.datasets.MNIST(root = PATH,train = False)\n",
    "test_x = Variable(torch.unsqueeze(test_data.test_data,dim  = 1),volatile = True).type(torch.FloatTensor)[:500]/255.\n",
    "test_y = test_data.test_labels[:500].numpy()"
   ]
  },
  {
   "cell_type": "code",
   "execution_count": 13,
   "metadata": {},
   "outputs": [],
   "source": [
    "\n",
    "class CNN(nn.Module):\n",
    "    def __init__(self):\n",
    "        super(CNN, self).__init__()\n",
    "        self.conv1 = nn.Sequential(\n",
    "            nn.Conv2d( # ???\n",
    "                # patch 7 * 7 ; 1  in channels ; 32 out channels ; ; stride is 1\n",
    "                # padding style is same(that means the convolution opration's input and output have the same size)\n",
    "                in_channels=  1    ,  \n",
    "                out_channels= 32    ,\n",
    "                kernel_size=  7    ,\n",
    "                stride=      1     ,\n",
    "                padding=  (3,3)        ,\n",
    "            ),\n",
    "            nn.ReLU(),        # activation function\n",
    "            nn.MaxPool2d(2),  # pooling operation\n",
    "        )\n",
    "        self.conv2 = nn.Sequential( # ???\n",
    "            # line 1 : convolution function, patch 5*5 , 32 in channels ;64 out channels; padding style is same; stride is 1\n",
    "            # line 2 : choosing your activation funciont\n",
    "            # line 3 : pooling operation function.\n",
    "                nn.Conv2d(\n",
    "                    in_channels=  32    ,  \n",
    "                    out_channels= 64    ,\n",
    "                    kernel_size=  5    ,\n",
    "                    stride=      1     ,\n",
    "                    padding=  (2,2)        ,\n",
    "                ),\n",
    "                nn.ReLU(),        # activation function\n",
    "                nn.MaxPool2d(2),  # pooling operation\n",
    "        )\n",
    "        self.out1 = nn.Linear( 7*7*64 , 1024 , bias= True)   # full connection layer one\n",
    "\n",
    "        self.dropout = nn.Dropout(keep_prob_rate)\n",
    "        self.out2 = nn.Linear(1024,10,bias=True)\n",
    "\n",
    "\n",
    "\n",
    "    def forward(self, x):\n",
    "        x = self.conv1(x)\n",
    "        x = self.conv2(x)\n",
    "        x = x.view(-1,7*7*64)  # flatten the output of coonv2 to (batch_size ,32 * 7 * 7)    # ???\n",
    "        out1 = self.out1(x)\n",
    "        out1 = F.relu(out1)\n",
    "        out1 = self.dropout(out1)\n",
    "        out2 = self.out2(out1)\n",
    "        output = F.softmax(out2)\n",
    "        return output\n",
    "\n",
    "\n",
    "def test(cnn):\n",
    "    global prediction\n",
    "    y_pre = cnn(test_x)\n",
    "    _,pre_index= torch.max(y_pre,1)\n",
    "    pre_index= pre_index.view(-1)\n",
    "    prediction = pre_index.data.numpy()\n",
    "    correct  = np.sum(prediction == test_y)\n",
    "    return correct / 500.0\n",
    "\n",
    "\n",
    "def train(cnn):\n",
    "    optimizer = torch.optim.Adam(cnn.parameters(), lr=learning_rate )\n",
    "    loss_func = nn.CrossEntropyLoss()\n",
    "    for epoch in range(max_epoch):\n",
    "        for step, (x_, y_) in enumerate(train_loader):\n",
    "            x ,y= Variable(x_),Variable(y_)\n",
    "            output = cnn(x)  \n",
    "            loss = loss_func(output,y)\n",
    "            optimizer.zero_grad()\n",
    "            loss.backward()\n",
    "            optimizer.step()\n",
    "            \n",
    "            if step != 0 and step % 20 ==0:\n",
    "                print(\"=\" * 10,step,\"=\"*5,\"=\"*5, \"test accuracy is \",test(cnn) ,\"=\" * 10 )\n"
   ]
  },
  {
   "cell_type": "code",
   "execution_count": 14,
   "metadata": {},
   "outputs": [
    {
     "name": "stdout",
     "output_type": "stream",
     "text": [
      "CNN(\n",
      "  (conv1): Sequential(\n",
      "    (0): Conv2d(1, 32, kernel_size=(7, 7), stride=(1, 1), padding=(3, 3))\n",
      "    (1): ReLU()\n",
      "    (2): MaxPool2d(kernel_size=2, stride=2, padding=0, dilation=1, ceil_mode=False)\n",
      "  )\n",
      "  (conv2): Sequential(\n",
      "    (0): Conv2d(32, 64, kernel_size=(5, 5), stride=(1, 1), padding=(2, 2))\n",
      "    (1): ReLU()\n",
      "    (2): MaxPool2d(kernel_size=2, stride=2, padding=0, dilation=1, ceil_mode=False)\n",
      "  )\n",
      "  (out1): Linear(in_features=3136, out_features=1024, bias=True)\n",
      "  (dropout): Dropout(p=0.7, inplace=False)\n",
      "  (out2): Linear(in_features=1024, out_features=10, bias=True)\n",
      ")\n"
     ]
    }
   ],
   "source": [
    "cnn = CNN()\n",
    "print(cnn)"
   ]
  },
  {
   "cell_type": "code",
   "execution_count": 15,
   "metadata": {},
   "outputs": [
    {
     "name": "stderr",
     "output_type": "stream",
     "text": [
      "c:\\users\\sha\\anaconda3\\envs\\tensorflow2\\lib\\site-packages\\ipykernel_launcher.py:46: UserWarning: Implicit dimension choice for softmax has been deprecated. Change the call to include dim=X as an argument.\n"
     ]
    },
    {
     "name": "stdout",
     "output_type": "stream",
     "text": [
      "========== 20 ===== ===== test accuracy is  0.284 ==========\n",
      "========== 40 ===== ===== test accuracy is  0.326 ==========\n",
      "========== 60 ===== ===== test accuracy is  0.456 ==========\n",
      "========== 80 ===== ===== test accuracy is  0.532 ==========\n",
      "========== 100 ===== ===== test accuracy is  0.592 ==========\n",
      "========== 120 ===== ===== test accuracy is  0.644 ==========\n",
      "========== 140 ===== ===== test accuracy is  0.708 ==========\n",
      "========== 160 ===== ===== test accuracy is  0.71 ==========\n",
      "========== 180 ===== ===== test accuracy is  0.738 ==========\n",
      "========== 200 ===== ===== test accuracy is  0.78 ==========\n",
      "========== 220 ===== ===== test accuracy is  0.784 ==========\n",
      "========== 240 ===== ===== test accuracy is  0.806 ==========\n",
      "========== 260 ===== ===== test accuracy is  0.832 ==========\n",
      "========== 280 ===== ===== test accuracy is  0.832 ==========\n",
      "========== 300 ===== ===== test accuracy is  0.872 ==========\n",
      "========== 320 ===== ===== test accuracy is  0.87 ==========\n",
      "========== 340 ===== ===== test accuracy is  0.87 ==========\n",
      "========== 360 ===== ===== test accuracy is  0.876 ==========\n",
      "========== 380 ===== ===== test accuracy is  0.874 ==========\n",
      "========== 400 ===== ===== test accuracy is  0.874 ==========\n",
      "========== 420 ===== ===== test accuracy is  0.904 ==========\n",
      "========== 440 ===== ===== test accuracy is  0.912 ==========\n",
      "========== 460 ===== ===== test accuracy is  0.906 ==========\n",
      "========== 480 ===== ===== test accuracy is  0.9 ==========\n",
      "========== 500 ===== ===== test accuracy is  0.92 ==========\n",
      "========== 520 ===== ===== test accuracy is  0.918 ==========\n",
      "========== 540 ===== ===== test accuracy is  0.904 ==========\n",
      "========== 560 ===== ===== test accuracy is  0.91 ==========\n",
      "========== 580 ===== ===== test accuracy is  0.902 ==========\n",
      "========== 600 ===== ===== test accuracy is  0.936 ==========\n",
      "========== 620 ===== ===== test accuracy is  0.91 ==========\n",
      "========== 640 ===== ===== test accuracy is  0.924 ==========\n",
      "========== 660 ===== ===== test accuracy is  0.912 ==========\n",
      "========== 680 ===== ===== test accuracy is  0.926 ==========\n",
      "========== 700 ===== ===== test accuracy is  0.938 ==========\n",
      "========== 720 ===== ===== test accuracy is  0.94 ==========\n",
      "========== 740 ===== ===== test accuracy is  0.934 ==========\n",
      "========== 760 ===== ===== test accuracy is  0.94 ==========\n",
      "========== 780 ===== ===== test accuracy is  0.92 ==========\n",
      "========== 800 ===== ===== test accuracy is  0.942 ==========\n",
      "========== 820 ===== ===== test accuracy is  0.944 ==========\n",
      "========== 840 ===== ===== test accuracy is  0.932 ==========\n",
      "========== 860 ===== ===== test accuracy is  0.94 ==========\n",
      "========== 880 ===== ===== test accuracy is  0.942 ==========\n",
      "========== 900 ===== ===== test accuracy is  0.94 ==========\n",
      "========== 920 ===== ===== test accuracy is  0.96 ==========\n",
      "========== 940 ===== ===== test accuracy is  0.94 ==========\n",
      "========== 960 ===== ===== test accuracy is  0.95 ==========\n",
      "========== 980 ===== ===== test accuracy is  0.948 ==========\n",
      "========== 1000 ===== ===== test accuracy is  0.944 ==========\n",
      "========== 1020 ===== ===== test accuracy is  0.936 ==========\n",
      "========== 1040 ===== ===== test accuracy is  0.946 ==========\n",
      "========== 1060 ===== ===== test accuracy is  0.954 ==========\n",
      "========== 1080 ===== ===== test accuracy is  0.946 ==========\n",
      "========== 1100 ===== ===== test accuracy is  0.95 ==========\n",
      "========== 1120 ===== ===== test accuracy is  0.94 ==========\n",
      "========== 1140 ===== ===== test accuracy is  0.95 ==========\n",
      "========== 1160 ===== ===== test accuracy is  0.942 ==========\n",
      "========== 1180 ===== ===== test accuracy is  0.95 ==========\n",
      "========== 20 ===== ===== test accuracy is  0.954 ==========\n",
      "========== 40 ===== ===== test accuracy is  0.95 ==========\n",
      "========== 60 ===== ===== test accuracy is  0.948 ==========\n",
      "========== 80 ===== ===== test accuracy is  0.952 ==========\n",
      "========== 100 ===== ===== test accuracy is  0.96 ==========\n",
      "========== 120 ===== ===== test accuracy is  0.948 ==========\n",
      "========== 140 ===== ===== test accuracy is  0.956 ==========\n",
      "========== 160 ===== ===== test accuracy is  0.956 ==========\n",
      "========== 180 ===== ===== test accuracy is  0.956 ==========\n",
      "========== 200 ===== ===== test accuracy is  0.956 ==========\n",
      "========== 220 ===== ===== test accuracy is  0.956 ==========\n",
      "========== 240 ===== ===== test accuracy is  0.956 ==========\n",
      "========== 260 ===== ===== test accuracy is  0.956 ==========\n",
      "========== 280 ===== ===== test accuracy is  0.948 ==========\n",
      "========== 300 ===== ===== test accuracy is  0.966 ==========\n",
      "========== 320 ===== ===== test accuracy is  0.954 ==========\n",
      "========== 340 ===== ===== test accuracy is  0.952 ==========\n",
      "========== 360 ===== ===== test accuracy is  0.958 ==========\n",
      "========== 380 ===== ===== test accuracy is  0.956 ==========\n",
      "========== 400 ===== ===== test accuracy is  0.956 ==========\n",
      "========== 420 ===== ===== test accuracy is  0.956 ==========\n",
      "========== 440 ===== ===== test accuracy is  0.956 ==========\n",
      "========== 460 ===== ===== test accuracy is  0.958 ==========\n",
      "========== 480 ===== ===== test accuracy is  0.948 ==========\n",
      "========== 500 ===== ===== test accuracy is  0.968 ==========\n",
      "========== 520 ===== ===== test accuracy is  0.968 ==========\n",
      "========== 540 ===== ===== test accuracy is  0.968 ==========\n",
      "========== 560 ===== ===== test accuracy is  0.962 ==========\n",
      "========== 580 ===== ===== test accuracy is  0.964 ==========\n",
      "========== 600 ===== ===== test accuracy is  0.968 ==========\n",
      "========== 620 ===== ===== test accuracy is  0.968 ==========\n",
      "========== 640 ===== ===== test accuracy is  0.962 ==========\n",
      "========== 660 ===== ===== test accuracy is  0.962 ==========\n",
      "========== 680 ===== ===== test accuracy is  0.964 ==========\n",
      "========== 700 ===== ===== test accuracy is  0.964 ==========\n",
      "========== 720 ===== ===== test accuracy is  0.968 ==========\n",
      "========== 740 ===== ===== test accuracy is  0.96 ==========\n",
      "========== 760 ===== ===== test accuracy is  0.968 ==========\n",
      "========== 780 ===== ===== test accuracy is  0.962 ==========\n",
      "========== 800 ===== ===== test accuracy is  0.956 ==========\n",
      "========== 820 ===== ===== test accuracy is  0.96 ==========\n",
      "========== 840 ===== ===== test accuracy is  0.964 ==========\n",
      "========== 860 ===== ===== test accuracy is  0.968 ==========\n",
      "========== 880 ===== ===== test accuracy is  0.956 ==========\n",
      "========== 900 ===== ===== test accuracy is  0.966 ==========\n",
      "========== 920 ===== ===== test accuracy is  0.966 ==========\n",
      "========== 940 ===== ===== test accuracy is  0.972 ==========\n",
      "========== 960 ===== ===== test accuracy is  0.968 ==========\n",
      "========== 980 ===== ===== test accuracy is  0.966 ==========\n",
      "========== 1000 ===== ===== test accuracy is  0.968 ==========\n",
      "========== 1020 ===== ===== test accuracy is  0.964 ==========\n",
      "========== 1040 ===== ===== test accuracy is  0.97 ==========\n",
      "========== 1060 ===== ===== test accuracy is  0.972 ==========\n",
      "========== 1080 ===== ===== test accuracy is  0.962 ==========\n",
      "========== 1100 ===== ===== test accuracy is  0.962 ==========\n",
      "========== 1120 ===== ===== test accuracy is  0.962 ==========\n",
      "========== 1140 ===== ===== test accuracy is  0.964 ==========\n",
      "========== 1160 ===== ===== test accuracy is  0.968 ==========\n",
      "========== 1180 ===== ===== test accuracy is  0.968 ==========\n",
      "========== 20 ===== ===== test accuracy is  0.964 ==========\n",
      "========== 40 ===== ===== test accuracy is  0.964 ==========\n",
      "========== 60 ===== ===== test accuracy is  0.97 ==========\n",
      "========== 80 ===== ===== test accuracy is  0.966 ==========\n",
      "========== 100 ===== ===== test accuracy is  0.972 ==========\n",
      "========== 120 ===== ===== test accuracy is  0.964 ==========\n",
      "========== 140 ===== ===== test accuracy is  0.972 ==========\n",
      "========== 160 ===== ===== test accuracy is  0.968 ==========\n",
      "========== 180 ===== ===== test accuracy is  0.974 ==========\n",
      "========== 200 ===== ===== test accuracy is  0.974 ==========\n",
      "========== 220 ===== ===== test accuracy is  0.97 ==========\n",
      "========== 240 ===== ===== test accuracy is  0.954 ==========\n",
      "========== 260 ===== ===== test accuracy is  0.97 ==========\n",
      "========== 280 ===== ===== test accuracy is  0.962 ==========\n",
      "========== 300 ===== ===== test accuracy is  0.962 ==========\n",
      "========== 320 ===== ===== test accuracy is  0.964 ==========\n",
      "========== 340 ===== ===== test accuracy is  0.974 ==========\n",
      "========== 360 ===== ===== test accuracy is  0.972 ==========\n",
      "========== 380 ===== ===== test accuracy is  0.978 ==========\n",
      "========== 400 ===== ===== test accuracy is  0.97 ==========\n",
      "========== 420 ===== ===== test accuracy is  0.968 ==========\n",
      "========== 440 ===== ===== test accuracy is  0.97 ==========\n",
      "========== 460 ===== ===== test accuracy is  0.972 ==========\n",
      "========== 480 ===== ===== test accuracy is  0.97 ==========\n",
      "========== 500 ===== ===== test accuracy is  0.982 ==========\n",
      "========== 520 ===== ===== test accuracy is  0.986 ==========\n",
      "========== 540 ===== ===== test accuracy is  0.97 ==========\n",
      "========== 560 ===== ===== test accuracy is  0.972 ==========\n",
      "========== 580 ===== ===== test accuracy is  0.962 ==========\n",
      "========== 600 ===== ===== test accuracy is  0.966 ==========\n",
      "========== 620 ===== ===== test accuracy is  0.97 ==========\n",
      "========== 640 ===== ===== test accuracy is  0.968 ==========\n",
      "========== 660 ===== ===== test accuracy is  0.98 ==========\n",
      "========== 680 ===== ===== test accuracy is  0.964 ==========\n",
      "========== 700 ===== ===== test accuracy is  0.976 ==========\n",
      "========== 720 ===== ===== test accuracy is  0.98 ==========\n",
      "========== 740 ===== ===== test accuracy is  0.968 ==========\n",
      "========== 760 ===== ===== test accuracy is  0.964 ==========\n",
      "========== 780 ===== ===== test accuracy is  0.97 ==========\n",
      "========== 800 ===== ===== test accuracy is  0.98 ==========\n",
      "========== 820 ===== ===== test accuracy is  0.974 ==========\n",
      "========== 840 ===== ===== test accuracy is  0.966 ==========\n",
      "========== 860 ===== ===== test accuracy is  0.964 ==========\n",
      "========== 880 ===== ===== test accuracy is  0.98 ==========\n",
      "========== 900 ===== ===== test accuracy is  0.97 ==========\n",
      "========== 920 ===== ===== test accuracy is  0.976 ==========\n",
      "========== 940 ===== ===== test accuracy is  0.97 ==========\n",
      "========== 960 ===== ===== test accuracy is  0.97 ==========\n",
      "========== 980 ===== ===== test accuracy is  0.968 ==========\n",
      "========== 1000 ===== ===== test accuracy is  0.97 ==========\n",
      "========== 1020 ===== ===== test accuracy is  0.976 ==========\n",
      "========== 1040 ===== ===== test accuracy is  0.964 ==========\n",
      "========== 1060 ===== ===== test accuracy is  0.966 ==========\n",
      "========== 1080 ===== ===== test accuracy is  0.97 ==========\n",
      "========== 1100 ===== ===== test accuracy is  0.974 ==========\n",
      "========== 1120 ===== ===== test accuracy is  0.972 ==========\n",
      "========== 1140 ===== ===== test accuracy is  0.986 ==========\n",
      "========== 1160 ===== ===== test accuracy is  0.976 ==========\n",
      "========== 1180 ===== ===== test accuracy is  0.974 ==========\n"
     ]
    }
   ],
   "source": [
    "train(cnn)"
   ]
  },
  {
   "cell_type": "markdown",
   "metadata": {},
   "source": [
    "# 修改为 GPU"
   ]
  },
  {
   "cell_type": "code",
   "execution_count": 10,
   "metadata": {},
   "outputs": [],
   "source": [
    "import os\n",
    "import torch\n",
    "import torch.nn as nn\n",
    "from torch.autograd import Variable\n",
    "import torch.utils.data as Data\n",
    "import torchvision\n",
    "import torch.nn.functional as F\n",
    "import numpy as np\n",
    "learning_rate = 1e-4\n",
    "keep_prob_rate = 0.7 #\n",
    "max_epoch = 8\n",
    "BATCH_SIZE = 500\n",
    "\n",
    "DOWNLOAD_MNIST = False\n",
    "PATH='./data'\n",
    "if not(os.path.exists(PATH)) or not os.listdir(PATH):\n",
    "    # not mnist dir or mnist is empyt dir\n",
    "    DOWNLOAD_MNIST = True"
   ]
  },
  {
   "cell_type": "code",
   "execution_count": 11,
   "metadata": {},
   "outputs": [],
   "source": [
    "train_data = torchvision.datasets.MNIST(root=PATH,train=True, transform=torchvision.transforms.ToTensor(), download=DOWNLOAD_MNIST,)\n",
    "train_loader = Data.DataLoader(dataset = train_data ,batch_size= BATCH_SIZE ,shuffle= True)\n",
    "\n",
    "test_data = torchvision.datasets.MNIST(root = PATH,train = False)"
   ]
  },
  {
   "cell_type": "code",
   "execution_count": 12,
   "metadata": {},
   "outputs": [],
   "source": [
    "device = torch.device(\"cuda\")"
   ]
  },
  {
   "cell_type": "code",
   "execution_count": 13,
   "metadata": {},
   "outputs": [],
   "source": [
    "test_x = Variable(torch.unsqueeze(test_data.test_data,dim  = 1)).type(torch.FloatTensor)[:500]/255.\n",
    "test_y = test_data.targets[:500].numpy()\n",
    "test_x=test_x.to(device)"
   ]
  },
  {
   "cell_type": "code",
   "execution_count": 14,
   "metadata": {},
   "outputs": [
    {
     "data": {
      "text/plain": [
       "7"
      ]
     },
     "execution_count": 14,
     "metadata": {},
     "output_type": "execute_result"
    }
   ],
   "source": [
    "test_y[0]"
   ]
  },
  {
   "cell_type": "code",
   "execution_count": 15,
   "metadata": {},
   "outputs": [],
   "source": [
    "class CNN(nn.Module):\n",
    "    def __init__(self):\n",
    "        super(CNN, self).__init__()\n",
    "        self.conv1 = nn.Sequential(\n",
    "            nn.Conv2d( # ???\n",
    "                # patch 7 * 7 ; 1  in channels ; 32 out channels ; ; stride is 1\n",
    "                # padding style is same(that means the convolution opration's input and output have the same size)\n",
    "                in_channels=  1    ,  \n",
    "                out_channels= 32    ,\n",
    "                kernel_size=  7    ,\n",
    "                stride=      1     ,\n",
    "                padding=  (3,3)        ,\n",
    "            ),\n",
    "            nn.ReLU(),        # activation function\n",
    "            nn.MaxPool2d(2),  # pooling operation\n",
    "        )\n",
    "        self.conv2 = nn.Sequential( # ???\n",
    "            # line 1 : convolution function, patch 5*5 , 32 in channels ;64 out channels; padding style is same; stride is 1\n",
    "            # line 2 : choosing your activation funciont\n",
    "            # line 3 : pooling operation function.\n",
    "                nn.Conv2d(\n",
    "                    in_channels=  32    ,  \n",
    "                    out_channels= 64    ,\n",
    "                    kernel_size=  5    ,\n",
    "                    stride=      1     ,\n",
    "                    padding=  (2,2)        ,\n",
    "                ),\n",
    "                nn.ReLU(),        # activation function\n",
    "                nn.MaxPool2d(2),  # pooling operation\n",
    "        )\n",
    "        self.out1 = nn.Linear( 7*7*64 , 1024 , bias= True)   # full connection layer one\n",
    "\n",
    "        self.dropout = nn.Dropout(keep_prob_rate)\n",
    "        self.out2 = nn.Linear(1024,10,bias=True)\n",
    "\n",
    "\n",
    "\n",
    "    def forward(self, x):\n",
    "        x = self.conv1(x)\n",
    "        x = self.conv2(x)\n",
    "        x = x.view(-1,7*7*64)  # flatten the output of coonv2 to (batch_size ,32 * 7 * 7)    # ???\n",
    "        out1 = self.out1(x)\n",
    "        out1 = F.relu(out1)\n",
    "        out1 = self.dropout(out1)\n",
    "        out2 = self.out2(out1)\n",
    "        output = F.softmax(out2)\n",
    "        return output\n",
    "\n",
    "\n",
    "def test(cnn):\n",
    "    global prediction\n",
    "    cnn.eval()\n",
    "    y_pre = cnn(test_x)\n",
    "    _,pre_index= torch.max(y_pre,1)\n",
    "    pre_index= pre_index.view(-1)\n",
    "    prediction = pre_index.data.cpu().numpy()\n",
    "    correct  = np.sum(prediction == test_y)\n",
    "    cnn.train()\n",
    "    return correct / 500.0\n",
    "\n",
    "\n",
    "def train(cnn):\n",
    "    optimizer = torch.optim.Adam(cnn.parameters(), lr=learning_rate )\n",
    "    loss_func = nn.CrossEntropyLoss()\n",
    "    for epoch in range(max_epoch):\n",
    "        for step, (x_, y_) in enumerate(train_loader):\n",
    "            x ,y= x_.to(device),y_.to(device)\n",
    "            output = cnn(x)  \n",
    "            loss = loss_func(output,y)\n",
    "            optimizer.zero_grad()\n",
    "            loss.backward()\n",
    "            optimizer.step()\n",
    "            \n",
    "            if step != 0 and step % 20 ==0:\n",
    "                print(\"=\" * 10,step,\"=\"*5,\"=\"*5, \"test accuracy is \",test(cnn) ,\"=\" * 10 )\n"
   ]
  },
  {
   "cell_type": "code",
   "execution_count": 16,
   "metadata": {},
   "outputs": [
    {
     "name": "stdout",
     "output_type": "stream",
     "text": [
      "CNN(\n",
      "  (conv1): Sequential(\n",
      "    (0): Conv2d(1, 32, kernel_size=(7, 7), stride=(1, 1), padding=(3, 3))\n",
      "    (1): ReLU()\n",
      "    (2): MaxPool2d(kernel_size=2, stride=2, padding=0, dilation=1, ceil_mode=False)\n",
      "  )\n",
      "  (conv2): Sequential(\n",
      "    (0): Conv2d(32, 64, kernel_size=(5, 5), stride=(1, 1), padding=(2, 2))\n",
      "    (1): ReLU()\n",
      "    (2): MaxPool2d(kernel_size=2, stride=2, padding=0, dilation=1, ceil_mode=False)\n",
      "  )\n",
      "  (out1): Linear(in_features=3136, out_features=1024, bias=True)\n",
      "  (dropout): Dropout(p=0.7, inplace=False)\n",
      "  (out2): Linear(in_features=1024, out_features=10, bias=True)\n",
      ")\n"
     ]
    }
   ],
   "source": [
    "cnn = CNN()\n",
    "cnn=cnn.to(device)\n",
    "print(cnn)"
   ]
  },
  {
   "cell_type": "code",
   "execution_count": 17,
   "metadata": {},
   "outputs": [
    {
     "name": "stderr",
     "output_type": "stream",
     "text": [
      "c:\\users\\sha\\anaconda3\\envs\\tensorflow2\\lib\\site-packages\\ipykernel_launcher.py:46: UserWarning: Implicit dimension choice for softmax has been deprecated. Change the call to include dim=X as an argument.\n"
     ]
    },
    {
     "name": "stdout",
     "output_type": "stream",
     "text": [
      "========== 20 ===== ===== test accuracy is  0.304 ==========\n",
      "========== 40 ===== ===== test accuracy is  0.61 ==========\n",
      "========== 60 ===== ===== test accuracy is  0.682 ==========\n",
      "========== 80 ===== ===== test accuracy is  0.764 ==========\n",
      "========== 100 ===== ===== test accuracy is  0.826 ==========\n",
      "========== 20 ===== ===== test accuracy is  0.878 ==========\n",
      "========== 40 ===== ===== test accuracy is  0.902 ==========\n",
      "========== 60 ===== ===== test accuracy is  0.914 ==========\n",
      "========== 80 ===== ===== test accuracy is  0.922 ==========\n",
      "========== 100 ===== ===== test accuracy is  0.918 ==========\n",
      "========== 20 ===== ===== test accuracy is  0.936 ==========\n",
      "========== 40 ===== ===== test accuracy is  0.94 ==========\n",
      "========== 60 ===== ===== test accuracy is  0.942 ==========\n",
      "========== 80 ===== ===== test accuracy is  0.942 ==========\n",
      "========== 100 ===== ===== test accuracy is  0.946 ==========\n",
      "========== 20 ===== ===== test accuracy is  0.952 ==========\n",
      "========== 40 ===== ===== test accuracy is  0.958 ==========\n",
      "========== 60 ===== ===== test accuracy is  0.96 ==========\n",
      "========== 80 ===== ===== test accuracy is  0.96 ==========\n",
      "========== 100 ===== ===== test accuracy is  0.96 ==========\n",
      "========== 20 ===== ===== test accuracy is  0.968 ==========\n",
      "========== 40 ===== ===== test accuracy is  0.966 ==========\n",
      "========== 60 ===== ===== test accuracy is  0.97 ==========\n",
      "========== 80 ===== ===== test accuracy is  0.97 ==========\n",
      "========== 100 ===== ===== test accuracy is  0.968 ==========\n",
      "========== 20 ===== ===== test accuracy is  0.972 ==========\n",
      "========== 40 ===== ===== test accuracy is  0.974 ==========\n",
      "========== 60 ===== ===== test accuracy is  0.974 ==========\n",
      "========== 80 ===== ===== test accuracy is  0.974 ==========\n",
      "========== 100 ===== ===== test accuracy is  0.976 ==========\n",
      "========== 20 ===== ===== test accuracy is  0.978 ==========\n",
      "========== 40 ===== ===== test accuracy is  0.974 ==========\n",
      "========== 60 ===== ===== test accuracy is  0.976 ==========\n",
      "========== 80 ===== ===== test accuracy is  0.976 ==========\n",
      "========== 100 ===== ===== test accuracy is  0.978 ==========\n",
      "========== 20 ===== ===== test accuracy is  0.976 ==========\n",
      "========== 40 ===== ===== test accuracy is  0.978 ==========\n",
      "========== 60 ===== ===== test accuracy is  0.98 ==========\n",
      "========== 80 ===== ===== test accuracy is  0.98 ==========\n",
      "========== 100 ===== ===== test accuracy is  0.98 ==========\n"
     ]
    }
   ],
   "source": [
    "train(cnn)"
   ]
  },
  {
   "cell_type": "code",
   "execution_count": null,
   "metadata": {},
   "outputs": [],
   "source": []
  }
 ],
 "metadata": {
  "anaconda-cloud": {},
  "kernelspec": {
   "display_name": "Python 3",
   "language": "python",
   "name": "python3"
  },
  "language_info": {
   "codemirror_mode": {
    "name": "ipython",
    "version": 3
   },
   "file_extension": ".py",
   "mimetype": "text/x-python",
   "name": "python",
   "nbconvert_exporter": "python",
   "pygments_lexer": "ipython3",
   "version": "3.6.2"
  }
 },
 "nbformat": 4,
 "nbformat_minor": 1
}
