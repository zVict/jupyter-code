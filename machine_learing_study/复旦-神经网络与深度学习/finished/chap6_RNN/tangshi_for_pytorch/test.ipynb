{
 "cells": [
  {
   "cell_type": "code",
   "execution_count": 5,
   "metadata": {},
   "outputs": [],
   "source": [
    "from code1.main import *\n",
    "from code1.rnn import *"
   ]
  },
  {
   "cell_type": "code",
   "execution_count": 6,
   "metadata": {},
   "outputs": [
    {
     "name": "stdout",
     "output_type": "stream",
     "text": [
      "inital  linear weight \n",
      "日来不陵同不从E。\n",
      "inital  linear weight \n",
      "红策青一白雪E。\n",
      "inital  linear weight \n",
      "山E。\n",
      "inital  linear weight \n",
      "夜水神不其野白人之同上吾陵野难E。\n",
      "inital  linear weight \n",
      "湖云门闻不飞E。\n",
      "inital  linear weight \n",
      "湖云门闻不飞E。\n",
      "inital  linear weight \n",
      "湖云门闻不飞E。\n",
      "inital  linear weight \n",
      "君不台长神不其野白人之同上古春风E。\n"
     ]
    }
   ],
   "source": [
    "pretty_print_poem(gen_poem(\"日\",model=r\"./code1\\poem_generator_rnn\"))\n",
    "pretty_print_poem(gen_poem(\"红\",model=r\"./code1\\poem_generator_rnn\"))\n",
    "pretty_print_poem(gen_poem(\"山\",model=r\"./code1\\poem_generator_rnn\"))\n",
    "pretty_print_poem(gen_poem(\"夜\",model=r\"./code1\\poem_generator_rnn\"))\n",
    "pretty_print_poem(gen_poem(\"湖\",model=r\"./code1\\poem_generator_rnn\"))\n",
    "pretty_print_poem(gen_poem(\"湖\",model=r\"./code1\\poem_generator_rnn\"))\n",
    "pretty_print_poem(gen_poem(\"湖\",model=r\"./code1\\poem_generator_rnn\"))\n",
    "pretty_print_poem(gen_poem(\"君\",model=r\"./code1\\poem_generator_rnn\"))"
   ]
  },
  {
   "cell_type": "code",
   "execution_count": 7,
   "metadata": {},
   "outputs": [],
   "source": [
    "from code2.main import *\n",
    "from code2.rnn import *"
   ]
  },
  {
   "cell_type": "code",
   "execution_count": 8,
   "metadata": {},
   "outputs": [
    {
     "name": "stdout",
     "output_type": "stream",
     "text": [
      "error\n",
      "inital  linear weight \n",
      "日，月明时。\n",
      "E。\n",
      "error\n",
      "inital  linear weight \n",
      "红。\n",
      "欲归一何人，不如不成风。\n",
      "E。\n",
      "error\n",
      "inital  linear weight \n",
      "山树，一片春光落残。\n",
      "所心不复不相见，一片何人不同见。\n",
      "E。\n",
      "error\n",
      "inital  linear weight \n",
      "夜，风满人门里。\n",
      "何当不可见，不见人间别。\n",
      "E。\n",
      "error\n",
      "inital  linear weight \n",
      "湖殿，玉兔入青门。\n",
      "E。\n",
      "error\n",
      "inital  linear weight \n",
      "湖殿，玉兔入青门。\n",
      "E。\n",
      "error\n",
      "inital  linear weight \n",
      "湖殿，玉兔入青门。\n",
      "E。\n",
      "error\n",
      "inital  linear weight \n",
      "君子，不见清光不。\n",
      "E。\n"
     ]
    }
   ],
   "source": [
    "pretty_print_poem(gen_poem(\"日\",model=r\"./code2\\poem_generator_rnn\"))\n",
    "pretty_print_poem(gen_poem(\"红\",model=r\"./code2\\poem_generator_rnn\"))\n",
    "pretty_print_poem(gen_poem(\"山\",model=r\"./code2\\poem_generator_rnn\"))\n",
    "pretty_print_poem(gen_poem(\"夜\",model=r\"./code2\\poem_generator_rnn\"))\n",
    "pretty_print_poem(gen_poem(\"湖\",model=r\"./code2\\poem_generator_rnn\"))\n",
    "pretty_print_poem(gen_poem(\"湖\",model=r\"./code2\\poem_generator_rnn\"))\n",
    "pretty_print_poem(gen_poem(\"湖\",model=r\"./code2\\poem_generator_rnn\"))\n",
    "pretty_print_poem(gen_poem(\"君\",model=r\"./code2\\poem_generator_rnn\"))"
   ]
  },
  {
   "cell_type": "code",
   "execution_count": null,
   "metadata": {},
   "outputs": [],
   "source": []
  }
 ],
 "metadata": {
  "kernelspec": {
   "display_name": "Python 3",
   "language": "python",
   "name": "python3"
  },
  "language_info": {
   "codemirror_mode": {
    "name": "ipython",
    "version": 3
   },
   "file_extension": ".py",
   "mimetype": "text/x-python",
   "name": "python",
   "nbconvert_exporter": "python",
   "pygments_lexer": "ipython3",
   "version": "3.6.2"
  }
 },
 "nbformat": 4,
 "nbformat_minor": 2
}
