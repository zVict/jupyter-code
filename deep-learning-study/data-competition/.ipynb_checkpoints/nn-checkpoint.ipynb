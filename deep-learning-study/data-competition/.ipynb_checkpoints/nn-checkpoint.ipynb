{
 "cells": [
  {
   "cell_type": "code",
   "execution_count": 1,
   "metadata": {},
   "outputs": [],
   "source": [
    "import tensorflow as tf\n",
    "import pandas as pd"
   ]
  },
  {
   "cell_type": "code",
   "execution_count": 2,
   "metadata": {},
   "outputs": [],
   "source": [
    "df = pd.read_csv('data/first_round_training_data.csv')"
   ]
  },
  {
   "cell_type": "code",
   "execution_count": 3,
   "metadata": {
    "collapsed": true,
    "jupyter": {
     "outputs_hidden": true
    }
   },
   "outputs": [
    {
     "data": {
      "text/plain": [
       "<bound method NDFrame.head of       Parameter1  Parameter2  Parameter3  Parameter4  Parameter5  Parameter6  \\\n",
       "0       0.001660    0.591013  147.608373   38.186345    0.000421    0.000612   \n",
       "1       1.601749    0.015052    0.035864   51.130326    0.000909    0.002397   \n",
       "2       0.098039   69.233685    0.080920    0.112265    0.000909    0.001972   \n",
       "3      18.181860    0.047325    0.018061    1.098102    0.000909    0.002397   \n",
       "4       0.012085    0.008749    0.005509  524.327396    0.000909    0.002397   \n",
       "...          ...         ...         ...         ...         ...         ...   \n",
       "5995  317.161934    7.690017    0.253716    1.097810    5.984919    4.818868   \n",
       "5996    7.351795    0.012633    6.496857    0.003896    5.362018    4.818868   \n",
       "5997    0.400401    0.097580    0.005807    2.848211    3.856009    2.208755   \n",
       "5998    0.133547    0.013352    3.396037    0.351274    4.803947    5.856584   \n",
       "5999   39.168075   46.937661    1.385588    9.046348    4.803947    3.262468   \n",
       "\n",
       "       Parameter7  Parameter8  Parameter9  Parameter10  ...    Attribute2  \\\n",
       "0     2286.523413    0.035407    0.593081     1.010385  ...      0.168761   \n",
       "1     2286.523413    0.035407    0.593081     1.010385  ...     11.649033   \n",
       "2     2286.523413    0.035407    0.593081     1.010385  ...      0.078213   \n",
       "3     2286.523413    0.035407    0.593081     1.010385  ...      0.380281   \n",
       "4     2286.523413    0.035407    0.593081     1.010385  ...      1.555672   \n",
       "...           ...         ...         ...          ...  ...           ...   \n",
       "5995     0.152059    0.035407    0.593081     1.948330  ...      0.005857   \n",
       "5996     0.152059    0.035407    0.593081     1.948330  ...  27610.696002   \n",
       "5997     0.152059    0.035407    0.593081     1.948330  ...      0.076602   \n",
       "5998     0.152059    0.035407    0.593081     1.948330  ...      0.000068   \n",
       "5999     0.152059    0.035407    0.593081     1.948330  ...      0.018186   \n",
       "\n",
       "      Attribute3  Attribute4  Attribute5    Attribute6  Attribute7  \\\n",
       "0       1.098755   36.955992    8.454598     11.438066  177.243120   \n",
       "1       0.066671  225.632949    0.481860  20597.447822    3.723330   \n",
       "2     110.079689    2.208138    0.073525    236.079314    0.064196   \n",
       "3       0.011491    0.654517    0.025872    176.948915    0.029777   \n",
       "4      38.613386    0.260989    0.009380    194.798039    0.055053   \n",
       "...          ...         ...         ...           ...         ...   \n",
       "5995    0.003829    0.027396    0.008576      6.124409    0.405692   \n",
       "5996    0.000805    0.253362    0.057910     10.390009    0.229278   \n",
       "5997   12.709665    0.188337    0.040479     11.438066    1.163413   \n",
       "5998   11.701964    0.026596    0.011219      3.787746    0.033968   \n",
       "5999    0.070537    0.020978    0.015120      1.594963    0.196625   \n",
       "\n",
       "      Attribute8  Attribute9  Attribute10  Quality_label  \n",
       "0     338.729256    2.021704     0.079526           Pass  \n",
       "1      15.376190    0.986973     4.634376           Fail  \n",
       "2       0.576302   33.875790     1.813727           Fail  \n",
       "3       0.246726   27.117165     0.081819           Fail  \n",
       "4       0.014725   13.569707    18.138496           Fail  \n",
       "...          ...         ...          ...            ...  \n",
       "5995    0.290754    0.458581     0.075130           Pass  \n",
       "5996    0.267837    0.015498     0.476769           Pass  \n",
       "5997    0.530878    0.197839     0.128941           Pass  \n",
       "5998    0.172866    0.011237     5.985572           Pass  \n",
       "5999    0.168200    0.033354     0.144469           Pass  \n",
       "\n",
       "[6000 rows x 21 columns]>"
      ]
     },
     "execution_count": 3,
     "metadata": {},
     "output_type": "execute_result"
    }
   ],
   "source": [
    "df.head"
   ]
  },
  {
   "cell_type": "code",
   "execution_count": null,
   "metadata": {},
   "outputs": [],
   "source": [
    "def get_compiled_model():\n",
    "    model = tf.keras.Sequential([\n",
    "        tf.keras.layers.Dense(10, activation='relu'),\n",
    "        tf.keras.layers.Dense(10, activation='relu'),\n",
    "        tf.keras.layers.Dense(1, activation='sigmoid')\n",
    "    ])\n",
    "\n",
    "    model.compile(optimizer='adam',\n",
    "                  loss='binary_crossentropy',\n",
    "                  metrics=['accuracy'])\n",
    "    return model"
   ]
  },
  {
   "cell_type": "code",
   "execution_count": null,
   "metadata": {},
   "outputs": [],
   "source": []
  }
 ],
 "metadata": {
  "kernelspec": {
   "display_name": "Python 3",
   "language": "python",
   "name": "python3"
  },
  "language_info": {
   "codemirror_mode": {
    "name": "ipython",
    "version": 3
   },
   "file_extension": ".py",
   "mimetype": "text/x-python",
   "name": "python",
   "nbconvert_exporter": "python",
   "pygments_lexer": "ipython3",
   "version": "3.7.3"
  }
 },
 "nbformat": 4,
 "nbformat_minor": 4
}
