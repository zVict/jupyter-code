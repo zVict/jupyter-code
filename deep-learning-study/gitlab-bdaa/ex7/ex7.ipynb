{
 "cells": [
  {
   "cell_type": "code",
   "execution_count": 1,
   "metadata": {},
   "outputs": [],
   "source": [
    "import numpy as np\n",
    "from sklearn.datasets import load_iris\n",
    "from sklearn.utils import check_array\n",
    "from sklearn.model_selection import train_test_split\n",
    "from sklearn.naive_bayes import GaussianNB"
   ]
  },
  {
   "cell_type": "code",
   "execution_count": 2,
   "metadata": {},
   "outputs": [],
   "source": [
    "class idfGaussianNB:\n",
    "    def __init__(self, var_smoothing=1e-9):\n",
    "        self.var_smoothing = var_smoothing\n",
    "        \n",
    "    def fit(self, X, y):\n",
    "        n_smaples, n_features = X.shape\n",
    "        if(n_smaples != y.shape[0]):\n",
    "            raise ValueError('X and y have incompatible shapes.')\n",
    "        self._classes = unique_y = np.unique(y)\n",
    "        n_classes = unique_y.shape[0]\n",
    "        self._theta = np.zeros((n_classes, n_features))\n",
    "        self._sigma = np.zeros((n_classes, n_features))\n",
    "        self._class_prior = np.zeros(n_classes)\n",
    "        self._epsilon = self.var_smoothing * np.var(X, axis=0).max()\n",
    "        for i, y_i in enumerate(unique_y):\n",
    "            self._theta[i, :] = np.mean(X[y == y_i, :], axis=0)\n",
    "            self._sigma[i, :] = np.var(X[y == y_i, :]) + self._epsilon\n",
    "            self._class_prior[i] = np.float(np.sum(y == y_i)) / n_smaples\n",
    "        return self\n",
    "    \n",
    "    def predict(self, X):\n",
    "        jll = self.joint_log_likelihood(X)\n",
    "        return self._classes[np.argmax(jll, axis=1)]\n",
    "    \n",
    "    def predict_proba(self, X):\n",
    "        return np.exp(self.predict_log_prob(X))\n",
    "    \n",
    "    def predict_log_prob(self, X):\n",
    "        jll = self.joint_log_likelihood(X)\n",
    "        log_prob_x = np.log(np.sum(np.exp(jll)))\n",
    "        return jll-np.atleast_2d(log_prob_x).T\n",
    "        \n",
    "    def joint_log_likelihood(self, X):\n",
    "        X = np.atleast_2d(X)\n",
    "        joint_log_likelihood = []\n",
    "        for i in range(np.size(self._classes)):\n",
    "            jointi = np.log(self._class_prior[i])\n",
    "            n_ij = - 0.5 * np.sum(np.log(2. * np.pi * self._sigma[i, :]))\n",
    "            n_ij -= 0.5 * np.sum(((X - self._theta[i, :]) ** 2) /\n",
    "                                 (self._sigma[i, :]), 1)\n",
    "            joint_log_likelihood.append(jointi + n_ij)\n",
    "\n",
    "        joint_log_likelihood = np.array(joint_log_likelihood).T\n",
    "        return joint_log_likelihood\n",
    "        "
   ]
  },
  {
   "cell_type": "code",
   "execution_count": 3,
   "metadata": {},
   "outputs": [],
   "source": [
    "data = load_iris()\n",
    "\n",
    "X = data.data\n",
    "y = data.target\n",
    "\n",
    "X_train, X_test, y_train, y_test = train_test_split(X, y, random_state=10)"
   ]
  },
  {
   "cell_type": "code",
   "execution_count": 4,
   "metadata": {},
   "outputs": [],
   "source": [
    "idf_clf = idfGaussianNB()\n",
    "clf = GaussianNB()"
   ]
  },
  {
   "cell_type": "code",
   "execution_count": 5,
   "metadata": {},
   "outputs": [
    {
     "data": {
      "text/plain": [
       "GaussianNB(priors=None, var_smoothing=1e-09)"
      ]
     },
     "execution_count": 5,
     "metadata": {},
     "output_type": "execute_result"
    }
   ],
   "source": [
    "idf_clf.fit(X_train, y_train)\n",
    "clf.fit(X_train, y_train)"
   ]
  },
  {
   "cell_type": "code",
   "execution_count": 6,
   "metadata": {},
   "outputs": [
    {
     "data": {
      "text/plain": [
       "array([1, 1, 0, 1, 0, 1, 1, 1, 0, 1, 1, 1, 1, 0, 0, 2, 1, 0, 0, 0, 2, 2,\n",
       "       1, 0, 1, 0, 1, 1, 1, 2, 1, 1, 2, 1, 1, 0, 2, 2])"
      ]
     },
     "execution_count": 6,
     "metadata": {},
     "output_type": "execute_result"
    }
   ],
   "source": [
    "idf_clf.predict(X_test)"
   ]
  },
  {
   "cell_type": "code",
   "execution_count": 7,
   "metadata": {},
   "outputs": [
    {
     "data": {
      "text/plain": [
       "array([1, 2, 0, 1, 0, 1, 1, 1, 0, 1, 1, 2, 1, 0, 0, 2, 1, 0, 0, 0, 2, 2,\n",
       "       2, 0, 1, 0, 1, 1, 1, 2, 1, 1, 2, 2, 2, 0, 2, 2])"
      ]
     },
     "execution_count": 7,
     "metadata": {},
     "output_type": "execute_result"
    }
   ],
   "source": [
    "clf.predict(X_test)"
   ]
  },
  {
   "cell_type": "code",
   "execution_count": 8,
   "metadata": {},
   "outputs": [
    {
     "name": "stdout",
     "output_type": "stream",
     "text": [
      "Same prediction on training set:\n",
      " [ 12 100]\n",
      "Same prediction on test set:\n",
      " [ 5 33]\n"
     ]
    }
   ],
   "source": [
    "print('Same prediction on training set:\\n', \n",
    "      np.bincount(idf_clf.predict(X_train) == clf.predict(X_train)))\n",
    "print('Same prediction on test set:\\n', \n",
    "      np.bincount(idf_clf.predict(X_test) == clf.predict(X_test)))"
   ]
  },
  {
   "cell_type": "code",
   "execution_count": null,
   "metadata": {},
   "outputs": [],
   "source": []
  }
 ],
 "metadata": {
  "kernelspec": {
   "display_name": "Python 3",
   "language": "python",
   "name": "python3"
  },
  "language_info": {
   "codemirror_mode": {
    "name": "ipython",
    "version": 3
   },
   "file_extension": ".py",
   "mimetype": "text/x-python",
   "name": "python",
   "nbconvert_exporter": "python",
   "pygments_lexer": "ipython3",
   "version": "3.7.3"
  }
 },
 "nbformat": 4,
 "nbformat_minor": 4
}
